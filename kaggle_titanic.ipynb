{
 "cells": [
  {
   "cell_type": "markdown",
   "metadata": {},
   "source": [
    "# Titanic: Machine Learning from Disaster\n",
    "\n",
    "The goal of this model is given set of features to predict if passanger survived the trangedy of RMS Titanic in 1912.\n",
    "\n",
    "I have done no research on other participant contributions to not get biased towards their solutions and try something completely of my own.\n",
    "\n",
    "## Data ##\n",
    "**Dataset:** 891 data points, 10 features, 1 label\n",
    "**Test set:** 418 data points, 10 features\n",
    "\n",
    "**Features**:\n",
    "- Class of travel\n",
    "- Name\n",
    "- Gender\n",
    "- Age\n",
    "- Number of Sibling/Spouse aboard\n",
    "- Number of Parent/Child aboard\n",
    "- Ticket\n",
    "- Fare\n",
    "- Cabin\n",
    "- Embarked\n",
    "\n",
    "Not all passangers have all features. Also some features such as Name, Ticket or Cabin do not have standardized format.\n",
    "\n",
    "**Labels**:\n",
    "- Survived: 1 if passanger survived the tragedy, 0 if not"
   ]
  },
  {
   "cell_type": "code",
   "execution_count": 246,
   "metadata": {},
   "outputs": [
    {
     "name": "stdout",
     "output_type": "stream",
     "text": [
      "2.0.0-alpha0\n"
     ]
    }
   ],
   "source": [
    "from sklearn.model_selection import train_test_split\n",
    "from sklearn.linear_model import LogisticRegression\n",
    "from sklearn.tree import DecisionTreeClassifier\n",
    "from sklearn import svm\n",
    "from sklearn.ensemble import AdaBoostClassifier\n",
    "from xgboost import XGBClassifier\n",
    "import tensorflow as tf\n",
    "if tf.__version__ == \"2.0.0-alpha0\":\n",
    "    from tensorflow.keras import layers\n",
    "    from tensorflow.keras import optimizers\n",
    "    from tensorflow.keras.layers import Input, Dense, Flatten\n",
    "    from tensorflow.keras.models import Model\n",
    "else:\n",
    "    from keras import layers\n",
    "    from keras import optimizers\n",
    "    from keras.layers import Input, Dense, Flatten\n",
    "    from keras.models import Model\n",
    "import pandas as pd\n",
    "import numpy as np\n",
    "import matplotlib\n",
    "print(tf.__version__)"
   ]
  },
  {
   "cell_type": "code",
   "execution_count": 247,
   "metadata": {},
   "outputs": [],
   "source": [
    "# Load dataset\n",
    "dataset = pd.read_csv(\"dataset/train.csv\")"
   ]
  },
  {
   "cell_type": "code",
   "execution_count": 248,
   "metadata": {},
   "outputs": [
    {
     "data": {
      "text/html": [
       "<div>\n",
       "<style scoped>\n",
       "    .dataframe tbody tr th:only-of-type {\n",
       "        vertical-align: middle;\n",
       "    }\n",
       "\n",
       "    .dataframe tbody tr th {\n",
       "        vertical-align: top;\n",
       "    }\n",
       "\n",
       "    .dataframe thead th {\n",
       "        text-align: right;\n",
       "    }\n",
       "</style>\n",
       "<table border=\"1\" class=\"dataframe\">\n",
       "  <thead>\n",
       "    <tr style=\"text-align: right;\">\n",
       "      <th></th>\n",
       "      <th>PassengerId</th>\n",
       "      <th>Survived</th>\n",
       "      <th>Pclass</th>\n",
       "      <th>Name</th>\n",
       "      <th>Sex</th>\n",
       "      <th>Age</th>\n",
       "      <th>SibSp</th>\n",
       "      <th>Parch</th>\n",
       "      <th>Ticket</th>\n",
       "      <th>Fare</th>\n",
       "      <th>Cabin</th>\n",
       "      <th>Embarked</th>\n",
       "    </tr>\n",
       "  </thead>\n",
       "  <tbody>\n",
       "    <tr>\n",
       "      <th>0</th>\n",
       "      <td>1</td>\n",
       "      <td>0</td>\n",
       "      <td>3</td>\n",
       "      <td>Braund, Mr. Owen Harris</td>\n",
       "      <td>male</td>\n",
       "      <td>22.0</td>\n",
       "      <td>1</td>\n",
       "      <td>0</td>\n",
       "      <td>A/5 21171</td>\n",
       "      <td>7.2500</td>\n",
       "      <td>NaN</td>\n",
       "      <td>S</td>\n",
       "    </tr>\n",
       "    <tr>\n",
       "      <th>1</th>\n",
       "      <td>2</td>\n",
       "      <td>1</td>\n",
       "      <td>1</td>\n",
       "      <td>Cumings, Mrs. John Bradley (Florence Briggs Th...</td>\n",
       "      <td>female</td>\n",
       "      <td>38.0</td>\n",
       "      <td>1</td>\n",
       "      <td>0</td>\n",
       "      <td>PC 17599</td>\n",
       "      <td>71.2833</td>\n",
       "      <td>C85</td>\n",
       "      <td>C</td>\n",
       "    </tr>\n",
       "    <tr>\n",
       "      <th>2</th>\n",
       "      <td>3</td>\n",
       "      <td>1</td>\n",
       "      <td>3</td>\n",
       "      <td>Heikkinen, Miss. Laina</td>\n",
       "      <td>female</td>\n",
       "      <td>26.0</td>\n",
       "      <td>0</td>\n",
       "      <td>0</td>\n",
       "      <td>STON/O2. 3101282</td>\n",
       "      <td>7.9250</td>\n",
       "      <td>NaN</td>\n",
       "      <td>S</td>\n",
       "    </tr>\n",
       "    <tr>\n",
       "      <th>3</th>\n",
       "      <td>4</td>\n",
       "      <td>1</td>\n",
       "      <td>1</td>\n",
       "      <td>Futrelle, Mrs. Jacques Heath (Lily May Peel)</td>\n",
       "      <td>female</td>\n",
       "      <td>35.0</td>\n",
       "      <td>1</td>\n",
       "      <td>0</td>\n",
       "      <td>113803</td>\n",
       "      <td>53.1000</td>\n",
       "      <td>C123</td>\n",
       "      <td>S</td>\n",
       "    </tr>\n",
       "    <tr>\n",
       "      <th>4</th>\n",
       "      <td>5</td>\n",
       "      <td>0</td>\n",
       "      <td>3</td>\n",
       "      <td>Allen, Mr. William Henry</td>\n",
       "      <td>male</td>\n",
       "      <td>35.0</td>\n",
       "      <td>0</td>\n",
       "      <td>0</td>\n",
       "      <td>373450</td>\n",
       "      <td>8.0500</td>\n",
       "      <td>NaN</td>\n",
       "      <td>S</td>\n",
       "    </tr>\n",
       "    <tr>\n",
       "      <th>5</th>\n",
       "      <td>6</td>\n",
       "      <td>0</td>\n",
       "      <td>3</td>\n",
       "      <td>Moran, Mr. James</td>\n",
       "      <td>male</td>\n",
       "      <td>NaN</td>\n",
       "      <td>0</td>\n",
       "      <td>0</td>\n",
       "      <td>330877</td>\n",
       "      <td>8.4583</td>\n",
       "      <td>NaN</td>\n",
       "      <td>Q</td>\n",
       "    </tr>\n",
       "    <tr>\n",
       "      <th>6</th>\n",
       "      <td>7</td>\n",
       "      <td>0</td>\n",
       "      <td>1</td>\n",
       "      <td>McCarthy, Mr. Timothy J</td>\n",
       "      <td>male</td>\n",
       "      <td>54.0</td>\n",
       "      <td>0</td>\n",
       "      <td>0</td>\n",
       "      <td>17463</td>\n",
       "      <td>51.8625</td>\n",
       "      <td>E46</td>\n",
       "      <td>S</td>\n",
       "    </tr>\n",
       "    <tr>\n",
       "      <th>7</th>\n",
       "      <td>8</td>\n",
       "      <td>0</td>\n",
       "      <td>3</td>\n",
       "      <td>Palsson, Master. Gosta Leonard</td>\n",
       "      <td>male</td>\n",
       "      <td>2.0</td>\n",
       "      <td>3</td>\n",
       "      <td>1</td>\n",
       "      <td>349909</td>\n",
       "      <td>21.0750</td>\n",
       "      <td>NaN</td>\n",
       "      <td>S</td>\n",
       "    </tr>\n",
       "    <tr>\n",
       "      <th>8</th>\n",
       "      <td>9</td>\n",
       "      <td>1</td>\n",
       "      <td>3</td>\n",
       "      <td>Johnson, Mrs. Oscar W (Elisabeth Vilhelmina Berg)</td>\n",
       "      <td>female</td>\n",
       "      <td>27.0</td>\n",
       "      <td>0</td>\n",
       "      <td>2</td>\n",
       "      <td>347742</td>\n",
       "      <td>11.1333</td>\n",
       "      <td>NaN</td>\n",
       "      <td>S</td>\n",
       "    </tr>\n",
       "    <tr>\n",
       "      <th>9</th>\n",
       "      <td>10</td>\n",
       "      <td>1</td>\n",
       "      <td>2</td>\n",
       "      <td>Nasser, Mrs. Nicholas (Adele Achem)</td>\n",
       "      <td>female</td>\n",
       "      <td>14.0</td>\n",
       "      <td>1</td>\n",
       "      <td>0</td>\n",
       "      <td>237736</td>\n",
       "      <td>30.0708</td>\n",
       "      <td>NaN</td>\n",
       "      <td>C</td>\n",
       "    </tr>\n",
       "  </tbody>\n",
       "</table>\n",
       "</div>"
      ],
      "text/plain": [
       "   PassengerId  Survived  Pclass  \\\n",
       "0            1         0       3   \n",
       "1            2         1       1   \n",
       "2            3         1       3   \n",
       "3            4         1       1   \n",
       "4            5         0       3   \n",
       "5            6         0       3   \n",
       "6            7         0       1   \n",
       "7            8         0       3   \n",
       "8            9         1       3   \n",
       "9           10         1       2   \n",
       "\n",
       "                                                Name     Sex   Age  SibSp  \\\n",
       "0                            Braund, Mr. Owen Harris    male  22.0      1   \n",
       "1  Cumings, Mrs. John Bradley (Florence Briggs Th...  female  38.0      1   \n",
       "2                             Heikkinen, Miss. Laina  female  26.0      0   \n",
       "3       Futrelle, Mrs. Jacques Heath (Lily May Peel)  female  35.0      1   \n",
       "4                           Allen, Mr. William Henry    male  35.0      0   \n",
       "5                                   Moran, Mr. James    male   NaN      0   \n",
       "6                            McCarthy, Mr. Timothy J    male  54.0      0   \n",
       "7                     Palsson, Master. Gosta Leonard    male   2.0      3   \n",
       "8  Johnson, Mrs. Oscar W (Elisabeth Vilhelmina Berg)  female  27.0      0   \n",
       "9                Nasser, Mrs. Nicholas (Adele Achem)  female  14.0      1   \n",
       "\n",
       "   Parch            Ticket     Fare Cabin Embarked  \n",
       "0      0         A/5 21171   7.2500   NaN        S  \n",
       "1      0          PC 17599  71.2833   C85        C  \n",
       "2      0  STON/O2. 3101282   7.9250   NaN        S  \n",
       "3      0            113803  53.1000  C123        S  \n",
       "4      0            373450   8.0500   NaN        S  \n",
       "5      0            330877   8.4583   NaN        Q  \n",
       "6      0             17463  51.8625   E46        S  \n",
       "7      1            349909  21.0750   NaN        S  \n",
       "8      2            347742  11.1333   NaN        S  \n",
       "9      0            237736  30.0708   NaN        C  "
      ]
     },
     "execution_count": 248,
     "metadata": {},
     "output_type": "execute_result"
    }
   ],
   "source": [
    "dataset.head(10)"
   ]
  },
  {
   "cell_type": "code",
   "execution_count": 249,
   "metadata": {},
   "outputs": [
    {
     "name": "stdout",
     "output_type": "stream",
     "text": [
      "#samples: 891\n",
      "#features: 10\n"
     ]
    }
   ],
   "source": [
    "print(\"#samples: \"+str(dataset.shape[0]))\n",
    "print(\"#features: \"+str(dataset.shape[1]-2)) # -2 for Id and label"
   ]
  },
  {
   "cell_type": "markdown",
   "metadata": {},
   "source": [
    "All features might not be present in all examples:"
   ]
  },
  {
   "cell_type": "code",
   "execution_count": 250,
   "metadata": {},
   "outputs": [
    {
     "name": "stdout",
     "output_type": "stream",
     "text": [
      "PassengerId    891\n",
      "Survived       891\n",
      "Pclass         891\n",
      "Name           891\n",
      "Sex            891\n",
      "Age            714\n",
      "SibSp          891\n",
      "Parch          891\n",
      "Ticket         891\n",
      "Fare           891\n",
      "Cabin          204\n",
      "Embarked       889\n",
      "dtype: int64\n"
     ]
    }
   ],
   "source": [
    "print(dataset.count())"
   ]
  },
  {
   "cell_type": "markdown",
   "metadata": {},
   "source": [
    "Balance of the dataset:"
   ]
  },
  {
   "cell_type": "code",
   "execution_count": 251,
   "metadata": {},
   "outputs": [
    {
     "name": "stdout",
     "output_type": "stream",
     "text": [
      "Passangers that survived: 342, 38.38%\n",
      "Passangers that did not survived: 549, 61.62%\n"
     ]
    }
   ],
   "source": [
    "num_of_survived = dataset[dataset.Survived == 1].Survived.count()\n",
    "num_of_not_survived = dataset.shape[0]-num_of_survived\n",
    "print(\"Passangers that survived: %d, %.2f%%\" % (num_of_survived,  num_of_survived/dataset.shape[0]*100))\n",
    "print(\"Passangers that did not survived: %d, %.2f%%\" % (num_of_not_survived,  num_of_not_survived/dataset.shape[0]*100))"
   ]
  },
  {
   "cell_type": "markdown",
   "metadata": {},
   "source": [
    "## Feature analysis ##\n",
    "\n",
    "For the first, simplest model, lets focus on features that do not need a lot of preprocessing. Thus we ommit Name, Ticket and Cabin.\n",
    "\n",
    "Name feature could give us information about wealth of the passanger, however we already receive the Class of travel which should be good indicator and we might need much bigger dataset to extract such information from the dataset.\n",
    "\n",
    "Cabin feature could be very helpful, however Cabin information is present in only 204 samples, is unique (would need preprocessing to add information about the location of the cabin) and some passangers have more than 1.\n",
    "\n",
    "Ticket feature might give similar information as Cabin and Class of travel, but similarly as in Cabin needs research to extract useful information and preprocessing since it does not always have standardized format.\n",
    "\n",
    "**Class of travel**\n",
    "\n",
    "Contains information about wealth of the passanger and likely position of the cabin on the ship.\n",
    "\n",
    "It can take value from 1,2 or 3 from 1 being the most luxurious. Lets see the distribution in the dataset:"
   ]
  },
  {
   "cell_type": "code",
   "execution_count": 252,
   "metadata": {},
   "outputs": [
    {
     "data": {
      "text/plain": [
       "Survived  Pclass\n",
       "0         1          80\n",
       "          2          97\n",
       "          3         372\n",
       "1         1         136\n",
       "          2          87\n",
       "          3         119\n",
       "Name: Pclass, dtype: int64"
      ]
     },
     "execution_count": 252,
     "metadata": {},
     "output_type": "execute_result"
    }
   ],
   "source": [
    "dataset.groupby(['Survived', 'Pclass'])[\"Pclass\"].count()"
   ]
  },
  {
   "cell_type": "markdown",
   "metadata": {},
   "source": [
    "From numbers above it can be seen that only 1/4 of passangers in 3rd class in the dataset survived, however more than 3/5 of passangers in 1st class survived. Showing that Class of travel is possibly good feature.\n",
    "\n",
    "**Gender**\n",
    "\n",
    "Gender is potentially very usefull feature considering RMS Titanic being famous for the phrase \"Woman and children first\". According to blog post (https://blog.minitab.com/blog/real-world-quality-improvement/analyzing-titanic-survival-rates) which analyzed available data 73% of female passangers survived and only 21% of male passangers did.\n",
    "\n",
    "Lets see the distribution in our dataset:"
   ]
  },
  {
   "cell_type": "code",
   "execution_count": 253,
   "metadata": {},
   "outputs": [
    {
     "data": {
      "text/plain": [
       "Survived  Sex   \n",
       "0         female     81\n",
       "          male      468\n",
       "1         female    233\n",
       "          male      109\n",
       "Name: Sex, dtype: int64"
      ]
     },
     "execution_count": 253,
     "metadata": {},
     "output_type": "execute_result"
    }
   ],
   "source": [
    "dataset.groupby(['Survived', 'Sex'])[\"Sex\"].count()"
   ]
  },
  {
   "cell_type": "code",
   "execution_count": 254,
   "metadata": {},
   "outputs": [
    {
     "name": "stdout",
     "output_type": "stream",
     "text": [
      "Female survived: 74.20%, Male survived: 18.89%\n"
     ]
    }
   ],
   "source": [
    "print(\"Female survived: %.2f%%, Male survived: %.2f%%\" % (233/(81+233)*100, 109/(109+468)*100))"
   ]
  },
  {
   "cell_type": "markdown",
   "metadata": {},
   "source": [
    "**Age**\n",
    "\n",
    "I suspect Age to be partially missledaing. Firstly, I lack knowledge about the policy that took place considering age - if they prioritized elderly or young. However even if prioritization would go towards elderly, they might be more prone to not being able to get to lifeboats in time.\n",
    "\n",
    "Again, lets look at the distribution:"
   ]
  },
  {
   "cell_type": "code",
   "execution_count": 255,
   "metadata": {},
   "outputs": [
    {
     "data": {
      "text/plain": [
       "<matplotlib.axes._subplots.AxesSubplot at 0x12e9ee2e8>"
      ]
     },
     "execution_count": 255,
     "metadata": {},
     "output_type": "execute_result"
    },
    {
     "data": {
      "image/png": "[encoded data removed]",
      "text/plain": [
       "<Figure size 432x288 with 1 Axes>"
      ]
     },
     "metadata": {
      "needs_background": "light"
     },
     "output_type": "display_data"
    }
   ],
   "source": [
    "dataset[dataset[\"Survived\"]==0][\"Age\"].hist(bins=8)"
   ]
  },
  {
   "cell_type": "code",
   "execution_count": 256,
   "metadata": {},
   "outputs": [
    {
     "data": {
      "text/plain": [
       "<matplotlib.axes._subplots.AxesSubplot at 0x12e785208>"
      ]
     },
     "execution_count": 256,
     "metadata": {},
     "output_type": "execute_result"
    },
    {
     "data": {
      "image/png": "[encoded data removed]",
      "text/plain": [
       "<Figure size 432x288 with 1 Axes>"
      ]
     },
     "metadata": {
      "needs_background": "light"
     },
     "output_type": "display_data"
    }
   ],
   "source": [
    "dataset[dataset[\"Survived\"]==1][\"Age\"].hist(bins=8)"
   ]
  },
  {
   "cell_type": "markdown",
   "metadata": {
    "scrolled": true
   },
   "source": [
    "Distributions seem very similar, however one can notice significantly higher group of younger passangers survived and signifantly higher group of older passangers did not. This suggests children were priority."
   ]
  },
  {
   "cell_type": "markdown",
   "metadata": {},
   "source": [
    "**Number of Sibling/Spouse aboard and Number of Parent/Child aboard**\n",
    "\n",
    "These features might not seem valuable at first, however if it is true that male passangers were let on the lifeboats if they had children or maybe with their spouse/whole family. Lets look at few histograms that might give us some idea."
   ]
  },
  {
   "cell_type": "code",
   "execution_count": 257,
   "metadata": {},
   "outputs": [
    {
     "data": {
      "text/plain": [
       "<matplotlib.axes._subplots.AxesSubplot at 0x12df64278>"
      ]
     },
     "execution_count": 257,
     "metadata": {},
     "output_type": "execute_result"
    },
    {
     "data": {
      "image/png": "[encoded data removed]",
      "text/plain": [
       "<Figure size 432x288 with 1 Axes>"
      ]
     },
     "metadata": {
      "needs_background": "light"
     },
     "output_type": "display_data"
    }
   ],
   "source": [
    "dataset[dataset[\"Survived\"]==0][\"SibSp\"].hist(bins=10)\n",
    "dataset[dataset[\"Survived\"]==1][\"SibSp\"].hist(bins=5, alpha=0.4)\n"
   ]
  },
  {
   "cell_type": "code",
   "execution_count": 258,
   "metadata": {},
   "outputs": [
    {
     "data": {
      "text/plain": [
       "<matplotlib.axes._subplots.AxesSubplot at 0x12e9d1d68>"
      ]
     },
     "execution_count": 258,
     "metadata": {},
     "output_type": "execute_result"
    },
    {
     "data": {
      "image/png": "[encoded data removed]",
      "text/plain": [
       "<Figure size 432x288 with 1 Axes>"
      ]
     },
     "metadata": {
      "needs_background": "light"
     },
     "output_type": "display_data"
    }
   ],
   "source": [
    "dataset[dataset[\"Survived\"]==0][\"Parch\"].hist(bins=9)\n",
    "dataset[dataset[\"Survived\"]==1][\"Parch\"].hist(bins=8, alpha=0.4)"
   ]
  },
  {
   "cell_type": "code",
   "execution_count": 259,
   "metadata": {},
   "outputs": [
    {
     "data": {
      "text/plain": [
       "80"
      ]
     },
     "execution_count": 259,
     "metadata": {},
     "output_type": "execute_result"
    }
   ],
   "source": [
    "dataset[(dataset[\"Survived\"]==0) & (dataset[\"SibSp\"]>0) & (dataset[\"Parch\"]>0)][\"Survived\"].count()"
   ]
  },
  {
   "cell_type": "code",
   "execution_count": 260,
   "metadata": {},
   "outputs": [
    {
     "data": {
      "text/plain": [
       "62"
      ]
     },
     "execution_count": 260,
     "metadata": {},
     "output_type": "execute_result"
    }
   ],
   "source": [
    "dataset[(dataset[\"Survived\"]==1) & (dataset[\"SibSp\"]>0) & (dataset[\"Parch\"]>0)][\"Survived\"].count()"
   ]
  },
  {
   "cell_type": "markdown",
   "metadata": {},
   "source": [
    "Having a lot of siblings/spouses and children/parents aboard (>4) seems to be bad for your survival chances. It makes sense since you are more likely to refuse board lifeboat when your family is not together or you are not all allowed to board the lifeboat together.\n",
    "\n",
    "Idea that having more than 0 from both categories, thus traveling with family, might be positive seems to be false since more of those passangers died than survived.\n",
    "\n",
    "**Embarked**\n",
    "\n",
    "The port in which a passenger has embarked. C - Cherbourg, S - Southampton, Q = Queenstown. My assumption is this feature has no influence. If the analysis confirms the distribution is close to uniform I shall ommit this feature."
   ]
  },
  {
   "cell_type": "code",
   "execution_count": 261,
   "metadata": {},
   "outputs": [
    {
     "data": {
      "text/plain": [
       "Survived  Embarked\n",
       "0         C            75\n",
       "          Q            47\n",
       "          S           427\n",
       "1         C            93\n",
       "          Q            30\n",
       "          S           217\n",
       "Name: Embarked, dtype: int64"
      ]
     },
     "execution_count": 261,
     "metadata": {},
     "output_type": "execute_result"
    }
   ],
   "source": [
    "dataset.groupby(['Survived', 'Embarked'])[\"Embarked\"].count()"
   ]
  },
  {
   "cell_type": "code",
   "execution_count": 262,
   "metadata": {},
   "outputs": [
    {
     "name": "stdout",
     "output_type": "stream",
     "text": [
      "Survived - S:0.34% C:0.55% Q:0.39%\n"
     ]
    }
   ],
   "source": [
    "print(\"Survived - S:%.2f%% C:%.2f%% Q:%.2f%%\" % (217/(427+217),93/(75+93),30/(30+47)))"
   ]
  },
  {
   "cell_type": "code",
   "execution_count": 263,
   "metadata": {},
   "outputs": [
    {
     "data": {
      "text/plain": [
       "Embarked  Pclass\n",
       "C         1          85\n",
       "          2          17\n",
       "          3          66\n",
       "Q         1           2\n",
       "          2           3\n",
       "          3          72\n",
       "S         1         127\n",
       "          2         164\n",
       "          3         353\n",
       "Name: Pclass, dtype: int64"
      ]
     },
     "execution_count": 263,
     "metadata": {},
     "output_type": "execute_result"
    }
   ],
   "source": [
    "dataset.groupby(['Embarked', 'Pclass'])[\"Pclass\"].count()"
   ]
  },
  {
   "cell_type": "markdown",
   "metadata": {},
   "source": [
    "It seems that passangers traveling from Cherbough which was 2nd out of 3 boarding places had higher chance of survival than passangers boarding on the other. This correlates with Pclass since there is high percentage of passangers from 1st class that boarded on this stop. I will keep it in the dataset but might try to ommit it."
   ]
  },
  {
   "cell_type": "markdown",
   "metadata": {},
   "source": [
    "**Fare**\n",
    "\n",
    "Fare feature will most likely be very correlated with Pclass. Lets see if that is true."
   ]
  },
  {
   "cell_type": "code",
   "execution_count": 264,
   "metadata": {},
   "outputs": [
    {
     "data": {
      "text/plain": [
       "<matplotlib.axes._subplots.AxesSubplot at 0x12e48f0f0>"
      ]
     },
     "execution_count": 264,
     "metadata": {},
     "output_type": "execute_result"
    },
    {
     "data": {
      "image/png": "[encoded data removed]",
      "text/plain": [
       "<Figure size 432x288 with 1 Axes>"
      ]
     },
     "metadata": {
      "needs_background": "light"
     },
     "output_type": "display_data"
    }
   ],
   "source": [
    "dataset[dataset[\"Pclass\"]==3][\"Fare\"].hist(bins=5)"
   ]
  },
  {
   "cell_type": "code",
   "execution_count": 265,
   "metadata": {},
   "outputs": [
    {
     "data": {
      "text/plain": [
       "<matplotlib.axes._subplots.AxesSubplot at 0x12e55e9b0>"
      ]
     },
     "execution_count": 265,
     "metadata": {},
     "output_type": "execute_result"
    },
    {
     "data": {
      "image/png": "[encoded data removed]",
      "text/plain": [
       "<Figure size 432x288 with 1 Axes>"
      ]
     },
     "metadata": {
      "needs_background": "light"
     },
     "output_type": "display_data"
    }
   ],
   "source": [
    "dataset[dataset[\"Pclass\"]==2][\"Fare\"].hist(bins=5)"
   ]
  },
  {
   "cell_type": "code",
   "execution_count": 266,
   "metadata": {},
   "outputs": [
    {
     "data": {
      "text/plain": [
       "<matplotlib.axes._subplots.AxesSubplot at 0x12e8d1ba8>"
      ]
     },
     "execution_count": 266,
     "metadata": {},
     "output_type": "execute_result"
    },
    {
     "data": {
      "image/png": "[encoded data removed]",
      "text/plain": [
       "<Figure size 432x288 with 1 Axes>"
      ]
     },
     "metadata": {
      "needs_background": "light"
     },
     "output_type": "display_data"
    }
   ],
   "source": [
    "dataset[dataset[\"Pclass\"]==1][\"Fare\"].hist(bins=20)"
   ]
  },
  {
   "cell_type": "markdown",
   "metadata": {},
   "source": [
    "Even tough the there are some passangers that payed similar Fare in 3rd and 1st class, there seems to be visible correlation.\n",
    "\n",
    "**Conclusion**\n",
    "\n",
    "I think Pclass, Sex and Age are the features that give us the most information. We will try few classifiers with different set of features, however these 3 should always be present."
   ]
  },
  {
   "cell_type": "markdown",
   "metadata": {},
   "source": [
    "## Dataset preprocessing ##\n",
    "\n",
    "Lets select only features we decided to use now and normalize them."
   ]
  },
  {
   "cell_type": "code",
   "execution_count": 267,
   "metadata": {},
   "outputs": [],
   "source": [
    "dataset_red = dataset[[\"Survived\", \"Pclass\", \"Sex\", \"Age\", \"SibSp\", \"Parch\",\"Fare\", \"Embarked\"]]\n",
    "mapping_sex = {'male': 0, 'female': 1}\n",
    "mapping_embarked = {'S': 0, 'C': 1, 'Q': 2}\n",
    "dataset_red = dataset_red.applymap(lambda s: mapping_sex.get(s) if s in mapping_sex else s)\n",
    "dataset_red = dataset_red.applymap(lambda s: mapping_embarked.get(s) if s in mapping_embarked else s)\n",
    "dataset_red_norm = dataset_red.apply(lambda x: (x - np.mean(x)) / (np.max(x) - np.min(x)))\n",
    "dataset_red_norm[\"Survived\"] = dataset_red[\"Survived\"]\n",
    "dataset_red_norm_no_nan = dataset_red_norm.fillna(value='0')\n",
    "dataset_red_norm[\"Age\"] = pd.to_numeric(dataset_red_norm[\"Age\"], errors='ignore')\n",
    "dataset_red_norm[\"Embarked\"] = pd.to_numeric(dataset_red_norm[\"Age\"], errors='ignore')\n",
    "dataset_red_norm_no_nan[\"Age\"] = pd.to_numeric(dataset_red_norm_no_nan[\"Age\"], errors='ignore')\n",
    "dataset_red_norm_no_nan[\"Embarked\"] = pd.to_numeric(dataset_red_norm_no_nan[\"Age\"], errors='ignore')"
   ]
  },
  {
   "cell_type": "markdown",
   "metadata": {},
   "source": [
    "**Split data**"
   ]
  },
  {
   "cell_type": "code",
   "execution_count": 268,
   "metadata": {},
   "outputs": [],
   "source": [
    "train, test = train_test_split(dataset_red_norm_no_nan, test_size=0.2)\n",
    "y_train = train[\"Survived\"]\n",
    "x_train = train.loc[:, train.columns != 'Survived']\n",
    "y_test = test[\"Survived\"]\n",
    "x_test = test.loc[:, test.columns != 'Survived']\n",
    "\n",
    "trainNaN, testNaN = train_test_split(dataset_red_norm, test_size=0.2)\n",
    "y_trainNaN = train[\"Survived\"]\n",
    "x_trainNaN = train.loc[:, train.columns != 'Survived']\n",
    "y_testNaN = test[\"Survived\"]\n",
    "x_testNaN = test.loc[:, test.columns != 'Survived']"
   ]
  },
  {
   "cell_type": "markdown",
   "metadata": {},
   "source": [
    "## Training classical classifiers ##"
   ]
  },
  {
   "cell_type": "markdown",
   "metadata": {},
   "source": [
    "**Logistic regression**"
   ]
  },
  {
   "cell_type": "code",
   "execution_count": 269,
   "metadata": {},
   "outputs": [
    {
     "data": {
      "text/plain": [
       "LogisticRegression(C=1.0, class_weight=None, dual=False, fit_intercept=True,\n",
       "                   intercept_scaling=1, l1_ratio=None, max_iter=100,\n",
       "                   multi_class='warn', n_jobs=None, penalty='l2',\n",
       "                   random_state=None, solver='lbfgs', tol=1e-10, verbose=0,\n",
       "                   warm_start=False)"
      ]
     },
     "execution_count": 269,
     "metadata": {},
     "output_type": "execute_result"
    }
   ],
   "source": [
    "logreg_clf = LogisticRegression(max_iter=100, penalty='l2', solver=\"lbfgs\", tol=1e-10)\n",
    "logreg_clf.fit(x_train,y_train)"
   ]
  },
  {
   "cell_type": "code",
   "execution_count": 270,
   "metadata": {},
   "outputs": [
    {
     "data": {
      "text/plain": [
       "0.7921348314606742"
      ]
     },
     "execution_count": 270,
     "metadata": {},
     "output_type": "execute_result"
    }
   ],
   "source": [
    "logreg_clf.score(x_train, y_train)"
   ]
  },
  {
   "cell_type": "code",
   "execution_count": 271,
   "metadata": {},
   "outputs": [
    {
     "data": {
      "text/plain": [
       "0.8156424581005587"
      ]
     },
     "execution_count": 271,
     "metadata": {},
     "output_type": "execute_result"
    }
   ],
   "source": [
    "logreg_clf.score(x_test, y_test)"
   ]
  },
  {
   "cell_type": "code",
   "execution_count": 272,
   "metadata": {},
   "outputs": [
    {
     "data": {
      "text/plain": [
       "array([ True,  True,  True,  True,  True,  True,  True,  True, False,\n",
       "        True,  True,  True,  True,  True,  True, False,  True, False,\n",
       "        True,  True])"
      ]
     },
     "execution_count": 272,
     "metadata": {},
     "output_type": "execute_result"
    }
   ],
   "source": [
    "logreg_clf.predict(x_test.iloc[range(20),:]) == y_test.iloc[range(20)].values"
   ]
  },
  {
   "cell_type": "markdown",
   "metadata": {},
   "source": [
    "**SVM**"
   ]
  },
  {
   "cell_type": "code",
   "execution_count": 273,
   "metadata": {},
   "outputs": [],
   "source": [
    "svm_clf = svm.SVC(gamma='auto', kernel='rbf', C=1000)"
   ]
  },
  {
   "cell_type": "code",
   "execution_count": 274,
   "metadata": {},
   "outputs": [
    {
     "data": {
      "text/plain": [
       "SVC(C=1000, cache_size=200, class_weight=None, coef0=0.0,\n",
       "    decision_function_shape='ovr', degree=3, gamma='auto', kernel='rbf',\n",
       "    max_iter=-1, probability=False, random_state=None, shrinking=True,\n",
       "    tol=0.001, verbose=False)"
      ]
     },
     "execution_count": 274,
     "metadata": {},
     "output_type": "execute_result"
    }
   ],
   "source": [
    "svm_clf.fit(x_train,y_train)"
   ]
  },
  {
   "cell_type": "code",
   "execution_count": 275,
   "metadata": {},
   "outputs": [
    {
     "data": {
      "text/plain": [
       "0.8258426966292135"
      ]
     },
     "execution_count": 275,
     "metadata": {},
     "output_type": "execute_result"
    }
   ],
   "source": [
    "svm_clf.score(x_train, y_train)"
   ]
  },
  {
   "cell_type": "code",
   "execution_count": 276,
   "metadata": {},
   "outputs": [
    {
     "data": {
      "text/plain": [
       "0.8603351955307262"
      ]
     },
     "execution_count": 276,
     "metadata": {},
     "output_type": "execute_result"
    }
   ],
   "source": [
    "svm_clf.score(x_test, y_test)"
   ]
  },
  {
   "cell_type": "code",
   "execution_count": 277,
   "metadata": {},
   "outputs": [
    {
     "data": {
      "text/plain": [
       "array([ True,  True,  True,  True,  True,  True,  True,  True,  True,\n",
       "        True,  True,  True,  True,  True,  True, False,  True, False,\n",
       "        True,  True])"
      ]
     },
     "execution_count": 277,
     "metadata": {},
     "output_type": "execute_result"
    }
   ],
   "source": [
    "svm_clf.predict(x_test.iloc[range(20),:]) == y_test.iloc[range(20)].values"
   ]
  },
  {
   "cell_type": "markdown",
   "metadata": {},
   "source": [
    "**AdaBoost**"
   ]
  },
  {
   "cell_type": "code",
   "execution_count": 278,
   "metadata": {},
   "outputs": [
    {
     "name": "stdout",
     "output_type": "stream",
     "text": [
      "Best parameters - depth:5 - num_est:16 - lr:0.05\n"
     ]
    },
    {
     "data": {
      "text/plain": [
       "AdaBoostClassifier(algorithm='SAMME.R',\n",
       "                   base_estimator=DecisionTreeClassifier(class_weight=None,\n",
       "                                                         criterion='gini',\n",
       "                                                         max_depth=5,\n",
       "                                                         max_features=None,\n",
       "                                                         max_leaf_nodes=None,\n",
       "                                                         min_impurity_decrease=0.0,\n",
       "                                                         min_impurity_split=None,\n",
       "                                                         min_samples_leaf=1,\n",
       "                                                         min_samples_split=2,\n",
       "                                                         min_weight_fraction_leaf=0.0,\n",
       "                                                         presort=False,\n",
       "                                                         random_state=None,\n",
       "                                                         splitter='best'),\n",
       "                   learning_rate=0.05, n_estimators=16, random_state=None)"
      ]
     },
     "execution_count": 278,
     "metadata": {},
     "output_type": "execute_result"
    }
   ],
   "source": [
    "#best_depth = None\n",
    "#best_num_clas = None\n",
    "#best_lr = None\n",
    "#best_test_score = 0\n",
    "#\n",
    "#counter = 0\n",
    "#for depth in range(2,10):\n",
    "#    for est_num in np.logspace(1,2.9,20):\n",
    "#        est_num = int(np.round(est_num))\n",
    "#        for lr in np.logspace(-3,1,25):\n",
    "#            ada_clf = AdaBoostClassifier(base_estimator=DecisionTreeClassifier(max_depth=depth), n_estimators=est_num, learning_rate=lr)\n",
    "#            ada_clf.fit(x_train,y_train)\n",
    "#            curr_score = ada_clf.score(x_test, y_test)\n",
    "#            counter += 1\n",
    "#            if counter%20==0:\n",
    "#                print(\"Working... iteration: %i\" % (counter))\n",
    "#            if curr_score > best_test_score:\n",
    "#                best_test_score = curr_score\n",
    "#                best_depth = depth\n",
    "#                best_num_clas = est_num\n",
    "#                best_lr = lr\n",
    "#                print(\"Best Found new best parameters: - depth:%d - num_est:%d - lr:%.4f\\n Best test score:%.4f\" % (best_depth, best_num_clas, best_lr, curr_score))\n",
    "\n",
    "best_depth=5\n",
    "best_num_clas=16\n",
    "best_lr=0.05\n",
    "print(\"Best parameters - depth:%d - num_est:%d - lr:%.2f\" % (best_depth, best_num_clas, best_lr))\n",
    "ada_clf = AdaBoostClassifier(base_estimator=DecisionTreeClassifier(max_depth=best_depth), n_estimators=best_num_clas, learning_rate=best_lr)\n",
    "ada_clf.fit(x_train,y_train)                "
   ]
  },
  {
   "cell_type": "code",
   "execution_count": 279,
   "metadata": {},
   "outputs": [
    {
     "data": {
      "text/plain": [
       "0.9241573033707865"
      ]
     },
     "execution_count": 279,
     "metadata": {},
     "output_type": "execute_result"
    }
   ],
   "source": [
    "ada_clf.score(x_train, y_train)"
   ]
  },
  {
   "cell_type": "code",
   "execution_count": 280,
   "metadata": {},
   "outputs": [
    {
     "data": {
      "text/plain": [
       "0.8491620111731844"
      ]
     },
     "execution_count": 280,
     "metadata": {},
     "output_type": "execute_result"
    }
   ],
   "source": [
    "ada_clf.score(x_test, y_test)"
   ]
  },
  {
   "cell_type": "code",
   "execution_count": 281,
   "metadata": {},
   "outputs": [
    {
     "data": {
      "text/plain": [
       "array([ True,  True, False,  True,  True, False,  True,  True,  True,\n",
       "        True,  True,  True,  True, False, False,  True,  True,  True,\n",
       "        True,  True,  True,  True,  True,  True,  True,  True,  True,\n",
       "        True,  True,  True])"
      ]
     },
     "execution_count": 281,
     "metadata": {},
     "output_type": "execute_result"
    }
   ],
   "source": [
    "ada_clf.predict(x_test.iloc[range(20,50),:]) == y_test.iloc[range(20,50)].values"
   ]
  },
  {
   "cell_type": "markdown",
   "metadata": {},
   "source": [
    "**Submission AdaBoost**"
   ]
  },
  {
   "cell_type": "code",
   "execution_count": 282,
   "metadata": {},
   "outputs": [],
   "source": [
    "test_data = pd.read_csv(\"dataset/test.csv\")\n",
    "test_data_red = test_data[[\"Pclass\", \"Sex\", \"Age\", \"SibSp\", \"Parch\",\"Fare\", \"Embarked\"]]\n",
    "mapping_sex = {'male': 0, 'female': 1}\n",
    "mapping_embarked = {'S': 0, 'C': 1, 'Q': 2}\n",
    "test_data_red = test_data_red.applymap(lambda s: mapping_sex.get(s) if s in mapping_sex else s)\n",
    "test_data_red = test_data_red.applymap(lambda s: mapping_embarked.get(s) if s in mapping_embarked else s)\n",
    "test_data_red_norm = test_data_red.apply(lambda x: (x - np.mean(x)) / (np.max(x) - np.min(x)))\n",
    "test_data_red_norm = test_data_red_norm.fillna(value='0')\n",
    "\n",
    "selected_clf = ada_clf\n",
    "predictions = ada_clf.predict(test_data_red_norm)\n",
    "test_predictions = test_data[[\"PassengerId\"]]\n",
    "test_predictions.insert(loc=1, column='Survived', value=predictions)\n",
    "test_predictions.to_csv(\"kaggle_submission_adaboost\", index=False)"
   ]
  },
  {
   "cell_type": "markdown",
   "metadata": {},
   "source": [
    "**XGBoost**"
   ]
  },
  {
   "cell_type": "code",
   "execution_count": 283,
   "metadata": {},
   "outputs": [
    {
     "data": {
      "text/plain": [
       "Pclass      float64\n",
       "Sex         float64\n",
       "Age         float64\n",
       "SibSp       float64\n",
       "Parch       float64\n",
       "Fare        float64\n",
       "Embarked    float64\n",
       "dtype: object"
      ]
     },
     "execution_count": 283,
     "metadata": {},
     "output_type": "execute_result"
    }
   ],
   "source": [
    "x_trainNaN.dtypes"
   ]
  },
  {
   "cell_type": "code",
   "execution_count": 284,
   "metadata": {},
   "outputs": [
    {
     "name": "stdout",
     "output_type": "stream",
     "text": [
      "Train score: 0.8820224719101124, Test score: 0.8491620111731844\n"
     ]
    },
    {
     "data": {
      "text/plain": [
       "array([ True,  True,  True,  True,  True, False,  True,  True,  True,\n",
       "        True,  True,  True,  True, False, False,  True,  True,  True,\n",
       "       False,  True,  True,  True,  True, False,  True,  True,  True,\n",
       "        True,  True,  True])"
      ]
     },
     "execution_count": 284,
     "metadata": {},
     "output_type": "execute_result"
    }
   ],
   "source": [
    "#best_depth = None\n",
    "#best_num_clas = None\n",
    "#best_lr = None\n",
    "#best_test_score = 0\n",
    "#\n",
    "#counter = 0\n",
    "#for depth in range(2,20,2):\n",
    "#    for est_num in np.logspace(1,2.9,20):\n",
    "#        est_num = int(np.round(est_num))\n",
    "#        for lr in np.logspace(-3,1,25):\n",
    "#            xgboost_clf = XGBClassifier(max_depth=depth, learning_rate=lr, n_estimators=est_num, missing=np.nan)\n",
    "#            xgboost_clf.fit(x_trainNaN,y_trainNaN)\n",
    "#            curr_score = xgboost_clf.score(x_testNaN, y_testNaN)\n",
    "#            counter += 1\n",
    "#            if counter%20==0:\n",
    "#                print(\"Working... iteration: %i\" % (counter))\n",
    "#            if curr_score > best_test_score:\n",
    "#                best_test_score = curr_score\n",
    "#                best_depth = depth\n",
    "#                best_num_clas = est_num\n",
    "#                best_lr = lr\n",
    "#                print(\"Best Found new best parameters: - depth:%d - num_est:%d - lr:%.4f\\n Best test score:%.4f\" % (best_depth, best_num_clas, best_lr, curr_score))\n",
    "xgboost_clf = XGBClassifier(max_depth=4, learning_rate=0.3162, n_estimators=32, missing=np.nan)\n",
    "xgboost_clf.fit(x_trainNaN,y_trainNaN)\n",
    "print(\"Train score: {}, Test score: {}\".format(xgboost_clf.score(x_trainNaN, y_trainNaN),xgboost_clf.score(x_testNaN, y_testNaN)))\n",
    "xgboost_clf.predict(x_test.iloc[range(20,50),:]) == y_test.iloc[range(20,50)].values"
   ]
  },
  {
   "cell_type": "markdown",
   "metadata": {},
   "source": [
    "**Submission XGBoost**"
   ]
  },
  {
   "cell_type": "code",
   "execution_count": 285,
   "metadata": {},
   "outputs": [],
   "source": [
    "test_data = pd.read_csv(\"dataset/test.csv\")\n",
    "test_data_red = test_data[[\"Pclass\", \"Sex\", \"Age\", \"SibSp\", \"Parch\",\"Fare\", \"Embarked\"]]\n",
    "mapping_sex = {'male': 0, 'female': 1}\n",
    "mapping_embarked = {'S': 0, 'C': 1, 'Q': 2}\n",
    "test_data_red = test_data_red.applymap(lambda s: mapping_sex.get(s) if s in mapping_sex else s)\n",
    "test_data_red = test_data_red.applymap(lambda s: mapping_embarked.get(s) if s in mapping_embarked else s)\n",
    "test_data_red_norm = test_data_red.apply(lambda x: (x - np.mean(x)) / (np.max(x) - np.min(x)))\n",
    "\n",
    "selected_clf = xgboost_clf\n",
    "predictions = xgboost_clf.predict(test_data_red_norm)\n",
    "test_predictions = test_data[[\"PassengerId\"]]\n",
    "test_predictions.insert(loc=1, column='Survived', value=predictions)\n",
    "test_predictions.to_csv(\"kaggle_submission_xgboost\", index=False)"
   ]
  },
  {
   "cell_type": "markdown",
   "metadata": {},
   "source": [
    "## Training simple NNs ##"
   ]
  },
  {
   "cell_type": "code",
   "execution_count": 84,
   "metadata": {},
   "outputs": [],
   "source": [
    "def TitanicModel(input_shape):\n",
    "    X_input = Input(input_shape)\n",
    "    X = Flatten()(X_input)\n",
    "    X = Dense(2, activation='sigmoid', name='dense1')(X)\n",
    "    #X = Dense(13, activation='relu', name='dense2')(X)\n",
    "    X = Dense(1, activation='sigmoid', name='dense3')(X)\n",
    "    model = Model(inputs = X_input, outputs = X, name='TitanicModel')\n",
    "    return model"
   ]
  },
  {
   "cell_type": "code",
   "execution_count": 85,
   "metadata": {},
   "outputs": [
    {
     "name": "stdout",
     "output_type": "stream",
     "text": [
      "Model: \"TitanicModel\"\n",
      "_________________________________________________________________\n",
      "Layer (type)                 Output Shape              Param #   \n",
      "=================================================================\n",
      "input_2 (InputLayer)         [(None, 1, 7)]            0         \n",
      "_________________________________________________________________\n",
      "flatten_1 (Flatten)          (None, 7)                 0         \n",
      "_________________________________________________________________\n",
      "dense1 (Dense)               (None, 2)                 16        \n",
      "_________________________________________________________________\n",
      "dense3 (Dense)               (None, 1)                 3         \n",
      "=================================================================\n",
      "Total params: 19\n",
      "Trainable params: 19\n",
      "Non-trainable params: 0\n",
      "_________________________________________________________________\n"
     ]
    }
   ],
   "source": [
    "titanicModel = TitanicModel((1,7))\n",
    "adamOpt = optimizers.Adam(lr=0.001, beta_1=0.9, beta_2=0.999, epsilon=10**(-8))\n",
    "titanicModel.compile(optimizer = adamOpt, loss = \"mean_squared_error\", metrics = [\"accuracy\"])\n",
    "titanicModel.summary()"
   ]
  },
  {
   "cell_type": "code",
   "execution_count": 86,
   "metadata": {},
   "outputs": [],
   "source": [
    "x_train_keras = x_train.values.reshape(712,1,7)\n",
    "y_train_keras = y_train.values.reshape(712,1)"
   ]
  },
  {
   "cell_type": "code",
   "execution_count": 87,
   "metadata": {},
   "outputs": [
    {
     "name": "stdout",
     "output_type": "stream",
     "text": [
      "Epoch 1/50\n",
      "712/712 [==============================] - 0s 191us/sample - loss: 0.3247 - accuracy: 0.3904\n",
      "Epoch 2/50\n",
      "712/712 [==============================] - 0s 66us/sample - loss: 0.3121 - accuracy: 0.3904\n",
      "Epoch 3/50\n",
      "712/712 [==============================] - 0s 58us/sample - loss: 0.3007 - accuracy: 0.3904\n",
      "Epoch 4/50\n",
      "712/712 [==============================] - 0s 56us/sample - loss: 0.2904 - accuracy: 0.3904\n",
      "Epoch 5/50\n",
      "712/712 [==============================] - 0s 53us/sample - loss: 0.2816 - accuracy: 0.3904\n",
      "Epoch 6/50\n",
      "712/712 [==============================] - 0s 53us/sample - loss: 0.2741 - accuracy: 0.3904\n",
      "Epoch 7/50\n",
      "712/712 [==============================] - 0s 56us/sample - loss: 0.2674 - accuracy: 0.3904\n",
      "Epoch 8/50\n",
      "712/712 [==============================] - 0s 54us/sample - loss: 0.2617 - accuracy: 0.3904\n",
      "Epoch 9/50\n",
      "712/712 [==============================] - 0s 60us/sample - loss: 0.2569 - accuracy: 0.3904\n",
      "Epoch 10/50\n",
      "712/712 [==============================] - 0s 52us/sample - loss: 0.2527 - accuracy: 0.3933\n",
      "Epoch 11/50\n",
      "712/712 [==============================] - 0s 54us/sample - loss: 0.2493 - accuracy: 0.4719\n",
      "Epoch 12/50\n",
      "712/712 [==============================] - 0s 54us/sample - loss: 0.2462 - accuracy: 0.6896\n",
      "Epoch 13/50\n",
      "712/712 [==============================] - 0s 55us/sample - loss: 0.2436 - accuracy: 0.7121\n",
      "Epoch 14/50\n",
      "712/712 [==============================] - 0s 61us/sample - loss: 0.2414 - accuracy: 0.6840\n",
      "Epoch 15/50\n",
      "712/712 [==============================] - 0s 58us/sample - loss: 0.2394 - accuracy: 0.6475\n",
      "Epoch 16/50\n",
      "712/712 [==============================] - 0s 56us/sample - loss: 0.2376 - accuracy: 0.6320\n",
      "Epoch 17/50\n",
      "712/712 [==============================] - 0s 55us/sample - loss: 0.2360 - accuracy: 0.6236\n",
      "Epoch 18/50\n",
      "712/712 [==============================] - 0s 55us/sample - loss: 0.2345 - accuracy: 0.6194\n",
      "Epoch 19/50\n",
      "712/712 [==============================] - 0s 56us/sample - loss: 0.2332 - accuracy: 0.6152\n",
      "Epoch 20/50\n",
      "712/712 [==============================] - 0s 57us/sample - loss: 0.2318 - accuracy: 0.6166\n",
      "Epoch 21/50\n",
      "712/712 [==============================] - 0s 55us/sample - loss: 0.2306 - accuracy: 0.6138\n",
      "Epoch 22/50\n",
      "712/712 [==============================] - 0s 58us/sample - loss: 0.2293 - accuracy: 0.6152\n",
      "Epoch 23/50\n",
      "712/712 [==============================] - 0s 56us/sample - loss: 0.2280 - accuracy: 0.6194\n",
      "Epoch 24/50\n",
      "712/712 [==============================] - 0s 58us/sample - loss: 0.2268 - accuracy: 0.6208\n",
      "Epoch 25/50\n",
      "712/712 [==============================] - 0s 55us/sample - loss: 0.2255 - accuracy: 0.6222\n",
      "Epoch 26/50\n",
      "712/712 [==============================] - 0s 57us/sample - loss: 0.2242 - accuracy: 0.6390\n",
      "Epoch 27/50\n",
      "712/712 [==============================] - 0s 57us/sample - loss: 0.2229 - accuracy: 0.6475\n",
      "Epoch 28/50\n",
      "712/712 [==============================] - 0s 56us/sample - loss: 0.2215 - accuracy: 0.6587\n",
      "Epoch 29/50\n",
      "712/712 [==============================] - 0s 55us/sample - loss: 0.2201 - accuracy: 0.6728\n",
      "Epoch 30/50\n",
      "712/712 [==============================] - 0s 54us/sample - loss: 0.2187 - accuracy: 0.7022\n",
      "Epoch 31/50\n",
      "712/712 [==============================] - 0s 54us/sample - loss: 0.2172 - accuracy: 0.7121\n",
      "Epoch 32/50\n",
      "712/712 [==============================] - 0s 55us/sample - loss: 0.2156 - accuracy: 0.7219\n",
      "Epoch 33/50\n",
      "712/712 [==============================] - 0s 56us/sample - loss: 0.2141 - accuracy: 0.7261\n",
      "Epoch 34/50\n",
      "712/712 [==============================] - 0s 57us/sample - loss: 0.2125 - accuracy: 0.7289\n",
      "Epoch 35/50\n",
      "712/712 [==============================] - 0s 63us/sample - loss: 0.2110 - accuracy: 0.7346\n",
      "Epoch 36/50\n",
      "712/712 [==============================] - 0s 60us/sample - loss: 0.2093 - accuracy: 0.7388\n",
      "Epoch 37/50\n",
      "712/712 [==============================] - 0s 62us/sample - loss: 0.2077 - accuracy: 0.7556\n",
      "Epoch 38/50\n",
      "712/712 [==============================] - 0s 61us/sample - loss: 0.2061 - accuracy: 0.7683\n",
      "Epoch 39/50\n",
      "712/712 [==============================] - 0s 56us/sample - loss: 0.2045 - accuracy: 0.7865\n",
      "Epoch 40/50\n",
      "712/712 [==============================] - 0s 55us/sample - loss: 0.2028 - accuracy: 0.8034\n",
      "Epoch 41/50\n",
      "712/712 [==============================] - 0s 56us/sample - loss: 0.2012 - accuracy: 0.8062\n",
      "Epoch 42/50\n",
      "712/712 [==============================] - 0s 58us/sample - loss: 0.1995 - accuracy: 0.8062\n",
      "Epoch 43/50\n",
      "712/712 [==============================] - 0s 55us/sample - loss: 0.1979 - accuracy: 0.8090\n",
      "Epoch 44/50\n",
      "712/712 [==============================] - 0s 57us/sample - loss: 0.1963 - accuracy: 0.8090\n",
      "Epoch 45/50\n",
      "712/712 [==============================] - 0s 54us/sample - loss: 0.1946 - accuracy: 0.8090\n",
      "Epoch 46/50\n",
      "712/712 [==============================] - 0s 60us/sample - loss: 0.1930 - accuracy: 0.8090\n",
      "Epoch 47/50\n",
      "712/712 [==============================] - 0s 56us/sample - loss: 0.1915 - accuracy: 0.8090\n",
      "Epoch 48/50\n",
      "712/712 [==============================] - 0s 62us/sample - loss: 0.1899 - accuracy: 0.8090\n",
      "Epoch 49/50\n",
      "712/712 [==============================] - 0s 64us/sample - loss: 0.1883 - accuracy: 0.8090\n",
      "Epoch 50/50\n",
      "712/712 [==============================] - 0s 60us/sample - loss: 0.1868 - accuracy: 0.8104\n"
     ]
    },
    {
     "data": {
      "text/plain": [
       "<tensorflow.python.keras.callbacks.History at 0x13016e5f8>"
      ]
     },
     "execution_count": 87,
     "metadata": {},
     "output_type": "execute_result"
    }
   ],
   "source": [
    "titanicModel.fit(x = x_train_keras, y = y_train_keras, epochs = 50, batch_size = 16)"
   ]
  },
  {
   "cell_type": "code",
   "execution_count": null,
   "metadata": {},
   "outputs": [],
   "source": []
  },
  {
   "cell_type": "markdown",
   "metadata": {},
   "source": []
  },
  {
   "cell_type": "code",
   "execution_count": 44,
   "metadata": {},
   "outputs": [],
   "source": []
  },
  {
   "cell_type": "code",
   "execution_count": 45,
   "metadata": {},
   "outputs": [],
   "source": []
  },
  {
   "cell_type": "code",
   "execution_count": null,
   "metadata": {},
   "outputs": [],
   "source": []
  },
  {
   "cell_type": "code",
   "execution_count": null,
   "metadata": {},
   "outputs": [],
   "source": []
  }
 ],
 "metadata": {
  "kernelspec": {
   "display_name": "Python 3",
   "language": "python",
   "name": "python3"
  },
  "language_info": {
   "codemirror_mode": {
    "name": "ipython",
    "version": 3
   },
   "file_extension": ".py",
   "mimetype": "text/x-python",
   "name": "python",
   "nbconvert_exporter": "python",
   "pygments_lexer": "ipython3",
   "version": "3.7.3"
  }
 },
 "nbformat": 4,
 "nbformat_minor": 2
}
