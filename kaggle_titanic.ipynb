{
 "cells": [
  {
   "cell_type": "markdown",
   "metadata": {},
   "source": [
    "# Titanic: Machine Learning from Disaster\n",
    "\n",
    "The goal of this model is given set of features to predict if passanger survived the trangedy of RMS Titanic in 1912.\n",
    "\n",
    "I have done no research on other participant contributions to not get biased towards their solutions and try something completely of my own.\n",
    "\n",
    "## Data ##\n",
    "**Dataset:** 891 data points, 10 features, 1 label\n",
    "**Test set:** 418 data points, 10 features\n",
    "\n",
    "**Features**:\n",
    "- Class of travel\n",
    "- Name\n",
    "- Gender\n",
    "- Age\n",
    "- Number of Sibling/Spouse aboard\n",
    "- Number of Parent/Child aboard\n",
    "- Ticket\n",
    "- Fare\n",
    "- Cabin\n",
    "- Embarked\n",
    "\n",
    "Not all passangers have all features. Also some features such as Name, Ticket or Cabin do not have standardized format.\n",
    "\n",
    "**Labels**:\n",
    "- Survived: 1 if passanger survived the tragedy, 0 if not"
   ]
  },
  {
   "cell_type": "code",
   "execution_count": 2,
   "metadata": {},
   "outputs": [],
   "source": [
    "import pandas as pd\n",
    "import numpy as np\n",
    "import matplotlib\n",
    "from sklearn.model_selection import train_test_split\n",
    "from sklearn.linear_model import LogisticRegression\n",
    "from sklearn.tree import DecisionTreeClassifier\n",
    "from sklearn import svm\n",
    "from sklearn.ensemble import AdaBoostClassifier"
   ]
  },
  {
   "cell_type": "code",
   "execution_count": 3,
   "metadata": {},
   "outputs": [],
   "source": [
    "# Load dataset\n",
    "dataset = pd.read_csv(\"dataset/train.csv\")"
   ]
  },
  {
   "cell_type": "code",
   "execution_count": 4,
   "metadata": {},
   "outputs": [
    {
     "data": {
      "text/html": [
       "<div>\n",
       "<style scoped>\n",
       "    .dataframe tbody tr th:only-of-type {\n",
       "        vertical-align: middle;\n",
       "    }\n",
       "\n",
       "    .dataframe tbody tr th {\n",
       "        vertical-align: top;\n",
       "    }\n",
       "\n",
       "    .dataframe thead th {\n",
       "        text-align: right;\n",
       "    }\n",
       "</style>\n",
       "<table border=\"1\" class=\"dataframe\">\n",
       "  <thead>\n",
       "    <tr style=\"text-align: right;\">\n",
       "      <th></th>\n",
       "      <th>PassengerId</th>\n",
       "      <th>Survived</th>\n",
       "      <th>Pclass</th>\n",
       "      <th>Name</th>\n",
       "      <th>Sex</th>\n",
       "      <th>Age</th>\n",
       "      <th>SibSp</th>\n",
       "      <th>Parch</th>\n",
       "      <th>Ticket</th>\n",
       "      <th>Fare</th>\n",
       "      <th>Cabin</th>\n",
       "      <th>Embarked</th>\n",
       "    </tr>\n",
       "  </thead>\n",
       "  <tbody>\n",
       "    <tr>\n",
       "      <th>0</th>\n",
       "      <td>1</td>\n",
       "      <td>0</td>\n",
       "      <td>3</td>\n",
       "      <td>Braund, Mr. Owen Harris</td>\n",
       "      <td>male</td>\n",
       "      <td>22.0</td>\n",
       "      <td>1</td>\n",
       "      <td>0</td>\n",
       "      <td>A/5 21171</td>\n",
       "      <td>7.2500</td>\n",
       "      <td>NaN</td>\n",
       "      <td>S</td>\n",
       "    </tr>\n",
       "    <tr>\n",
       "      <th>1</th>\n",
       "      <td>2</td>\n",
       "      <td>1</td>\n",
       "      <td>1</td>\n",
       "      <td>Cumings, Mrs. John Bradley (Florence Briggs Th...</td>\n",
       "      <td>female</td>\n",
       "      <td>38.0</td>\n",
       "      <td>1</td>\n",
       "      <td>0</td>\n",
       "      <td>PC 17599</td>\n",
       "      <td>71.2833</td>\n",
       "      <td>C85</td>\n",
       "      <td>C</td>\n",
       "    </tr>\n",
       "    <tr>\n",
       "      <th>2</th>\n",
       "      <td>3</td>\n",
       "      <td>1</td>\n",
       "      <td>3</td>\n",
       "      <td>Heikkinen, Miss. Laina</td>\n",
       "      <td>female</td>\n",
       "      <td>26.0</td>\n",
       "      <td>0</td>\n",
       "      <td>0</td>\n",
       "      <td>STON/O2. 3101282</td>\n",
       "      <td>7.9250</td>\n",
       "      <td>NaN</td>\n",
       "      <td>S</td>\n",
       "    </tr>\n",
       "  </tbody>\n",
       "</table>\n",
       "</div>"
      ],
      "text/plain": [
       "   PassengerId  Survived  Pclass  \\\n",
       "0            1         0       3   \n",
       "1            2         1       1   \n",
       "2            3         1       3   \n",
       "\n",
       "                                                Name     Sex   Age  SibSp  \\\n",
       "0                            Braund, Mr. Owen Harris    male  22.0      1   \n",
       "1  Cumings, Mrs. John Bradley (Florence Briggs Th...  female  38.0      1   \n",
       "2                             Heikkinen, Miss. Laina  female  26.0      0   \n",
       "\n",
       "   Parch            Ticket     Fare Cabin Embarked  \n",
       "0      0         A/5 21171   7.2500   NaN        S  \n",
       "1      0          PC 17599  71.2833   C85        C  \n",
       "2      0  STON/O2. 3101282   7.9250   NaN        S  "
      ]
     },
     "execution_count": 4,
     "metadata": {},
     "output_type": "execute_result"
    }
   ],
   "source": [
    "dataset.head(3)"
   ]
  },
  {
   "cell_type": "code",
   "execution_count": 5,
   "metadata": {},
   "outputs": [
    {
     "name": "stdout",
     "output_type": "stream",
     "text": [
      "#samples: 891\n",
      "#features: 10\n"
     ]
    }
   ],
   "source": [
    "print(\"#samples: \"+str(dataset.shape[0]))\n",
    "print(\"#features: \"+str(dataset.shape[1]-2)) # -2 for Id and label"
   ]
  },
  {
   "cell_type": "markdown",
   "metadata": {},
   "source": [
    "All features might not be present in all examples:"
   ]
  },
  {
   "cell_type": "code",
   "execution_count": 6,
   "metadata": {},
   "outputs": [
    {
     "name": "stdout",
     "output_type": "stream",
     "text": [
      "PassengerId    891\n",
      "Survived       891\n",
      "Pclass         891\n",
      "Name           891\n",
      "Sex            891\n",
      "Age            714\n",
      "SibSp          891\n",
      "Parch          891\n",
      "Ticket         891\n",
      "Fare           891\n",
      "Cabin          204\n",
      "Embarked       889\n",
      "dtype: int64\n"
     ]
    }
   ],
   "source": [
    "print(dataset.count())"
   ]
  },
  {
   "cell_type": "markdown",
   "metadata": {},
   "source": [
    "Balance of the dataset:"
   ]
  },
  {
   "cell_type": "code",
   "execution_count": 7,
   "metadata": {},
   "outputs": [
    {
     "name": "stdout",
     "output_type": "stream",
     "text": [
      "Passangers that survived: 342, 38.38%\n",
      "Passangers that did not survived: 549, 61.62%\n"
     ]
    }
   ],
   "source": [
    "num_of_survived = dataset[dataset.Survived == 1].Survived.count()\n",
    "num_of_not_survived = dataset.shape[0]-num_of_survived\n",
    "print(\"Passangers that survived: %d, %.2f%%\" % (num_of_survived,  num_of_survived/dataset.shape[0]*100))\n",
    "print(\"Passangers that did not survived: %d, %.2f%%\" % (num_of_not_survived,  num_of_not_survived/dataset.shape[0]*100))"
   ]
  },
  {
   "cell_type": "markdown",
   "metadata": {},
   "source": [
    "## Feature analysis ##\n",
    "\n",
    "For the first, simplest model, lets focus on features that do not need a lot of preprocessing. Thus we ommit Name, Ticket and Cabin.\n",
    "\n",
    "Name feature could give us information about wealth of the passanger, however we already receive the Class of travel which should be good indicator and we might need much bigger dataset to extract such information from the dataset.\n",
    "\n",
    "Cabin feature could be very helpful, however Cabin information is present in only 204 samples, is unique (would need preprocessing to add information about the location of the cabin) and some passangers have more than 1.\n",
    "\n",
    "Ticket feature might give similar information as Cabin and Class of travel, but similarly as in Cabin needs research to extract useful information and preprocessing since it does not always have standardized format.\n",
    "\n",
    "**Class of travel**\n",
    "\n",
    "Contains information about wealth of the passanger and likely position of the cabin on the ship.\n",
    "\n",
    "It can take value from 1,2 or 3 from 1 being the most luxurious. Lets see the distribution in the dataset:"
   ]
  },
  {
   "cell_type": "code",
   "execution_count": 8,
   "metadata": {},
   "outputs": [
    {
     "data": {
      "text/plain": [
       "Survived  Pclass\n",
       "0         1          80\n",
       "          2          97\n",
       "          3         372\n",
       "1         1         136\n",
       "          2          87\n",
       "          3         119\n",
       "Name: Pclass, dtype: int64"
      ]
     },
     "execution_count": 8,
     "metadata": {},
     "output_type": "execute_result"
    }
   ],
   "source": [
    "dataset.groupby(['Survived', 'Pclass'])[\"Pclass\"].count()"
   ]
  },
  {
   "cell_type": "markdown",
   "metadata": {},
   "source": [
    "From numbers above it can be seen that only 1/4 of passangers in 3rd class in the dataset survived, however more than 3/5 of passangers in 1st class survived. Showing that Class of travel is possibly good feature.\n",
    "\n",
    "**Gender**\n",
    "\n",
    "Gender is potentially very usefull feature considering RMS Titanic being famous for the phrase \"Woman and children first\". According to blog post (https://blog.minitab.com/blog/real-world-quality-improvement/analyzing-titanic-survival-rates) which analyzed available data 73% of female passangers survived and only 21% of male passangers did.\n",
    "\n",
    "Lets see the distribution in our dataset:"
   ]
  },
  {
   "cell_type": "code",
   "execution_count": 9,
   "metadata": {},
   "outputs": [
    {
     "data": {
      "text/plain": [
       "Survived  Sex   \n",
       "0         female     81\n",
       "          male      468\n",
       "1         female    233\n",
       "          male      109\n",
       "Name: Sex, dtype: int64"
      ]
     },
     "execution_count": 9,
     "metadata": {},
     "output_type": "execute_result"
    }
   ],
   "source": [
    "dataset.groupby(['Survived', 'Sex'])[\"Sex\"].count()"
   ]
  },
  {
   "cell_type": "code",
   "execution_count": 10,
   "metadata": {},
   "outputs": [
    {
     "name": "stdout",
     "output_type": "stream",
     "text": [
      "Female survived: 74.20%, Male survived: 18.89%\n"
     ]
    }
   ],
   "source": [
    "print(\"Female survived: %.2f%%, Male survived: %.2f%%\" % (233/(81+233)*100, 109/(109+468)*100))"
   ]
  },
  {
   "cell_type": "markdown",
   "metadata": {},
   "source": [
    "**Age**\n",
    "\n",
    "I suspect Age to be partially missledaing. Firstly, I lack knowledge about the policy that took place considering age - if they prioritized elderly or young. However even if prioritization would go towards elderly, they might be more prone to not being able to get to lifeboats in time.\n",
    "\n",
    "Again, lets look at the distribution:"
   ]
  },
  {
   "cell_type": "code",
   "execution_count": 11,
   "metadata": {},
   "outputs": [
    {
     "data": {
      "text/plain": [
       "<matplotlib.axes._subplots.AxesSubplot at 0x1a184d5128>"
      ]
     },
     "execution_count": 11,
     "metadata": {},
     "output_type": "execute_result"
    }
   ],
   "source": [
    "dataset[dataset[\"Survived\"]==0][\"Age\"].hist(bins=8)"
   ]
  },
  {
   "cell_type": "code",
   "execution_count": 12,
   "metadata": {},
   "outputs": [
    {
     "data": {
      "text/plain": [
       "<matplotlib.axes._subplots.AxesSubplot at 0x1a187fb198>"
      ]
     },
     "execution_count": 12,
     "metadata": {},
     "output_type": "execute_result"
    },
    {
     "data": {
      "image/png": "[encoded data removed]",
      "text/plain": [
       "<Figure size 432x288 with 1 Axes>"
      ]
     },
     "metadata": {
      "needs_background": "light"
     },
     "output_type": "display_data"
    }
   ],
   "source": [
    "dataset[dataset[\"Survived\"]==1][\"Age\"].hist(bins=8)"
   ]
  },
  {
   "cell_type": "markdown",
   "metadata": {
    "scrolled": true
   },
   "source": [
    "Distributions seem very similar, however one can notice significantly higher group of younger passangers survived and signifantly higher group of older passangers did not. This suggests children were priority."
   ]
  },
  {
   "cell_type": "markdown",
   "metadata": {},
   "source": [
    "**Number of Sibling/Spouse aboard and Number of Parent/Child aboard**\n",
    "\n",
    "These features might not seem valuable at first, however if it is true that male passangers were let on the lifeboats if they had children or maybe with their spouse/whole family. Lets look at few histograms that might give us some idea."
   ]
  },
  {
   "cell_type": "code",
   "execution_count": 13,
   "metadata": {},
   "outputs": [
    {
     "data": {
      "text/plain": [
       "<matplotlib.axes._subplots.AxesSubplot at 0x1a1887ac88>"
      ]
     },
     "execution_count": 13,
     "metadata": {},
     "output_type": "execute_result"
    },
    {
     "data": {
      "image/png": "[encoded data removed]",
      "text/plain": [
       "<Figure size 432x288 with 1 Axes>"
      ]
     },
     "metadata": {
      "needs_background": "light"
     },
     "output_type": "display_data"
    }
   ],
   "source": [
    "dataset[dataset[\"Survived\"]==0][\"SibSp\"].hist(bins=10)\n",
    "dataset[dataset[\"Survived\"]==1][\"SibSp\"].hist(bins=5, alpha=0.4)\n"
   ]
  },
  {
   "cell_type": "code",
   "execution_count": 14,
   "metadata": {},
   "outputs": [
    {
     "data": {
      "text/plain": [
       "<matplotlib.axes._subplots.AxesSubplot at 0x1a189585c0>"
      ]
     },
     "execution_count": 14,
     "metadata": {},
     "output_type": "execute_result"
    },
    {
     "data": {
      "image/png": "[encoded data removed]",
      "text/plain": [
       "<Figure size 432x288 with 1 Axes>"
      ]
     },
     "metadata": {
      "needs_background": "light"
     },
     "output_type": "display_data"
    }
   ],
   "source": [
    "dataset[dataset[\"Survived\"]==0][\"Parch\"].hist(bins=9)\n",
    "dataset[dataset[\"Survived\"]==1][\"Parch\"].hist(bins=8, alpha=0.4)"
   ]
  },
  {
   "cell_type": "code",
   "execution_count": 15,
   "metadata": {},
   "outputs": [
    {
     "data": {
      "text/plain": [
       "80"
      ]
     },
     "execution_count": 15,
     "metadata": {},
     "output_type": "execute_result"
    }
   ],
   "source": [
    "dataset[(dataset[\"Survived\"]==0) & (dataset[\"SibSp\"]>0) & (dataset[\"Parch\"]>0)][\"Survived\"].count()"
   ]
  },
  {
   "cell_type": "code",
   "execution_count": 16,
   "metadata": {},
   "outputs": [
    {
     "data": {
      "text/plain": [
       "62"
      ]
     },
     "execution_count": 16,
     "metadata": {},
     "output_type": "execute_result"
    }
   ],
   "source": [
    "dataset[(dataset[\"Survived\"]==1) & (dataset[\"SibSp\"]>0) & (dataset[\"Parch\"]>0)][\"Survived\"].count()"
   ]
  },
  {
   "cell_type": "markdown",
   "metadata": {},
   "source": [
    "Having a lot of siblings/spouses and children/parents aboard (>4) seems to be bad for your survival chances. It makes sense since you are more likely to refuse board lifeboat when your family is not together or you are not all allowed to board the lifeboat together.\n",
    "\n",
    "Idea that having more than 0 from both categories, thus traveling with family, might be positive seems to be false since more of those passangers died than survived.\n",
    "\n",
    "**Embarked**\n",
    "\n",
    "The port in which a passenger has embarked. C - Cherbourg, S - Southampton, Q = Queenstown. My assumption is this feature has no influence. If the analysis confirms the distribution is close to uniform I shall ommit this feature."
   ]
  },
  {
   "cell_type": "code",
   "execution_count": 17,
   "metadata": {},
   "outputs": [
    {
     "data": {
      "text/plain": [
       "Survived  Embarked\n",
       "0         C            75\n",
       "          Q            47\n",
       "          S           427\n",
       "1         C            93\n",
       "          Q            30\n",
       "          S           217\n",
       "Name: Embarked, dtype: int64"
      ]
     },
     "execution_count": 17,
     "metadata": {},
     "output_type": "execute_result"
    }
   ],
   "source": [
    "dataset.groupby(['Survived', 'Embarked'])[\"Embarked\"].count()"
   ]
  },
  {
   "cell_type": "code",
   "execution_count": 18,
   "metadata": {},
   "outputs": [
    {
     "name": "stdout",
     "output_type": "stream",
     "text": [
      "Survived - S:0.34% C:0.55% Q:0.39%\n"
     ]
    }
   ],
   "source": [
    "print(\"Survived - S:%.2f%% C:%.2f%% Q:%.2f%%\" % (217/(427+217),93/(75+93),30/(30+47)))"
   ]
  },
  {
   "cell_type": "code",
   "execution_count": 19,
   "metadata": {},
   "outputs": [
    {
     "data": {
      "text/plain": [
       "Embarked  Pclass\n",
       "C         1          85\n",
       "          2          17\n",
       "          3          66\n",
       "Q         1           2\n",
       "          2           3\n",
       "          3          72\n",
       "S         1         127\n",
       "          2         164\n",
       "          3         353\n",
       "Name: Pclass, dtype: int64"
      ]
     },
     "execution_count": 19,
     "metadata": {},
     "output_type": "execute_result"
    }
   ],
   "source": [
    "dataset.groupby(['Embarked', 'Pclass'])[\"Pclass\"].count()"
   ]
  },
  {
   "cell_type": "markdown",
   "metadata": {},
   "source": [
    "It seems that passangers traveling from Cherbough which was 2nd out of 3 boarding places had higher chance of survival than passangers boarding on the other. This correlates with Pclass since there is high percentage of passangers from 1st class that boarded on this stop. I will keep it in the dataset but might try to ommit it."
   ]
  },
  {
   "cell_type": "markdown",
   "metadata": {},
   "source": [
    "**Fare**\n",
    "\n",
    "Fare feature will most likely be very correlated with Pclass. Lets see if that is true."
   ]
  },
  {
   "cell_type": "code",
   "execution_count": 20,
   "metadata": {},
   "outputs": [
    {
     "data": {
      "text/plain": [
       "<matplotlib.axes._subplots.AxesSubplot at 0x1a18a72780>"
      ]
     },
     "execution_count": 20,
     "metadata": {},
     "output_type": "execute_result"
    },
    {
     "data": {
      "image/png": "[encoded data removed]",
      "text/plain": [
       "<Figure size 432x288 with 1 Axes>"
      ]
     },
     "metadata": {
      "needs_background": "light"
     },
     "output_type": "display_data"
    }
   ],
   "source": [
    "dataset[dataset[\"Pclass\"]==3][\"Fare\"].hist(bins=5)"
   ]
  },
  {
   "cell_type": "code",
   "execution_count": 21,
   "metadata": {},
   "outputs": [
    {
     "data": {
      "text/plain": [
       "<matplotlib.axes._subplots.AxesSubplot at 0x1a18b591d0>"
      ]
     },
     "execution_count": 21,
     "metadata": {},
     "output_type": "execute_result"
    },
    {
     "data": {
      "image/png": "[encoded data removed]",
      "text/plain": [
       "<Figure size 432x288 with 1 Axes>"
      ]
     },
     "metadata": {
      "needs_background": "light"
     },
     "output_type": "display_data"
    }
   ],
   "source": [
    "dataset[dataset[\"Pclass\"]==2][\"Fare\"].hist(bins=5)"
   ]
  },
  {
   "cell_type": "code",
   "execution_count": 22,
   "metadata": {},
   "outputs": [
    {
     "data": {
      "text/plain": [
       "<matplotlib.axes._subplots.AxesSubplot at 0x1a18c2d898>"
      ]
     },
     "execution_count": 22,
     "metadata": {},
     "output_type": "execute_result"
    },
    {
     "data": {
      "image/png": "[encoded data removed]",
      "text/plain": [
       "<Figure size 432x288 with 1 Axes>"
      ]
     },
     "metadata": {
      "needs_background": "light"
     },
     "output_type": "display_data"
    }
   ],
   "source": [
    "dataset[dataset[\"Pclass\"]==1][\"Fare\"].hist(bins=20)"
   ]
  },
  {
   "cell_type": "markdown",
   "metadata": {},
   "source": [
    "Even tough the there are some passangers that payed similar Fare in 3rd and 1st class, there seems to be visible correlation.\n",
    "\n",
    "**Conclusion**\n",
    "\n",
    "I think Pclass, Sex and Age are the features that give us the most information. We will try few classifiers with different set of features, however these 3 should always be present."
   ]
  },
  {
   "cell_type": "markdown",
   "metadata": {},
   "source": [
    "## Dataset preprocessing ##\n",
    "\n",
    "Lets select only features we decided to use now and normalize them."
   ]
  },
  {
   "cell_type": "code",
   "execution_count": 23,
   "metadata": {},
   "outputs": [],
   "source": [
    "dataset_red = dataset[[\"Survived\", \"Pclass\", \"Sex\", \"Age\", \"SibSp\", \"Parch\",\"Fare\", \"Embarked\"]]"
   ]
  },
  {
   "cell_type": "code",
   "execution_count": 24,
   "metadata": {},
   "outputs": [],
   "source": [
    "mapping_sex = {'male': 0, 'female': 1}\n",
    "mapping_embarked = {'S': 0, 'C': 1, 'Q': 2}\n",
    "dataset_red = dataset_red.applymap(lambda s: mapping_sex.get(s) if s in mapping_sex else s)\n",
    "dataset_red = dataset_red.applymap(lambda s: mapping_embarked.get(s) if s in mapping_embarked else s)"
   ]
  },
  {
   "cell_type": "code",
   "execution_count": 25,
   "metadata": {},
   "outputs": [],
   "source": [
    "dataset_red_norm = dataset_red.apply(lambda x: (x - np.mean(x)) / (np.max(x) - np.min(x)))\n",
    "dataset_red_norm[\"Survived\"] = dataset_red[\"Survived\"]\n",
    "dataset_red_norm = dataset_red_norm.fillna(value='0')"
   ]
  },
  {
   "cell_type": "markdown",
   "metadata": {},
   "source": [
    "## Training classical classifiers ##\n",
    "\n",
    "**Split data**"
   ]
  },
  {
   "cell_type": "code",
   "execution_count": 26,
   "metadata": {},
   "outputs": [],
   "source": [
    "train, test = train_test_split(dataset_red_norm, test_size=0.2)\n",
    "y_train = train[\"Survived\"]\n",
    "x_train = train.loc[:, train.columns != 'Survived']\n",
    "y_test = test[\"Survived\"]\n",
    "x_test = test.loc[:, test.columns != 'Survived']"
   ]
  },
  {
   "cell_type": "markdown",
   "metadata": {},
   "source": [
    "**Logistic regression**"
   ]
  },
  {
   "cell_type": "code",
   "execution_count": 27,
   "metadata": {},
   "outputs": [
    {
     "data": {
      "text/plain": [
       "LogisticRegression(C=1.0, class_weight=None, dual=False, fit_intercept=True,\n",
       "          intercept_scaling=1, max_iter=100, multi_class='warn',\n",
       "          n_jobs=None, penalty='l2', random_state=None, solver='lbfgs',\n",
       "          tol=1e-10, verbose=0, warm_start=False)"
      ]
     },
     "execution_count": 27,
     "metadata": {},
     "output_type": "execute_result"
    }
   ],
   "source": [
    "logreg_clf = LogisticRegression(max_iter=100, penalty='l2', solver=\"lbfgs\", tol=1e-10)\n",
    "logreg_clf.fit(x_train,y_train)"
   ]
  },
  {
   "cell_type": "code",
   "execution_count": 28,
   "metadata": {},
   "outputs": [
    {
     "data": {
      "text/plain": [
       "0.8103932584269663"
      ]
     },
     "execution_count": 28,
     "metadata": {},
     "output_type": "execute_result"
    }
   ],
   "source": [
    "logreg_clf.score(x_train, y_train)"
   ]
  },
  {
   "cell_type": "code",
   "execution_count": 29,
   "metadata": {},
   "outputs": [
    {
     "data": {
      "text/plain": [
       "0.7430167597765364"
      ]
     },
     "execution_count": 29,
     "metadata": {},
     "output_type": "execute_result"
    }
   ],
   "source": [
    "logreg_clf.score(x_test, y_test)"
   ]
  },
  {
   "cell_type": "code",
   "execution_count": 30,
   "metadata": {},
   "outputs": [
    {
     "data": {
      "text/plain": [
       "array([False,  True,  True,  True, False, False,  True, False,  True,\n",
       "        True,  True,  True,  True, False, False,  True,  True,  True,\n",
       "        True,  True])"
      ]
     },
     "execution_count": 30,
     "metadata": {},
     "output_type": "execute_result"
    }
   ],
   "source": [
    "logreg_clf.predict(x_test.iloc[range(20),:]) == y_test.iloc[range(20)].values"
   ]
  },
  {
   "cell_type": "markdown",
   "metadata": {},
   "source": [
    "**SVM**"
   ]
  },
  {
   "cell_type": "code",
   "execution_count": 31,
   "metadata": {},
   "outputs": [],
   "source": [
    "svm_clf = svm.SVC(gamma='auto', kernel='rbf', C=1000)"
   ]
  },
  {
   "cell_type": "code",
   "execution_count": 32,
   "metadata": {},
   "outputs": [
    {
     "data": {
      "text/plain": [
       "SVC(C=1000, cache_size=200, class_weight=None, coef0=0.0,\n",
       "  decision_function_shape='ovr', degree=3, gamma='auto', kernel='rbf',\n",
       "  max_iter=-1, probability=False, random_state=None, shrinking=True,\n",
       "  tol=0.001, verbose=False)"
      ]
     },
     "execution_count": 32,
     "metadata": {},
     "output_type": "execute_result"
    }
   ],
   "source": [
    "svm_clf.fit(x_train,y_train)"
   ]
  },
  {
   "cell_type": "code",
   "execution_count": 33,
   "metadata": {},
   "outputs": [
    {
     "data": {
      "text/plain": [
       "0.8398876404494382"
      ]
     },
     "execution_count": 33,
     "metadata": {},
     "output_type": "execute_result"
    }
   ],
   "source": [
    "svm_clf.score(x_train, y_train)"
   ]
  },
  {
   "cell_type": "code",
   "execution_count": 34,
   "metadata": {},
   "outputs": [
    {
     "data": {
      "text/plain": [
       "0.8156424581005587"
      ]
     },
     "execution_count": 34,
     "metadata": {},
     "output_type": "execute_result"
    }
   ],
   "source": [
    "svm_clf.score(x_test, y_test)"
   ]
  },
  {
   "cell_type": "code",
   "execution_count": 35,
   "metadata": {},
   "outputs": [
    {
     "data": {
      "text/plain": [
       "array([False,  True,  True,  True,  True, False,  True, False,  True,\n",
       "        True,  True,  True,  True, False, False,  True,  True,  True,\n",
       "        True,  True])"
      ]
     },
     "execution_count": 35,
     "metadata": {},
     "output_type": "execute_result"
    }
   ],
   "source": [
    "svm_clf.predict(x_test.iloc[range(20),:]) == y_test.iloc[range(20)].values"
   ]
  },
  {
   "cell_type": "markdown",
   "metadata": {},
   "source": [
    "**AdaBoost**"
   ]
  },
  {
   "cell_type": "code",
   "execution_count": 48,
   "metadata": {},
   "outputs": [
    {
     "name": "stdout",
     "output_type": "stream",
     "text": [
      "Best Found new best parameters: - depth:2 - num_est:10 - lr:0.0010\n",
      " Best test score:0.7542\n",
      "Best Found new best parameters: - depth:2 - num_est:10 - lr:0.1468\n",
      " Best test score:0.7877\n",
      "Best Found new best parameters: - depth:2 - num_est:10 - lr:0.2154\n",
      " Best test score:0.8101\n",
      "Working... iteration: 20\n",
      "Working... iteration: 40\n",
      "Best Found new best parameters: - depth:2 - num_est:13 - lr:1.4678\n",
      " Best test score:0.8212\n",
      "Working... iteration: 60\n",
      "Working... iteration: 80\n",
      "Best Found new best parameters: - depth:2 - num_est:20 - lr:0.4642\n",
      " Best test score:0.8268\n",
      "Working... iteration: 100\n",
      "Working... iteration: 120\n",
      "Working... iteration: 140\n",
      "Working... iteration: 160\n",
      "Working... iteration: 180\n",
      "Working... iteration: 200\n",
      "Best Found new best parameters: - depth:2 - num_est:63 - lr:0.3162\n",
      " Best test score:0.8324\n",
      "Best Found new best parameters: - depth:2 - num_est:63 - lr:0.6813\n",
      " Best test score:0.8380\n",
      "Working... iteration: 220\n",
      "Working... iteration: 240\n",
      "Working... iteration: 260\n",
      "Working... iteration: 280\n",
      "Working... iteration: 300\n",
      "Best Found new best parameters: - depth:2 - num_est:158 - lr:0.1468\n",
      " Best test score:0.8436\n",
      "Working... iteration: 320\n",
      "Working... iteration: 340\n",
      "Working... iteration: 360\n",
      "Working... iteration: 380\n",
      "Working... iteration: 400\n",
      "Working... iteration: 420\n",
      "Working... iteration: 440\n",
      "Working... iteration: 460\n",
      "Working... iteration: 480\n",
      "Working... iteration: 500\n",
      "Working... iteration: 520\n",
      "Working... iteration: 540\n",
      "Working... iteration: 560\n",
      "Working... iteration: 580\n",
      "Working... iteration: 600\n",
      "Working... iteration: 620\n",
      "Working... iteration: 640\n",
      "Working... iteration: 660\n",
      "Working... iteration: 680\n",
      "Working... iteration: 700\n",
      "Working... iteration: 720\n",
      "Working... iteration: 740\n",
      "Working... iteration: 760\n",
      "Working... iteration: 780\n",
      "Working... iteration: 800\n",
      "Working... iteration: 820\n",
      "Working... iteration: 840\n",
      "Working... iteration: 860\n",
      "Working... iteration: 880\n",
      "Working... iteration: 900\n",
      "Working... iteration: 920\n",
      "Working... iteration: 940\n",
      "Working... iteration: 960\n",
      "Working... iteration: 980\n",
      "Working... iteration: 1000\n",
      "Working... iteration: 1020\n",
      "Working... iteration: 1040\n",
      "Working... iteration: 1060\n",
      "Working... iteration: 1080\n",
      "Working... iteration: 1100\n",
      "Working... iteration: 1120\n",
      "Working... iteration: 1140\n",
      "Working... iteration: 1160\n",
      "Working... iteration: 1180\n",
      "Working... iteration: 1200\n",
      "Best Found new best parameters: - depth:4 - num_est:63 - lr:0.3162\n",
      " Best test score:0.8492\n",
      "Working... iteration: 1220\n",
      "Working... iteration: 1240\n",
      "Working... iteration: 1260\n",
      "Working... iteration: 1280\n",
      "Working... iteration: 1300\n",
      "Working... iteration: 1320\n",
      "Working... iteration: 1340\n",
      "Working... iteration: 1360\n",
      "Working... iteration: 1380\n",
      "Working... iteration: 1400\n",
      "Working... iteration: 1420\n",
      "Working... iteration: 1440\n",
      "Working... iteration: 1460\n",
      "Working... iteration: 1480\n",
      "Working... iteration: 1500\n",
      "Working... iteration: 1520\n",
      "Working... iteration: 1540\n",
      "Working... iteration: 1560\n",
      "Best Found new best parameters: - depth:5 - num_est:16 - lr:0.0464\n",
      " Best test score:0.8547\n",
      "Working... iteration: 1580\n",
      "Working... iteration: 1600\n",
      "Working... iteration: 1620\n",
      "Working... iteration: 1640\n",
      "Working... iteration: 1660\n",
      "Working... iteration: 1680\n",
      "Working... iteration: 1700\n",
      "Working... iteration: 1720\n",
      "Working... iteration: 1740\n",
      "Working... iteration: 1760\n",
      "Working... iteration: 1780\n",
      "Working... iteration: 1800\n",
      "Working... iteration: 1820\n",
      "Working... iteration: 1840\n",
      "Working... iteration: 1860\n",
      "Working... iteration: 1880\n",
      "Working... iteration: 1900\n",
      "Working... iteration: 1920\n",
      "Working... iteration: 1940\n",
      "Working... iteration: 1960\n",
      "Working... iteration: 1980\n",
      "Working... iteration: 2000\n",
      "Working... iteration: 2020\n",
      "Working... iteration: 2040\n",
      "Working... iteration: 2060\n",
      "Working... iteration: 2080\n",
      "Working... iteration: 2100\n",
      "Working... iteration: 2120\n",
      "Working... iteration: 2140\n",
      "Working... iteration: 2160\n",
      "Working... iteration: 2180\n",
      "Working... iteration: 2200\n",
      "Working... iteration: 2220\n",
      "Working... iteration: 2240\n",
      "Working... iteration: 2260\n",
      "Working... iteration: 2280\n",
      "Working... iteration: 2300\n",
      "Working... iteration: 2320\n",
      "Working... iteration: 2340\n",
      "Working... iteration: 2360\n",
      "Working... iteration: 2380\n",
      "Working... iteration: 2400\n",
      "Working... iteration: 2420\n",
      "Working... iteration: 2440\n",
      "Working... iteration: 2460\n",
      "Working... iteration: 2480\n",
      "Working... iteration: 2500\n",
      "Working... iteration: 2520\n",
      "Working... iteration: 2540\n",
      "Working... iteration: 2560\n",
      "Working... iteration: 2580\n",
      "Working... iteration: 2600\n",
      "Working... iteration: 2620\n",
      "Working... iteration: 2640\n",
      "Working... iteration: 2660\n",
      "Working... iteration: 2680\n",
      "Working... iteration: 2700\n",
      "Working... iteration: 2720\n",
      "Working... iteration: 2740\n",
      "Working... iteration: 2760\n",
      "Working... iteration: 2780\n",
      "Working... iteration: 2800\n",
      "Working... iteration: 2820\n",
      "Working... iteration: 2840\n",
      "Working... iteration: 2860\n",
      "Working... iteration: 2880\n",
      "Working... iteration: 2900\n",
      "Working... iteration: 2920\n",
      "Working... iteration: 2940\n",
      "Working... iteration: 2960\n",
      "Working... iteration: 2980\n",
      "Working... iteration: 3000\n",
      "Working... iteration: 3020\n",
      "Working... iteration: 3040\n",
      "Working... iteration: 3060\n",
      "Working... iteration: 3080\n",
      "Working... iteration: 3100\n",
      "Working... iteration: 3120\n",
      "Working... iteration: 3140\n",
      "Working... iteration: 3160\n",
      "Working... iteration: 3180\n",
      "Working... iteration: 3200\n",
      "Working... iteration: 3220\n",
      "Working... iteration: 3240\n",
      "Working... iteration: 3260\n",
      "Working... iteration: 3280\n",
      "Working... iteration: 3300\n",
      "Working... iteration: 3320\n",
      "Working... iteration: 3340\n",
      "Working... iteration: 3360\n",
      "Working... iteration: 3380\n",
      "Working... iteration: 3400\n",
      "Working... iteration: 3420\n",
      "Working... iteration: 3440\n",
      "Working... iteration: 3460\n",
      "Working... iteration: 3480\n",
      "Working... iteration: 3500\n",
      "Working... iteration: 3520\n",
      "Working... iteration: 3540\n",
      "Working... iteration: 3560\n",
      "Working... iteration: 3580\n",
      "Working... iteration: 3600\n",
      "Working... iteration: 3620\n",
      "Working... iteration: 3640\n",
      "Working... iteration: 3660\n",
      "Working... iteration: 3680\n",
      "Working... iteration: 3700\n",
      "Working... iteration: 3720\n",
      "Working... iteration: 3740\n",
      "Working... iteration: 3760\n",
      "Working... iteration: 3780\n",
      "Working... iteration: 3800\n",
      "Working... iteration: 3820\n",
      "Working... iteration: 3840\n",
      "Working... iteration: 3860\n",
      "Working... iteration: 3880\n",
      "Working... iteration: 3900\n",
      "Working... iteration: 3920\n",
      "Working... iteration: 3940\n",
      "Working... iteration: 3960\n",
      "Working... iteration: 3980\n",
      "Working... iteration: 4000\n",
      "Best parameters - depth:5 - num_est:16 - lr:0.05\n"
     ]
    },
    {
     "data": {
      "text/plain": [
       "AdaBoostClassifier(algorithm='SAMME.R',\n",
       "          base_estimator=DecisionTreeClassifier(class_weight=None, criterion='gini', max_depth=5,\n",
       "            max_features=None, max_leaf_nodes=None,\n",
       "            min_impurity_decrease=0.0, min_impurity_split=None,\n",
       "            min_samples_leaf=1, min_samples_split=2,\n",
       "            min_weight_fraction_leaf=0.0, presort=False, random_state=None,\n",
       "            splitter='best'),\n",
       "          learning_rate=0.046415888336127774, n_estimators=16,\n",
       "          random_state=None)"
      ]
     },
     "execution_count": 48,
     "metadata": {},
     "output_type": "execute_result"
    }
   ],
   "source": [
    "best_depth = None\n",
    "best_num_clas = None\n",
    "best_lr = None\n",
    "best_test_score = 0\n",
    "\n",
    "counter = 0\n",
    "for depth in range(2,10):\n",
    "    for est_num in np.logspace(1,2.9,20):\n",
    "        est_num = int(np.round(est_num))\n",
    "        for lr in np.logspace(-3,1,25):\n",
    "            ada_clf = AdaBoostClassifier(base_estimator=DecisionTreeClassifier(max_depth=depth), n_estimators=est_num, learning_rate=lr)\n",
    "            ada_clf.fit(x_train,y_train)\n",
    "            curr_score = ada_clf.score(x_test, y_test)\n",
    "            counter += 1\n",
    "            if counter%20==0:\n",
    "                print(\"Working... iteration: %i\" % (counter))\n",
    "            if curr_score > best_test_score:\n",
    "                best_test_score = curr_score\n",
    "                best_depth = depth\n",
    "                best_num_clas = est_num\n",
    "                best_lr = lr\n",
    "                print(\"Best Found new best parameters: - depth:%d - num_est:%d - lr:%.4f\\n Best test score:%.4f\" % (best_depth, best_num_clas, best_lr, curr_score))\n",
    "\n",
    "print(\"Best parameters - depth:%d - num_est:%d - lr:%.2f\" % (best_depth, best_num_clas, best_lr))\n",
    "ada_clf = AdaBoostClassifier(base_estimator=DecisionTreeClassifier(max_depth=best_depth), n_estimators=best_num_clas, learning_rate=best_lr)\n",
    "ada_clf.fit(x_train,y_train)                "
   ]
  },
  {
   "cell_type": "code",
   "execution_count": 49,
   "metadata": {},
   "outputs": [
    {
     "data": {
      "text/plain": [
       "0.9283707865168539"
      ]
     },
     "execution_count": 49,
     "metadata": {},
     "output_type": "execute_result"
    }
   ],
   "source": [
    "ada_clf.score(x_train, y_train)"
   ]
  },
  {
   "cell_type": "code",
   "execution_count": 50,
   "metadata": {},
   "outputs": [
    {
     "data": {
      "text/plain": [
       "0.8212290502793296"
      ]
     },
     "execution_count": 50,
     "metadata": {},
     "output_type": "execute_result"
    }
   ],
   "source": [
    "ada_clf.score(x_test, y_test)"
   ]
  },
  {
   "cell_type": "code",
   "execution_count": 51,
   "metadata": {},
   "outputs": [
    {
     "data": {
      "text/plain": [
       "array([False,  True,  True,  True,  True, False,  True, False,  True,\n",
       "        True,  True,  True,  True, False, False,  True,  True,  True,\n",
       "        True,  True])"
      ]
     },
     "execution_count": 51,
     "metadata": {},
     "output_type": "execute_result"
    }
   ],
   "source": [
    "svm_clf.predict(x_test.iloc[range(20),:]) == y_test.iloc[range(20)].values"
   ]
  },
  {
   "cell_type": "code",
   "execution_count": null,
   "metadata": {},
   "outputs": [],
   "source": []
  },
  {
   "cell_type": "code",
   "execution_count": null,
   "metadata": {},
   "outputs": [],
   "source": []
  }
 ],
 "metadata": {
  "kernelspec": {
   "display_name": "Python 3",
   "language": "python",
   "name": "python3"
  },
  "language_info": {
   "codemirror_mode": {
    "name": "ipython",
    "version": 3
   },
   "file_extension": ".py",
   "mimetype": "text/x-python",
   "name": "python",
   "nbconvert_exporter": "python",
   "pygments_lexer": "ipython3",
   "version": "3.7.3"
  }
 },
 "nbformat": 4,
 "nbformat_minor": 2
}
