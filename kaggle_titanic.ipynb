{
 "cells": [
  {
   "cell_type": "markdown",
   "metadata": {},
   "source": [
    "# Titanic: Machine Learning from Disaster\n",
    "\n",
    "The goal of this model is given set of features to predict if passanger survived the trangedy of RMS Titanic in 1912.\n",
    "\n",
    "I have done no research on other participant contributions to not get biased towards their solutions and try something completely of my own.\n",
    "\n",
    "## Data ##\n",
    "**Dataset:** 891 data points, 10 features, 1 label\n",
    "**Test set:** 418 data points, 10 features\n",
    "\n",
    "**Features**:\n",
    "- Class of travel\n",
    "- Name\n",
    "- Gender\n",
    "- Age\n",
    "- Number of Sibling/Spouse aboard\n",
    "- Number of Parent/Child aboard\n",
    "- Ticket\n",
    "- Fare\n",
    "- Cabin\n",
    "- Embarked\n",
    "\n",
    "Not all passangers have all features. Also some features such as Name, Ticket or Cabin do not have standardized format.\n",
    "\n",
    "**Labels**:\n",
    "- Survived: 1 if passanger survived the tragedy, 0 if not"
   ]
  },
  {
   "cell_type": "code",
   "execution_count": 1,
   "metadata": {},
   "outputs": [
    {
     "name": "stdout",
     "output_type": "stream",
     "text": [
      "2.0.0-alpha0\n"
     ]
    }
   ],
   "source": [
    "from sklearn.model_selection import train_test_split\n",
    "from sklearn.linear_model import LogisticRegression\n",
    "from sklearn.tree import DecisionTreeClassifier\n",
    "from sklearn import svm\n",
    "from sklearn.ensemble import AdaBoostClassifier\n",
    "from xgboost import XGBClassifier\n",
    "import tensorflow as tf\n",
    "if tf.__version__ == \"2.0.0-alpha0\":\n",
    "    from tensorflow.keras import layers\n",
    "    from tensorflow.keras import optimizers\n",
    "    from tensorflow.keras.layers import Input, Dense, Flatten\n",
    "    from tensorflow.keras.models import Model\n",
    "else:\n",
    "    from keras import layers\n",
    "    from keras import optimizers\n",
    "    from keras.layers import Input, Dense, Flatten\n",
    "    from keras.models import Model\n",
    "import pandas as pd\n",
    "import numpy as np\n",
    "import matplotlib\n",
    "import random\n",
    "print(tf.__version__)\n",
    "\n",
    "random.seed(945)"
   ]
  },
  {
   "cell_type": "code",
   "execution_count": 2,
   "metadata": {},
   "outputs": [],
   "source": [
    "# Load dataset\n",
    "dataset = pd.read_csv(\"dataset/train.csv\")"
   ]
  },
  {
   "cell_type": "code",
   "execution_count": 3,
   "metadata": {},
   "outputs": [
    {
     "data": {
      "text/html": [
       "<div>\n",
       "<style scoped>\n",
       "    .dataframe tbody tr th:only-of-type {\n",
       "        vertical-align: middle;\n",
       "    }\n",
       "\n",
       "    .dataframe tbody tr th {\n",
       "        vertical-align: top;\n",
       "    }\n",
       "\n",
       "    .dataframe thead th {\n",
       "        text-align: right;\n",
       "    }\n",
       "</style>\n",
       "<table border=\"1\" class=\"dataframe\">\n",
       "  <thead>\n",
       "    <tr style=\"text-align: right;\">\n",
       "      <th></th>\n",
       "      <th>PassengerId</th>\n",
       "      <th>Survived</th>\n",
       "      <th>Pclass</th>\n",
       "      <th>Name</th>\n",
       "      <th>Sex</th>\n",
       "      <th>Age</th>\n",
       "      <th>SibSp</th>\n",
       "      <th>Parch</th>\n",
       "      <th>Ticket</th>\n",
       "      <th>Fare</th>\n",
       "      <th>Cabin</th>\n",
       "      <th>Embarked</th>\n",
       "    </tr>\n",
       "  </thead>\n",
       "  <tbody>\n",
       "    <tr>\n",
       "      <th>0</th>\n",
       "      <td>1</td>\n",
       "      <td>0</td>\n",
       "      <td>3</td>\n",
       "      <td>Braund, Mr. Owen Harris</td>\n",
       "      <td>male</td>\n",
       "      <td>22.0</td>\n",
       "      <td>1</td>\n",
       "      <td>0</td>\n",
       "      <td>A/5 21171</td>\n",
       "      <td>7.2500</td>\n",
       "      <td>NaN</td>\n",
       "      <td>S</td>\n",
       "    </tr>\n",
       "    <tr>\n",
       "      <th>1</th>\n",
       "      <td>2</td>\n",
       "      <td>1</td>\n",
       "      <td>1</td>\n",
       "      <td>Cumings, Mrs. John Bradley (Florence Briggs Th...</td>\n",
       "      <td>female</td>\n",
       "      <td>38.0</td>\n",
       "      <td>1</td>\n",
       "      <td>0</td>\n",
       "      <td>PC 17599</td>\n",
       "      <td>71.2833</td>\n",
       "      <td>C85</td>\n",
       "      <td>C</td>\n",
       "    </tr>\n",
       "    <tr>\n",
       "      <th>2</th>\n",
       "      <td>3</td>\n",
       "      <td>1</td>\n",
       "      <td>3</td>\n",
       "      <td>Heikkinen, Miss. Laina</td>\n",
       "      <td>female</td>\n",
       "      <td>26.0</td>\n",
       "      <td>0</td>\n",
       "      <td>0</td>\n",
       "      <td>STON/O2. 3101282</td>\n",
       "      <td>7.9250</td>\n",
       "      <td>NaN</td>\n",
       "      <td>S</td>\n",
       "    </tr>\n",
       "    <tr>\n",
       "      <th>3</th>\n",
       "      <td>4</td>\n",
       "      <td>1</td>\n",
       "      <td>1</td>\n",
       "      <td>Futrelle, Mrs. Jacques Heath (Lily May Peel)</td>\n",
       "      <td>female</td>\n",
       "      <td>35.0</td>\n",
       "      <td>1</td>\n",
       "      <td>0</td>\n",
       "      <td>113803</td>\n",
       "      <td>53.1000</td>\n",
       "      <td>C123</td>\n",
       "      <td>S</td>\n",
       "    </tr>\n",
       "    <tr>\n",
       "      <th>4</th>\n",
       "      <td>5</td>\n",
       "      <td>0</td>\n",
       "      <td>3</td>\n",
       "      <td>Allen, Mr. William Henry</td>\n",
       "      <td>male</td>\n",
       "      <td>35.0</td>\n",
       "      <td>0</td>\n",
       "      <td>0</td>\n",
       "      <td>373450</td>\n",
       "      <td>8.0500</td>\n",
       "      <td>NaN</td>\n",
       "      <td>S</td>\n",
       "    </tr>\n",
       "    <tr>\n",
       "      <th>5</th>\n",
       "      <td>6</td>\n",
       "      <td>0</td>\n",
       "      <td>3</td>\n",
       "      <td>Moran, Mr. James</td>\n",
       "      <td>male</td>\n",
       "      <td>NaN</td>\n",
       "      <td>0</td>\n",
       "      <td>0</td>\n",
       "      <td>330877</td>\n",
       "      <td>8.4583</td>\n",
       "      <td>NaN</td>\n",
       "      <td>Q</td>\n",
       "    </tr>\n",
       "    <tr>\n",
       "      <th>6</th>\n",
       "      <td>7</td>\n",
       "      <td>0</td>\n",
       "      <td>1</td>\n",
       "      <td>McCarthy, Mr. Timothy J</td>\n",
       "      <td>male</td>\n",
       "      <td>54.0</td>\n",
       "      <td>0</td>\n",
       "      <td>0</td>\n",
       "      <td>17463</td>\n",
       "      <td>51.8625</td>\n",
       "      <td>E46</td>\n",
       "      <td>S</td>\n",
       "    </tr>\n",
       "    <tr>\n",
       "      <th>7</th>\n",
       "      <td>8</td>\n",
       "      <td>0</td>\n",
       "      <td>3</td>\n",
       "      <td>Palsson, Master. Gosta Leonard</td>\n",
       "      <td>male</td>\n",
       "      <td>2.0</td>\n",
       "      <td>3</td>\n",
       "      <td>1</td>\n",
       "      <td>349909</td>\n",
       "      <td>21.0750</td>\n",
       "      <td>NaN</td>\n",
       "      <td>S</td>\n",
       "    </tr>\n",
       "    <tr>\n",
       "      <th>8</th>\n",
       "      <td>9</td>\n",
       "      <td>1</td>\n",
       "      <td>3</td>\n",
       "      <td>Johnson, Mrs. Oscar W (Elisabeth Vilhelmina Berg)</td>\n",
       "      <td>female</td>\n",
       "      <td>27.0</td>\n",
       "      <td>0</td>\n",
       "      <td>2</td>\n",
       "      <td>347742</td>\n",
       "      <td>11.1333</td>\n",
       "      <td>NaN</td>\n",
       "      <td>S</td>\n",
       "    </tr>\n",
       "    <tr>\n",
       "      <th>9</th>\n",
       "      <td>10</td>\n",
       "      <td>1</td>\n",
       "      <td>2</td>\n",
       "      <td>Nasser, Mrs. Nicholas (Adele Achem)</td>\n",
       "      <td>female</td>\n",
       "      <td>14.0</td>\n",
       "      <td>1</td>\n",
       "      <td>0</td>\n",
       "      <td>237736</td>\n",
       "      <td>30.0708</td>\n",
       "      <td>NaN</td>\n",
       "      <td>C</td>\n",
       "    </tr>\n",
       "  </tbody>\n",
       "</table>\n",
       "</div>"
      ],
      "text/plain": [
       "   PassengerId  Survived  Pclass  \\\n",
       "0            1         0       3   \n",
       "1            2         1       1   \n",
       "2            3         1       3   \n",
       "3            4         1       1   \n",
       "4            5         0       3   \n",
       "5            6         0       3   \n",
       "6            7         0       1   \n",
       "7            8         0       3   \n",
       "8            9         1       3   \n",
       "9           10         1       2   \n",
       "\n",
       "                                                Name     Sex   Age  SibSp  \\\n",
       "0                            Braund, Mr. Owen Harris    male  22.0      1   \n",
       "1  Cumings, Mrs. John Bradley (Florence Briggs Th...  female  38.0      1   \n",
       "2                             Heikkinen, Miss. Laina  female  26.0      0   \n",
       "3       Futrelle, Mrs. Jacques Heath (Lily May Peel)  female  35.0      1   \n",
       "4                           Allen, Mr. William Henry    male  35.0      0   \n",
       "5                                   Moran, Mr. James    male   NaN      0   \n",
       "6                            McCarthy, Mr. Timothy J    male  54.0      0   \n",
       "7                     Palsson, Master. Gosta Leonard    male   2.0      3   \n",
       "8  Johnson, Mrs. Oscar W (Elisabeth Vilhelmina Berg)  female  27.0      0   \n",
       "9                Nasser, Mrs. Nicholas (Adele Achem)  female  14.0      1   \n",
       "\n",
       "   Parch            Ticket     Fare Cabin Embarked  \n",
       "0      0         A/5 21171   7.2500   NaN        S  \n",
       "1      0          PC 17599  71.2833   C85        C  \n",
       "2      0  STON/O2. 3101282   7.9250   NaN        S  \n",
       "3      0            113803  53.1000  C123        S  \n",
       "4      0            373450   8.0500   NaN        S  \n",
       "5      0            330877   8.4583   NaN        Q  \n",
       "6      0             17463  51.8625   E46        S  \n",
       "7      1            349909  21.0750   NaN        S  \n",
       "8      2            347742  11.1333   NaN        S  \n",
       "9      0            237736  30.0708   NaN        C  "
      ]
     },
     "execution_count": 3,
     "metadata": {},
     "output_type": "execute_result"
    }
   ],
   "source": [
    "dataset.head(10)"
   ]
  },
  {
   "cell_type": "code",
   "execution_count": 4,
   "metadata": {},
   "outputs": [
    {
     "name": "stdout",
     "output_type": "stream",
     "text": [
      "#samples: 891\n",
      "#features: 10\n"
     ]
    }
   ],
   "source": [
    "print(\"#samples: \"+str(dataset.shape[0]))\n",
    "print(\"#features: \"+str(dataset.shape[1]-2)) # -2 for Id and label"
   ]
  },
  {
   "cell_type": "markdown",
   "metadata": {},
   "source": [
    "All features might not be present in all examples:"
   ]
  },
  {
   "cell_type": "code",
   "execution_count": 5,
   "metadata": {},
   "outputs": [
    {
     "name": "stdout",
     "output_type": "stream",
     "text": [
      "PassengerId    891\n",
      "Survived       891\n",
      "Pclass         891\n",
      "Name           891\n",
      "Sex            891\n",
      "Age            714\n",
      "SibSp          891\n",
      "Parch          891\n",
      "Ticket         891\n",
      "Fare           891\n",
      "Cabin          204\n",
      "Embarked       889\n",
      "dtype: int64\n"
     ]
    }
   ],
   "source": [
    "print(dataset.count())"
   ]
  },
  {
   "cell_type": "markdown",
   "metadata": {},
   "source": [
    "Balance of the dataset:"
   ]
  },
  {
   "cell_type": "code",
   "execution_count": 6,
   "metadata": {},
   "outputs": [
    {
     "name": "stdout",
     "output_type": "stream",
     "text": [
      "Passangers that survived: 342, 38.38%\n",
      "Passangers that did not survived: 549, 61.62%\n"
     ]
    }
   ],
   "source": [
    "num_of_survived = dataset[dataset.Survived == 1].Survived.count()\n",
    "num_of_not_survived = dataset.shape[0]-num_of_survived\n",
    "print(\"Passangers that survived: %d, %.2f%%\" % (num_of_survived,  num_of_survived/dataset.shape[0]*100))\n",
    "print(\"Passangers that did not survived: %d, %.2f%%\" % (num_of_not_survived,  num_of_not_survived/dataset.shape[0]*100))"
   ]
  },
  {
   "cell_type": "markdown",
   "metadata": {},
   "source": [
    "## Feature analysis ##\n",
    "\n",
    "For the first, simplest model, lets focus on features that do not need a lot of preprocessing. Thus we ommit Name, Ticket and Cabin.\n",
    "\n",
    "Name feature could give us information about wealth of the passanger, however we already receive the Class of travel which should be good indicator and we might need much bigger dataset to extract such information from the dataset.\n",
    "\n",
    "Cabin feature could be very helpful, however Cabin information is present in only 204 samples, is unique (would need preprocessing to add information about the location of the cabin) and some passangers have more than 1.\n",
    "\n",
    "Ticket feature might give similar information as Cabin and Class of travel, but similarly as in Cabin needs research to extract useful information and preprocessing since it does not always have standardized format.\n",
    "\n",
    "**Class of travel**\n",
    "\n",
    "Contains information about wealth of the passanger and likely position of the cabin on the ship.\n",
    "\n",
    "It can take value from 1,2 or 3 from 1 being the most luxurious. Lets see the distribution in the dataset:"
   ]
  },
  {
   "cell_type": "code",
   "execution_count": 7,
   "metadata": {},
   "outputs": [
    {
     "data": {
      "text/plain": [
       "Survived  Pclass\n",
       "0         1          80\n",
       "          2          97\n",
       "          3         372\n",
       "1         1         136\n",
       "          2          87\n",
       "          3         119\n",
       "Name: Pclass, dtype: int64"
      ]
     },
     "execution_count": 7,
     "metadata": {},
     "output_type": "execute_result"
    }
   ],
   "source": [
    "dataset.groupby(['Survived', 'Pclass'])[\"Pclass\"].count()"
   ]
  },
  {
   "cell_type": "markdown",
   "metadata": {},
   "source": [
    "From numbers above it can be seen that only 1/4 of passangers in 3rd class in the dataset survived, however more than 3/5 of passangers in 1st class survived. Showing that Class of travel is possibly good feature.\n",
    "\n",
    "**Gender**\n",
    "\n",
    "Gender is potentially very usefull feature considering RMS Titanic being famous for the phrase \"Woman and children first\". According to blog post (https://blog.minitab.com/blog/real-world-quality-improvement/analyzing-titanic-survival-rates) which analyzed available data 73% of female passangers survived and only 21% of male passangers did.\n",
    "\n",
    "Lets see the distribution in our dataset:"
   ]
  },
  {
   "cell_type": "code",
   "execution_count": 8,
   "metadata": {},
   "outputs": [
    {
     "data": {
      "text/plain": [
       "Survived  Sex   \n",
       "0         female     81\n",
       "          male      468\n",
       "1         female    233\n",
       "          male      109\n",
       "Name: Sex, dtype: int64"
      ]
     },
     "execution_count": 8,
     "metadata": {},
     "output_type": "execute_result"
    }
   ],
   "source": [
    "dataset.groupby(['Survived', 'Sex'])[\"Sex\"].count()"
   ]
  },
  {
   "cell_type": "code",
   "execution_count": 9,
   "metadata": {},
   "outputs": [
    {
     "name": "stdout",
     "output_type": "stream",
     "text": [
      "Female survived: 74.20%, Male survived: 18.89%\n"
     ]
    }
   ],
   "source": [
    "print(\"Female survived: %.2f%%, Male survived: %.2f%%\" % (233/(81+233)*100, 109/(109+468)*100))"
   ]
  },
  {
   "cell_type": "markdown",
   "metadata": {},
   "source": [
    "**Age**\n",
    "\n",
    "I suspect Age to be partially missledaing. Firstly, I lack knowledge about the policy that took place considering age - if they prioritized elderly or young. However even if prioritization would go towards elderly, they might be more prone to not being able to get to lifeboats in time.\n",
    "\n",
    "Again, lets look at the distribution:"
   ]
  },
  {
   "cell_type": "code",
   "execution_count": 10,
   "metadata": {},
   "outputs": [
    {
     "data": {
      "text/plain": [
       "<matplotlib.axes._subplots.AxesSubplot at 0x20af2100f98>"
      ]
     },
     "execution_count": 10,
     "metadata": {},
     "output_type": "execute_result"
    }
   ],
   "source": [
    "dataset[dataset[\"Survived\"]==0][\"Age\"].hist(bins=8)"
   ]
  },
  {
   "cell_type": "code",
   "execution_count": 11,
   "metadata": {},
   "outputs": [
    {
     "data": {
      "text/plain": [
       "<matplotlib.axes._subplots.AxesSubplot at 0x20af432a160>"
      ]
     },
     "execution_count": 11,
     "metadata": {},
     "output_type": "execute_result"
    },
    {
     "data": {
      "image/png": "[encoded data removed]",
      "text/plain": [
       "<Figure size 432x288 with 1 Axes>"
      ]
     },
     "metadata": {
      "needs_background": "light"
     },
     "output_type": "display_data"
    }
   ],
   "source": [
    "dataset[dataset[\"Survived\"]==1][\"Age\"].hist(bins=8)"
   ]
  },
  {
   "cell_type": "markdown",
   "metadata": {
    "scrolled": true
   },
   "source": [
    "Distributions seem very similar, however one can notice significantly higher group of younger passangers survived and signifantly higher group of older passangers did not. This suggests children were priority."
   ]
  },
  {
   "cell_type": "markdown",
   "metadata": {},
   "source": [
    "**Number of Sibling/Spouse aboard and Number of Parent/Child aboard**\n",
    "\n",
    "These features might not seem valuable at first, however if it is true that male passangers were let on the lifeboats if they had children or maybe with their spouse/whole family. Lets look at few histograms that might give us some idea."
   ]
  },
  {
   "cell_type": "code",
   "execution_count": 12,
   "metadata": {},
   "outputs": [
    {
     "data": {
      "text/plain": [
       "<matplotlib.axes._subplots.AxesSubplot at 0x20af4378048>"
      ]
     },
     "execution_count": 12,
     "metadata": {},
     "output_type": "execute_result"
    },
    {
     "data": {
      "image/png": "[encoded data removed]",
      "text/plain": [
       "<Figure size 432x288 with 1 Axes>"
      ]
     },
     "metadata": {
      "needs_background": "light"
     },
     "output_type": "display_data"
    }
   ],
   "source": [
    "dataset[dataset[\"Survived\"]==0][\"SibSp\"].hist(bins=10)\n",
    "dataset[dataset[\"Survived\"]==1][\"SibSp\"].hist(bins=5, alpha=0.4)\n"
   ]
  },
  {
   "cell_type": "code",
   "execution_count": 13,
   "metadata": {},
   "outputs": [
    {
     "data": {
      "text/plain": [
       "<matplotlib.axes._subplots.AxesSubplot at 0x20af4481f98>"
      ]
     },
     "execution_count": 13,
     "metadata": {},
     "output_type": "execute_result"
    },
    {
     "data": {
      "image/png": "[encoded data removed]",
      "text/plain": [
       "<Figure size 432x288 with 1 Axes>"
      ]
     },
     "metadata": {
      "needs_background": "light"
     },
     "output_type": "display_data"
    }
   ],
   "source": [
    "dataset[dataset[\"Survived\"]==0][\"Parch\"].hist(bins=9)\n",
    "dataset[dataset[\"Survived\"]==1][\"Parch\"].hist(bins=8, alpha=0.4)"
   ]
  },
  {
   "cell_type": "code",
   "execution_count": 14,
   "metadata": {},
   "outputs": [
    {
     "data": {
      "text/plain": [
       "80"
      ]
     },
     "execution_count": 14,
     "metadata": {},
     "output_type": "execute_result"
    }
   ],
   "source": [
    "dataset[(dataset[\"Survived\"]==0) & (dataset[\"SibSp\"]>0) & (dataset[\"Parch\"]>0)][\"Survived\"].count()"
   ]
  },
  {
   "cell_type": "code",
   "execution_count": 15,
   "metadata": {},
   "outputs": [
    {
     "data": {
      "text/plain": [
       "62"
      ]
     },
     "execution_count": 15,
     "metadata": {},
     "output_type": "execute_result"
    }
   ],
   "source": [
    "dataset[(dataset[\"Survived\"]==1) & (dataset[\"SibSp\"]>0) & (dataset[\"Parch\"]>0)][\"Survived\"].count()"
   ]
  },
  {
   "cell_type": "markdown",
   "metadata": {},
   "source": [
    "Having a lot of siblings/spouses and children/parents aboard (>4) seems to be bad for your survival chances. It makes sense since you are more likely to refuse board lifeboat when your family is not together or you are not all allowed to board the lifeboat together.\n",
    "\n",
    "Idea that having more than 0 from both categories, thus traveling with family, might be positive seems to be false since more of those passangers died than survived.\n",
    "\n",
    "**Embarked**\n",
    "\n",
    "The port in which a passenger has embarked. C - Cherbourg, S - Southampton, Q = Queenstown. My assumption is this feature has no influence. If the analysis confirms the distribution is close to uniform I shall ommit this feature."
   ]
  },
  {
   "cell_type": "code",
   "execution_count": 16,
   "metadata": {},
   "outputs": [
    {
     "data": {
      "text/plain": [
       "Survived  Embarked\n",
       "0         C            75\n",
       "          Q            47\n",
       "          S           427\n",
       "1         C            93\n",
       "          Q            30\n",
       "          S           217\n",
       "Name: Embarked, dtype: int64"
      ]
     },
     "execution_count": 16,
     "metadata": {},
     "output_type": "execute_result"
    }
   ],
   "source": [
    "dataset.groupby(['Survived', 'Embarked'])[\"Embarked\"].count()"
   ]
  },
  {
   "cell_type": "code",
   "execution_count": 17,
   "metadata": {},
   "outputs": [
    {
     "name": "stdout",
     "output_type": "stream",
     "text": [
      "Survived - S:0.34% C:0.55% Q:0.39%\n"
     ]
    }
   ],
   "source": [
    "print(\"Survived - S:%.2f%% C:%.2f%% Q:%.2f%%\" % (217/(427+217),93/(75+93),30/(30+47)))"
   ]
  },
  {
   "cell_type": "code",
   "execution_count": 18,
   "metadata": {},
   "outputs": [
    {
     "data": {
      "text/plain": [
       "Embarked  Pclass\n",
       "C         1          85\n",
       "          2          17\n",
       "          3          66\n",
       "Q         1           2\n",
       "          2           3\n",
       "          3          72\n",
       "S         1         127\n",
       "          2         164\n",
       "          3         353\n",
       "Name: Pclass, dtype: int64"
      ]
     },
     "execution_count": 18,
     "metadata": {},
     "output_type": "execute_result"
    }
   ],
   "source": [
    "dataset.groupby(['Embarked', 'Pclass'])[\"Pclass\"].count()"
   ]
  },
  {
   "cell_type": "markdown",
   "metadata": {},
   "source": [
    "It seems that passangers traveling from Cherbough which was 2nd out of 3 boarding places had higher chance of survival than passangers boarding on the other. This correlates with Pclass since there is high percentage of passangers from 1st class that boarded on this stop. I will keep it in the dataset but might try to ommit it."
   ]
  },
  {
   "cell_type": "markdown",
   "metadata": {},
   "source": [
    "**Fare**\n",
    "\n",
    "Fare feature will most likely be very correlated with Pclass. Lets see if that is true."
   ]
  },
  {
   "cell_type": "code",
   "execution_count": 19,
   "metadata": {},
   "outputs": [
    {
     "data": {
      "text/plain": [
       "<matplotlib.axes._subplots.AxesSubplot at 0x20af44f6320>"
      ]
     },
     "execution_count": 19,
     "metadata": {},
     "output_type": "execute_result"
    },
    {
     "data": {
      "image/png": "[encoded data removed]",
      "text/plain": [
       "<Figure size 432x288 with 1 Axes>"
      ]
     },
     "metadata": {
      "needs_background": "light"
     },
     "output_type": "display_data"
    }
   ],
   "source": [
    "dataset[dataset[\"Pclass\"]==3][\"Fare\"].hist(bins=5)"
   ]
  },
  {
   "cell_type": "code",
   "execution_count": 20,
   "metadata": {},
   "outputs": [
    {
     "data": {
      "text/plain": [
       "<matplotlib.axes._subplots.AxesSubplot at 0x20af454ceb8>"
      ]
     },
     "execution_count": 20,
     "metadata": {},
     "output_type": "execute_result"
    },
    {
     "data": {
      "image/png": "[encoded data removed]",
      "text/plain": [
       "<Figure size 432x288 with 1 Axes>"
      ]
     },
     "metadata": {
      "needs_background": "light"
     },
     "output_type": "display_data"
    }
   ],
   "source": [
    "dataset[dataset[\"Pclass\"]==2][\"Fare\"].hist(bins=5)"
   ]
  },
  {
   "cell_type": "code",
   "execution_count": 21,
   "metadata": {},
   "outputs": [
    {
     "data": {
      "text/plain": [
       "<matplotlib.axes._subplots.AxesSubplot at 0x20af55dfcf8>"
      ]
     },
     "execution_count": 21,
     "metadata": {},
     "output_type": "execute_result"
    },
    {
     "data": {
      "image/png": "[encoded data removed]",
      "text/plain": [
       "<Figure size 432x288 with 1 Axes>"
      ]
     },
     "metadata": {
      "needs_background": "light"
     },
     "output_type": "display_data"
    }
   ],
   "source": [
    "dataset[dataset[\"Pclass\"]==1][\"Fare\"].hist(bins=20)"
   ]
  },
  {
   "cell_type": "markdown",
   "metadata": {},
   "source": [
    "Even tough the there are some passangers that payed similar Fare in 3rd and 1st class, there seems to be visible correlation.\n",
    "\n",
    "**Conclusion**\n",
    "\n",
    "I think Pclass, Sex and Age are the features that give us the most information. We will try few classifiers with different set of features, however these 3 should always be present."
   ]
  },
  {
   "cell_type": "markdown",
   "metadata": {},
   "source": [
    "## Dataset preprocessing ##\n",
    "\n",
    "Lets select only features we decided to use now and normalize them."
   ]
  },
  {
   "cell_type": "code",
   "execution_count": 22,
   "metadata": {},
   "outputs": [],
   "source": [
    "dataset_red = dataset[[\"Survived\", \"Pclass\", \"Sex\", \"Age\", \"SibSp\", \"Parch\",\"Fare\", \"Embarked\"]]\n",
    "mapping_sex = {'male': 0, 'female': 1}\n",
    "mapping_embarked = {'S': 0, 'C': 1, 'Q': 2}\n",
    "dataset_red = dataset_red.applymap(lambda s: mapping_sex.get(s) if s in mapping_sex else s)\n",
    "dataset_red = dataset_red.applymap(lambda s: mapping_embarked.get(s) if s in mapping_embarked else s)\n",
    "dataset_red_norm = dataset_red.apply(lambda x: (x - np.mean(x)) / (np.max(x) - np.min(x)))\n",
    "dataset_red_norm[\"Survived\"] = dataset_red[\"Survived\"]\n",
    "dataset_red_norm_no_nan = dataset_red_norm.fillna(value='0')\n",
    "dataset_red_norm[\"Age\"] = pd.to_numeric(dataset_red_norm[\"Age\"], errors='ignore')\n",
    "dataset_red_norm[\"Embarked\"] = pd.to_numeric(dataset_red_norm[\"Age\"], errors='ignore')\n",
    "dataset_red_norm_no_nan[\"Age\"] = pd.to_numeric(dataset_red_norm_no_nan[\"Age\"], errors='ignore')\n",
    "dataset_red_norm_no_nan[\"Embarked\"] = pd.to_numeric(dataset_red_norm_no_nan[\"Age\"], errors='ignore')"
   ]
  },
  {
   "cell_type": "markdown",
   "metadata": {},
   "source": [
    "**Split data**"
   ]
  },
  {
   "cell_type": "code",
   "execution_count": 23,
   "metadata": {},
   "outputs": [],
   "source": [
    "train, test = train_test_split(dataset_red_norm_no_nan, test_size=0.2, random_state = 101)\n",
    "y_train = train[\"Survived\"]\n",
    "x_train = train.loc[:, train.columns != 'Survived']\n",
    "y_test = test[\"Survived\"]\n",
    "x_test = test.loc[:, test.columns != 'Survived']\n",
    "\n",
    "y_trainNaN = train[\"Survived\"]\n",
    "x_trainNaN = train.loc[:, train.columns != 'Survived']\n",
    "y_testNaN = test[\"Survived\"]\n",
    "x_testNaN = test.loc[:, test.columns != 'Survived']"
   ]
  },
  {
   "cell_type": "markdown",
   "metadata": {},
   "source": [
    "## Training classical classifiers ##"
   ]
  },
  {
   "cell_type": "markdown",
   "metadata": {},
   "source": [
    "**Logistic regression**"
   ]
  },
  {
   "cell_type": "code",
   "execution_count": 24,
   "metadata": {},
   "outputs": [
    {
     "data": {
      "text/plain": [
       "LogisticRegression(C=1.0, class_weight=None, dual=False, fit_intercept=True,\n",
       "                   intercept_scaling=1, l1_ratio=None, max_iter=100,\n",
       "                   multi_class='warn', n_jobs=None, penalty='l2',\n",
       "                   random_state=293, solver='lbfgs', tol=1e-10, verbose=0,\n",
       "                   warm_start=False)"
      ]
     },
     "execution_count": 24,
     "metadata": {},
     "output_type": "execute_result"
    }
   ],
   "source": [
    "logreg_clf = LogisticRegression(max_iter=100, penalty='l2', solver=\"lbfgs\", tol=1e-10, random_state=293)\n",
    "logreg_clf.fit(x_train,y_train)"
   ]
  },
  {
   "cell_type": "code",
   "execution_count": 25,
   "metadata": {},
   "outputs": [
    {
     "data": {
      "text/plain": [
       "0.7991573033707865"
      ]
     },
     "execution_count": 25,
     "metadata": {},
     "output_type": "execute_result"
    }
   ],
   "source": [
    "logreg_clf.score(x_train, y_train)"
   ]
  },
  {
   "cell_type": "code",
   "execution_count": 26,
   "metadata": {},
   "outputs": [
    {
     "data": {
      "text/plain": [
       "0.7932960893854749"
      ]
     },
     "execution_count": 26,
     "metadata": {},
     "output_type": "execute_result"
    }
   ],
   "source": [
    "logreg_clf.score(x_test, y_test)"
   ]
  },
  {
   "cell_type": "code",
   "execution_count": 27,
   "metadata": {},
   "outputs": [
    {
     "data": {
      "text/plain": [
       "array([ True,  True, False, False,  True,  True, False,  True,  True,\n",
       "        True,  True,  True,  True, False, False,  True, False,  True,\n",
       "        True,  True])"
      ]
     },
     "execution_count": 27,
     "metadata": {},
     "output_type": "execute_result"
    }
   ],
   "source": [
    "logreg_clf.predict(x_test.iloc[range(20),:]) == y_test.iloc[range(20)].values"
   ]
  },
  {
   "cell_type": "markdown",
   "metadata": {},
   "source": [
    "**SVM**"
   ]
  },
  {
   "cell_type": "code",
   "execution_count": 28,
   "metadata": {},
   "outputs": [],
   "source": [
    "svm_clf = svm.SVC(gamma='auto', kernel='rbf', C=1000, random_state=934)"
   ]
  },
  {
   "cell_type": "code",
   "execution_count": 29,
   "metadata": {},
   "outputs": [
    {
     "data": {
      "text/plain": [
       "SVC(C=1000, cache_size=200, class_weight=None, coef0=0.0,\n",
       "    decision_function_shape='ovr', degree=3, gamma='auto', kernel='rbf',\n",
       "    max_iter=-1, probability=False, random_state=934, shrinking=True, tol=0.001,\n",
       "    verbose=False)"
      ]
     },
     "execution_count": 29,
     "metadata": {},
     "output_type": "execute_result"
    }
   ],
   "source": [
    "svm_clf.fit(x_train,y_train)"
   ]
  },
  {
   "cell_type": "code",
   "execution_count": 30,
   "metadata": {},
   "outputs": [
    {
     "data": {
      "text/plain": [
       "0.8342696629213483"
      ]
     },
     "execution_count": 30,
     "metadata": {},
     "output_type": "execute_result"
    }
   ],
   "source": [
    "svm_clf.score(x_train, y_train)"
   ]
  },
  {
   "cell_type": "code",
   "execution_count": 31,
   "metadata": {},
   "outputs": [
    {
     "data": {
      "text/plain": [
       "0.8268156424581006"
      ]
     },
     "execution_count": 31,
     "metadata": {},
     "output_type": "execute_result"
    }
   ],
   "source": [
    "svm_clf.score(x_test, y_test)"
   ]
  },
  {
   "cell_type": "code",
   "execution_count": 32,
   "metadata": {},
   "outputs": [
    {
     "data": {
      "text/plain": [
       "array([ True,  True,  True,  True,  True,  True, False,  True,  True,\n",
       "        True,  True,  True, False, False, False,  True, False,  True,\n",
       "        True,  True])"
      ]
     },
     "execution_count": 32,
     "metadata": {},
     "output_type": "execute_result"
    }
   ],
   "source": [
    "svm_clf.predict(x_test.iloc[range(20),:]) == y_test.iloc[range(20)].values"
   ]
  },
  {
   "cell_type": "markdown",
   "metadata": {},
   "source": [
    "**AdaBoost**"
   ]
  },
  {
   "cell_type": "code",
   "execution_count": 48,
   "metadata": {},
   "outputs": [
    {
     "name": "stdout",
     "output_type": "stream",
     "text": [
      "Best parameters - depth:4 - num_est:20 - lr:0.22\n"
     ]
    },
    {
     "data": {
      "text/plain": [
       "AdaBoostClassifier(algorithm='SAMME.R',\n",
       "                   base_estimator=DecisionTreeClassifier(class_weight=None,\n",
       "                                                         criterion='gini',\n",
       "                                                         max_depth=4,\n",
       "                                                         max_features=None,\n",
       "                                                         max_leaf_nodes=None,\n",
       "                                                         min_impurity_decrease=0.0,\n",
       "                                                         min_impurity_split=None,\n",
       "                                                         min_samples_leaf=1,\n",
       "                                                         min_samples_split=2,\n",
       "                                                         min_weight_fraction_leaf=0.0,\n",
       "                                                         presort=False,\n",
       "                                                         random_state=None,\n",
       "                                                         splitter='best'),\n",
       "                   learning_rate=0.2154, n_estimators=20, random_state=0)"
      ]
     },
     "execution_count": 48,
     "metadata": {},
     "output_type": "execute_result"
    }
   ],
   "source": [
    "#best_depth = None\n",
    "#best_num_clas = None\n",
    "#best_lr = None\n",
    "#best_test_score = 0\n",
    "#\n",
    "#counter = 0\n",
    "#for depth in range(2,10):\n",
    "#    for est_num in np.logspace(1,2.9,20):\n",
    "#        est_num = int(np.round(est_num))\n",
    "#        for lr in np.logspace(-3,1,25):\n",
    "#            ada_clf = AdaBoostClassifier(base_estimator=DecisionTreeClassifier(max_depth=depth), n_estimators=est_num, learning_rate=lr, random_state=0)\n",
    "#            ada_clf.fit(x_train,y_train)\n",
    "#            curr_score = ada_clf.score(x_test, y_test)\n",
    "#            counter += 1\n",
    "#            if counter%20==0:\n",
    "#                print(\"Working... iteration: %i\" % (counter))\n",
    "#            if curr_score > best_test_score:\n",
    "#                best_test_score = curr_score\n",
    "#                best_depth = depth\n",
    "#                best_num_clas = est_num\n",
    "#                best_lr = lr\n",
    "#                print(\"Best Found new best parameters: - depth:%d - num_est:%d - lr:%.4f\\n Best test score:%.4f\" % (best_depth, best_num_clas, best_lr, curr_score))\n",
    "\n",
    "best_depth=4\n",
    "best_num_clas=20\n",
    "best_lr=0.2154\n",
    "print(\"Best parameters - depth:%d - num_est:%d - lr:%.2f\" % (best_depth, best_num_clas, best_lr))\n",
    "ada_clf = AdaBoostClassifier(base_estimator=DecisionTreeClassifier(max_depth=best_depth), n_estimators=best_num_clas, learning_rate=best_lr, random_state=0)\n",
    "ada_clf.fit(x_train,y_train)                "
   ]
  },
  {
   "cell_type": "code",
   "execution_count": 49,
   "metadata": {},
   "outputs": [
    {
     "data": {
      "text/plain": [
       "0.9367977528089888"
      ]
     },
     "execution_count": 49,
     "metadata": {},
     "output_type": "execute_result"
    }
   ],
   "source": [
    "ada_clf.score(x_train, y_train)"
   ]
  },
  {
   "cell_type": "code",
   "execution_count": 50,
   "metadata": {},
   "outputs": [
    {
     "data": {
      "text/plain": [
       "0.8547486033519553"
      ]
     },
     "execution_count": 50,
     "metadata": {},
     "output_type": "execute_result"
    }
   ],
   "source": [
    "ada_clf.score(x_test, y_test)"
   ]
  },
  {
   "cell_type": "code",
   "execution_count": 51,
   "metadata": {},
   "outputs": [
    {
     "data": {
      "text/plain": [
       "array([ True,  True,  True, False,  True,  True,  True,  True,  True,\n",
       "        True,  True,  True,  True,  True,  True,  True,  True,  True,\n",
       "        True, False, False,  True,  True,  True,  True, False,  True,\n",
       "       False,  True,  True])"
      ]
     },
     "execution_count": 51,
     "metadata": {},
     "output_type": "execute_result"
    }
   ],
   "source": [
    "ada_clf.predict(x_test.iloc[range(20,50),:]) == y_test.iloc[range(20,50)].values"
   ]
  },
  {
   "cell_type": "markdown",
   "metadata": {},
   "source": [
    "**Submission AdaBoost**"
   ]
  },
  {
   "cell_type": "code",
   "execution_count": 52,
   "metadata": {},
   "outputs": [],
   "source": [
    "test_data = pd.read_csv(\"dataset/test.csv\")\n",
    "test_data_red = test_data[[\"Pclass\", \"Sex\", \"Age\", \"SibSp\", \"Parch\",\"Fare\", \"Embarked\"]]\n",
    "mapping_sex = {'male': 0, 'female': 1}\n",
    "mapping_embarked = {'S': 0, 'C': 1, 'Q': 2}\n",
    "test_data_red = test_data_red.applymap(lambda s: mapping_sex.get(s) if s in mapping_sex else s)\n",
    "test_data_red = test_data_red.applymap(lambda s: mapping_embarked.get(s) if s in mapping_embarked else s)\n",
    "test_data_red_norm = test_data_red.apply(lambda x: (x - np.mean(x)) / (np.max(x) - np.min(x)))\n",
    "test_data_red_norm = test_data_red_norm.fillna(value='0')\n",
    "\n",
    "selected_clf = ada_clf\n",
    "predictions = ada_clf.predict(test_data_red_norm)\n",
    "test_predictions = test_data[[\"PassengerId\"]]\n",
    "test_predictions.insert(loc=1, column='Survived', value=predictions)\n",
    "test_predictions.to_csv(\"kaggle_submission_adaboost\", index=False)"
   ]
  },
  {
   "cell_type": "markdown",
   "metadata": {},
   "source": [
    "**XGBoost**"
   ]
  },
  {
   "cell_type": "code",
   "execution_count": 53,
   "metadata": {},
   "outputs": [
    {
     "data": {
      "text/plain": [
       "Pclass      float64\n",
       "Sex         float64\n",
       "Age         float64\n",
       "SibSp       float64\n",
       "Parch       float64\n",
       "Fare        float64\n",
       "Embarked    float64\n",
       "dtype: object"
      ]
     },
     "execution_count": 53,
     "metadata": {},
     "output_type": "execute_result"
    }
   ],
   "source": [
    "x_trainNaN.dtypes"
   ]
  },
  {
   "cell_type": "code",
   "execution_count": 69,
   "metadata": {},
   "outputs": [
    {
     "name": "stdout",
     "output_type": "stream",
     "text": [
      "Train score: 0.9185393258426966, Test score: 0.8659217877094972\n"
     ]
    },
    {
     "data": {
      "text/plain": [
       "array([ True,  True,  True, False,  True,  True,  True,  True,  True,\n",
       "        True,  True,  True,  True,  True,  True,  True,  True,  True,\n",
       "        True,  True, False,  True,  True,  True,  True, False,  True,\n",
       "       False,  True,  True])"
      ]
     },
     "execution_count": 69,
     "metadata": {},
     "output_type": "execute_result"
    }
   ],
   "source": [
    "#best_depth = None\n",
    "#best_num_clas = None\n",
    "#best_lr = None\n",
    "#best_test_score = 0\n",
    "#\n",
    "#counter = 0\n",
    "#for depth in range(2,5):\n",
    "#    for est_num in np.logspace(1.7,1.89,20):\n",
    "#        est_num = int(np.round(est_num))\n",
    "#        for lr in np.logspace(-0.5,-0.1,25):\n",
    "#            xgboost_clf = XGBClassifier(max_depth=depth, learning_rate=lr, n_estimators=est_num, missing=np.nan, seed=92)\n",
    "#            xgboost_clf.fit(x_trainNaN,y_trainNaN)\n",
    "#            curr_score = xgboost_clf.score(x_testNaN, y_testNaN)\n",
    "#            counter += 1\n",
    "#            if counter%20==0:\n",
    "#                print(\"Working... iteration: %i\" % (counter))\n",
    "#            if curr_score > best_test_score:\n",
    "#                best_test_score = curr_score\n",
    "#                best_depth = depth\n",
    "#                best_num_clas = est_num\n",
    "#                best_lr = lr\n",
    "#                print(\"Best Found new best parameters: - depth:%d - num_est:%d - lr:%.4f\\n Best test score:%.4f\" % (best_depth, best_num_clas, best_lr, curr_score))\n",
    "xgboost_clf = XGBClassifier(max_depth=3, learning_rate=0.4137, n_estimators=76, missing=np.nan, seed=92)\n",
    "xgboost_clf.fit(x_trainNaN,y_trainNaN)\n",
    "print(\"Train score: {}, Test score: {}\".format(xgboost_clf.score(x_trainNaN, y_trainNaN),xgboost_clf.score(x_testNaN, y_testNaN)))\n",
    "xgboost_clf.predict(x_test.iloc[range(20,50),:]) == y_test.iloc[range(20,50)].values"
   ]
  },
  {
   "cell_type": "markdown",
   "metadata": {},
   "source": [
    "**Submission XGBoost**"
   ]
  },
  {
   "cell_type": "code",
   "execution_count": 71,
   "metadata": {},
   "outputs": [],
   "source": [
    "test_data = pd.read_csv(\"dataset/test.csv\")\n",
    "test_data_red = test_data[[\"Pclass\", \"Sex\", \"Age\", \"SibSp\", \"Parch\",\"Fare\", \"Embarked\"]]\n",
    "mapping_sex = {'male': 0, 'female': 1}\n",
    "mapping_embarked = {'S': 0, 'C': 1, 'Q': 2}\n",
    "test_data_red = test_data_red.applymap(lambda s: mapping_sex.get(s) if s in mapping_sex else s)\n",
    "test_data_red = test_data_red.applymap(lambda s: mapping_embarked.get(s) if s in mapping_embarked else s)\n",
    "test_data_red_norm = test_data_red.apply(lambda x: (x - np.mean(x)) / (np.max(x) - np.min(x)))\n",
    "\n",
    "selected_clf = xgboost_clf\n",
    "predictions = xgboost_clf.predict(test_data_red_norm)\n",
    "test_predictions = test_data[[\"PassengerId\"]]\n",
    "test_predictions.insert(loc=1, column='Survived', value=predictions)\n",
    "test_predictions.to_csv(\"kaggle_submission_xgboost\", index=False)"
   ]
  },
  {
   "cell_type": "markdown",
   "metadata": {},
   "source": [
    "## Training simple NNs ##"
   ]
  },
  {
   "cell_type": "code",
   "execution_count": 107,
   "metadata": {},
   "outputs": [],
   "source": [
    "def TitanicModel(input_shape):\n",
    "    X_input = Input(input_shape)\n",
    "    X = Flatten()(X_input)\n",
    "    X = Dense(256, activation='relu', name='dense1')(X)\n",
    "    X = Dense(128, activation='relu', name='dense2')(X)\n",
    "    X = Dense(128, activation='relu', name='dense3')(X)\n",
    "    X = Dense(64, activation='relu', name='dense4')(X)\n",
    "    X = Dense(32, activation='relu', name='dense5')(X)\n",
    "    X = Dense(1, activation='sigmoid', name='dense6')(X)\n",
    "    model = Model(inputs = X_input, outputs = X, name='TitanicModel')\n",
    "    return model"
   ]
  },
  {
   "cell_type": "code",
   "execution_count": 108,
   "metadata": {},
   "outputs": [
    {
     "name": "stdout",
     "output_type": "stream",
     "text": [
      "Model: \"TitanicModel\"\n",
      "_________________________________________________________________\n",
      "Layer (type)                 Output Shape              Param #   \n",
      "=================================================================\n",
      "input_6 (InputLayer)         [(None, 1, 7)]            0         \n",
      "_________________________________________________________________\n",
      "flatten_5 (Flatten)          (None, 7)                 0         \n",
      "_________________________________________________________________\n",
      "dense1 (Dense)               (None, 256)               2048      \n",
      "_________________________________________________________________\n",
      "dense2 (Dense)               (None, 128)               32896     \n",
      "_________________________________________________________________\n",
      "dense3 (Dense)               (None, 128)               16512     \n",
      "_________________________________________________________________\n",
      "dense4 (Dense)               (None, 64)                8256      \n",
      "_________________________________________________________________\n",
      "dense5 (Dense)               (None, 32)                2080      \n",
      "_________________________________________________________________\n",
      "dense6 (Dense)               (None, 1)                 33        \n",
      "=================================================================\n",
      "Total params: 61,825\n",
      "Trainable params: 61,825\n",
      "Non-trainable params: 0\n",
      "_________________________________________________________________\n"
     ]
    }
   ],
   "source": [
    "titanicModel = TitanicModel((1,7))\n",
    "adamOpt = optimizers.Adam(lr=0.0001, beta_1=0.9, beta_2=0.999, epsilon=10**(-8))\n",
    "titanicModel.compile(optimizer = adamOpt, loss = \"mean_squared_error\", metrics = [\"accuracy\"])\n",
    "titanicModel.summary()"
   ]
  },
  {
   "cell_type": "code",
   "execution_count": 109,
   "metadata": {},
   "outputs": [],
   "source": [
    "x_train_keras = x_train.values.reshape(712,1,7)\n",
    "y_train_keras = y_train.values.reshape(712,1)\n",
    "x_test_keras = x_test.values.reshape(179,1,7)\n",
    "y_test_keras = y_test.values.reshape(179,1)"
   ]
  },
  {
   "cell_type": "code",
   "execution_count": 110,
   "metadata": {},
   "outputs": [
    {
     "name": "stdout",
     "output_type": "stream",
     "text": [
      "Epoch 1/500\n",
      "712/712 [==============================] - 0s 214us/sample - loss: 0.2472 - accuracy: 0.7626\n",
      "Epoch 2/500\n",
      "712/712 [==============================] - 0s 28us/sample - loss: 0.2428 - accuracy: 0.7907\n",
      "Epoch 3/500\n",
      "712/712 [==============================] - 0s 31us/sample - loss: 0.2384 - accuracy: 0.7963\n",
      "Epoch 4/500\n",
      "712/712 [==============================] - 0s 32us/sample - loss: 0.2335 - accuracy: 0.7921\n",
      "Epoch 5/500\n",
      "712/712 [==============================] - 0s 30us/sample - loss: 0.2275 - accuracy: 0.7893\n",
      "Epoch 6/500\n",
      "712/712 [==============================] - 0s 33us/sample - loss: 0.2195 - accuracy: 0.7921\n",
      "Epoch 7/500\n",
      "712/712 [==============================] - 0s 29us/sample - loss: 0.2091 - accuracy: 0.7879\n",
      "Epoch 8/500\n",
      "712/712 [==============================] - 0s 31us/sample - loss: 0.1968 - accuracy: 0.7907\n",
      "Epoch 9/500\n",
      "712/712 [==============================] - 0s 27us/sample - loss: 0.1834 - accuracy: 0.7949\n",
      "Epoch 10/500\n",
      "712/712 [==============================] - 0s 29us/sample - loss: 0.1710 - accuracy: 0.7949\n",
      "Epoch 11/500\n",
      "712/712 [==============================] - 0s 25us/sample - loss: 0.1609 - accuracy: 0.8062\n",
      "Epoch 12/500\n",
      "712/712 [==============================] - 0s 25us/sample - loss: 0.1528 - accuracy: 0.8048\n",
      "Epoch 13/500\n",
      "712/712 [==============================] - 0s 27us/sample - loss: 0.1478 - accuracy: 0.8118\n",
      "Epoch 14/500\n",
      "712/712 [==============================] - 0s 29us/sample - loss: 0.1439 - accuracy: 0.8132\n",
      "Epoch 15/500\n",
      "712/712 [==============================] - 0s 31us/sample - loss: 0.1412 - accuracy: 0.8090\n",
      "Epoch 16/500\n",
      "712/712 [==============================] - 0s 29us/sample - loss: 0.1389 - accuracy: 0.8118\n",
      "Epoch 17/500\n",
      "712/712 [==============================] - 0s 24us/sample - loss: 0.1373 - accuracy: 0.8104\n",
      "Epoch 18/500\n",
      "712/712 [==============================] - 0s 27us/sample - loss: 0.1359 - accuracy: 0.8076\n",
      "Epoch 19/500\n",
      "712/712 [==============================] - 0s 27us/sample - loss: 0.1351 - accuracy: 0.8118\n",
      "Epoch 20/500\n",
      "712/712 [==============================] - 0s 27us/sample - loss: 0.1344 - accuracy: 0.8230\n",
      "Epoch 21/500\n",
      "712/712 [==============================] - 0s 22us/sample - loss: 0.1342 - accuracy: 0.8202\n",
      "Epoch 22/500\n",
      "712/712 [==============================] - 0s 22us/sample - loss: 0.1329 - accuracy: 0.8146\n",
      "Epoch 23/500\n",
      "712/712 [==============================] - 0s 24us/sample - loss: 0.1323 - accuracy: 0.8202\n",
      "Epoch 24/500\n",
      "712/712 [==============================] - 0s 22us/sample - loss: 0.1320 - accuracy: 0.8160\n",
      "Epoch 25/500\n",
      "712/712 [==============================] - 0s 27us/sample - loss: 0.1317 - accuracy: 0.8258\n",
      "Epoch 26/500\n",
      "712/712 [==============================] - 0s 27us/sample - loss: 0.1309 - accuracy: 0.8258\n",
      "Epoch 27/500\n",
      "712/712 [==============================] - 0s 28us/sample - loss: 0.1307 - accuracy: 0.8216\n",
      "Epoch 28/500\n",
      "712/712 [==============================] - 0s 25us/sample - loss: 0.1307 - accuracy: 0.8230\n",
      "Epoch 29/500\n",
      "712/712 [==============================] - 0s 32us/sample - loss: 0.1301 - accuracy: 0.8258\n",
      "Epoch 30/500\n",
      "712/712 [==============================] - 0s 25us/sample - loss: 0.1295 - accuracy: 0.8230\n",
      "Epoch 31/500\n",
      "712/712 [==============================] - 0s 29us/sample - loss: 0.1296 - accuracy: 0.8244\n",
      "Epoch 32/500\n",
      "712/712 [==============================] - 0s 28us/sample - loss: 0.1291 - accuracy: 0.8230\n",
      "Epoch 33/500\n",
      "712/712 [==============================] - 0s 27us/sample - loss: 0.1287 - accuracy: 0.8230\n",
      "Epoch 34/500\n",
      "712/712 [==============================] - 0s 27us/sample - loss: 0.1283 - accuracy: 0.8272\n",
      "Epoch 35/500\n",
      "712/712 [==============================] - 0s 27us/sample - loss: 0.1281 - accuracy: 0.8244\n",
      "Epoch 36/500\n",
      "712/712 [==============================] - 0s 22us/sample - loss: 0.1282 - accuracy: 0.8272\n",
      "Epoch 37/500\n",
      "712/712 [==============================] - 0s 24us/sample - loss: 0.1283 - accuracy: 0.8301\n",
      "Epoch 38/500\n",
      "712/712 [==============================] - 0s 22us/sample - loss: 0.1275 - accuracy: 0.8272\n",
      "Epoch 39/500\n",
      "712/712 [==============================] - 0s 22us/sample - loss: 0.1273 - accuracy: 0.8258\n",
      "Epoch 40/500\n",
      "712/712 [==============================] - 0s 28us/sample - loss: 0.1270 - accuracy: 0.8272\n",
      "Epoch 41/500\n",
      "712/712 [==============================] - 0s 29us/sample - loss: 0.1271 - accuracy: 0.8287\n",
      "Epoch 42/500\n",
      "712/712 [==============================] - 0s 28us/sample - loss: 0.1273 - accuracy: 0.8230\n",
      "Epoch 43/500\n",
      "712/712 [==============================] - 0s 29us/sample - loss: 0.1260 - accuracy: 0.8301\n",
      "Epoch 44/500\n",
      "712/712 [==============================] - 0s 22us/sample - loss: 0.1272 - accuracy: 0.8258\n",
      "Epoch 45/500\n",
      "712/712 [==============================] - 0s 27us/sample - loss: 0.1263 - accuracy: 0.8357\n",
      "Epoch 46/500\n",
      "712/712 [==============================] - 0s 29us/sample - loss: 0.1265 - accuracy: 0.8315\n",
      "Epoch 47/500\n",
      "712/712 [==============================] - 0s 31us/sample - loss: 0.1257 - accuracy: 0.8315\n",
      "Epoch 48/500\n",
      "712/712 [==============================] - 0s 22us/sample - loss: 0.1253 - accuracy: 0.8315\n",
      "Epoch 49/500\n",
      "712/712 [==============================] - 0s 29us/sample - loss: 0.1252 - accuracy: 0.8272\n",
      "Epoch 50/500\n",
      "712/712 [==============================] - 0s 27us/sample - loss: 0.1250 - accuracy: 0.8301\n",
      "Epoch 51/500\n",
      "712/712 [==============================] - 0s 29us/sample - loss: 0.1253 - accuracy: 0.8315\n",
      "Epoch 52/500\n",
      "712/712 [==============================] - 0s 27us/sample - loss: 0.1248 - accuracy: 0.8329\n",
      "Epoch 53/500\n",
      "712/712 [==============================] - 0s 27us/sample - loss: 0.1245 - accuracy: 0.8357\n",
      "Epoch 54/500\n",
      "712/712 [==============================] - 0s 24us/sample - loss: 0.1243 - accuracy: 0.8357\n",
      "Epoch 55/500\n",
      "712/712 [==============================] - 0s 24us/sample - loss: 0.1238 - accuracy: 0.8343\n",
      "Epoch 56/500\n",
      "712/712 [==============================] - 0s 24us/sample - loss: 0.1239 - accuracy: 0.8357\n",
      "Epoch 57/500\n",
      "712/712 [==============================] - 0s 25us/sample - loss: 0.1240 - accuracy: 0.8399\n",
      "Epoch 58/500\n",
      "712/712 [==============================] - 0s 24us/sample - loss: 0.1239 - accuracy: 0.8399\n",
      "Epoch 59/500\n",
      "712/712 [==============================] - 0s 22us/sample - loss: 0.1238 - accuracy: 0.8343\n",
      "Epoch 60/500\n",
      "712/712 [==============================] - 0s 22us/sample - loss: 0.1239 - accuracy: 0.8329\n",
      "Epoch 61/500\n",
      "712/712 [==============================] - 0s 24us/sample - loss: 0.1240 - accuracy: 0.8315\n",
      "Epoch 62/500\n",
      "712/712 [==============================] - 0s 24us/sample - loss: 0.1233 - accuracy: 0.8357\n",
      "Epoch 63/500\n",
      "712/712 [==============================] - 0s 27us/sample - loss: 0.1235 - accuracy: 0.8357\n",
      "Epoch 64/500\n",
      "712/712 [==============================] - 0s 24us/sample - loss: 0.1230 - accuracy: 0.8371\n",
      "Epoch 65/500\n",
      "712/712 [==============================] - 0s 22us/sample - loss: 0.1232 - accuracy: 0.8371\n",
      "Epoch 66/500\n",
      "712/712 [==============================] - 0s 29us/sample - loss: 0.1230 - accuracy: 0.8343\n",
      "Epoch 67/500\n",
      "712/712 [==============================] - 0s 28us/sample - loss: 0.1237 - accuracy: 0.8315\n",
      "Epoch 68/500\n",
      "712/712 [==============================] - 0s 28us/sample - loss: 0.1224 - accuracy: 0.8371\n",
      "Epoch 69/500\n",
      "712/712 [==============================] - 0s 27us/sample - loss: 0.1226 - accuracy: 0.8399\n",
      "Epoch 70/500\n",
      "712/712 [==============================] - 0s 27us/sample - loss: 0.1227 - accuracy: 0.8343\n",
      "Epoch 71/500\n",
      "712/712 [==============================] - 0s 24us/sample - loss: 0.1232 - accuracy: 0.8315\n",
      "Epoch 72/500\n",
      "712/712 [==============================] - 0s 25us/sample - loss: 0.1224 - accuracy: 0.8301\n",
      "Epoch 73/500\n",
      "712/712 [==============================] - 0s 27us/sample - loss: 0.1220 - accuracy: 0.8357\n",
      "Epoch 74/500\n",
      "712/712 [==============================] - 0s 29us/sample - loss: 0.1223 - accuracy: 0.8357\n",
      "Epoch 75/500\n",
      "712/712 [==============================] - 0s 31us/sample - loss: 0.1221 - accuracy: 0.8371\n",
      "Epoch 76/500\n",
      "712/712 [==============================] - 0s 32us/sample - loss: 0.1221 - accuracy: 0.8385\n",
      "Epoch 77/500\n",
      "712/712 [==============================] - 0s 38us/sample - loss: 0.1221 - accuracy: 0.8399\n",
      "Epoch 78/500\n",
      "712/712 [==============================] - 0s 38us/sample - loss: 0.1222 - accuracy: 0.8399\n",
      "Epoch 79/500\n"
     ]
    },
    {
     "name": "stdout",
     "output_type": "stream",
     "text": [
      "712/712 [==============================] - 0s 35us/sample - loss: 0.1217 - accuracy: 0.8399\n",
      "Epoch 80/500\n",
      "712/712 [==============================] - 0s 35us/sample - loss: 0.1214 - accuracy: 0.8413\n",
      "Epoch 81/500\n",
      "712/712 [==============================] - 0s 29us/sample - loss: 0.1218 - accuracy: 0.8413\n",
      "Epoch 82/500\n",
      "712/712 [==============================] - 0s 29us/sample - loss: 0.1217 - accuracy: 0.8371\n",
      "Epoch 83/500\n",
      "712/712 [==============================] - 0s 25us/sample - loss: 0.1219 - accuracy: 0.8357\n",
      "Epoch 84/500\n",
      "712/712 [==============================] - 0s 25us/sample - loss: 0.1213 - accuracy: 0.8343\n",
      "Epoch 85/500\n",
      "712/712 [==============================] - 0s 29us/sample - loss: 0.1213 - accuracy: 0.8399\n",
      "Epoch 86/500\n",
      "712/712 [==============================] - 0s 28us/sample - loss: 0.1211 - accuracy: 0.8385\n",
      "Epoch 87/500\n",
      "712/712 [==============================] - 0s 32us/sample - loss: 0.1209 - accuracy: 0.8399\n",
      "Epoch 88/500\n",
      "712/712 [==============================] - 0s 29us/sample - loss: 0.1210 - accuracy: 0.8371\n",
      "Epoch 89/500\n",
      "712/712 [==============================] - 0s 29us/sample - loss: 0.1212 - accuracy: 0.8385\n",
      "Epoch 90/500\n",
      "712/712 [==============================] - 0s 29us/sample - loss: 0.1212 - accuracy: 0.8371\n",
      "Epoch 91/500\n",
      "712/712 [==============================] - 0s 29us/sample - loss: 0.1215 - accuracy: 0.8385\n",
      "Epoch 92/500\n",
      "712/712 [==============================] - 0s 32us/sample - loss: 0.1211 - accuracy: 0.8385\n",
      "Epoch 93/500\n",
      "712/712 [==============================] - 0s 29us/sample - loss: 0.1206 - accuracy: 0.8385\n",
      "Epoch 94/500\n",
      "712/712 [==============================] - 0s 34us/sample - loss: 0.1209 - accuracy: 0.8399\n",
      "Epoch 95/500\n",
      "712/712 [==============================] - 0s 32us/sample - loss: 0.1205 - accuracy: 0.8385\n",
      "Epoch 96/500\n",
      "712/712 [==============================] - 0s 34us/sample - loss: 0.1202 - accuracy: 0.8441\n",
      "Epoch 97/500\n",
      "712/712 [==============================] - 0s 34us/sample - loss: 0.1204 - accuracy: 0.8427\n",
      "Epoch 98/500\n",
      "712/712 [==============================] - 0s 31us/sample - loss: 0.1206 - accuracy: 0.8399\n",
      "Epoch 99/500\n",
      "712/712 [==============================] - 0s 29us/sample - loss: 0.1207 - accuracy: 0.8385\n",
      "Epoch 100/500\n",
      "712/712 [==============================] - 0s 29us/sample - loss: 0.1205 - accuracy: 0.8441\n",
      "Epoch 101/500\n",
      "712/712 [==============================] - 0s 27us/sample - loss: 0.1199 - accuracy: 0.8441\n",
      "Epoch 102/500\n",
      "712/712 [==============================] - 0s 28us/sample - loss: 0.1208 - accuracy: 0.8385\n",
      "Epoch 103/500\n",
      "712/712 [==============================] - 0s 27us/sample - loss: 0.1202 - accuracy: 0.8385\n",
      "Epoch 104/500\n",
      "712/712 [==============================] - 0s 29us/sample - loss: 0.1204 - accuracy: 0.8399\n",
      "Epoch 105/500\n",
      "712/712 [==============================] - 0s 31us/sample - loss: 0.1199 - accuracy: 0.8427\n",
      "Epoch 106/500\n",
      "712/712 [==============================] - 0s 28us/sample - loss: 0.1198 - accuracy: 0.8399\n",
      "Epoch 107/500\n",
      "712/712 [==============================] - 0s 28us/sample - loss: 0.1206 - accuracy: 0.8371\n",
      "Epoch 108/500\n",
      "712/712 [==============================] - 0s 27us/sample - loss: 0.1217 - accuracy: 0.8371\n",
      "Epoch 109/500\n",
      "712/712 [==============================] - 0s 27us/sample - loss: 0.1206 - accuracy: 0.8371\n",
      "Epoch 110/500\n",
      "712/712 [==============================] - 0s 25us/sample - loss: 0.1201 - accuracy: 0.8413\n",
      "Epoch 111/500\n",
      "712/712 [==============================] - 0s 34us/sample - loss: 0.1199 - accuracy: 0.8427\n",
      "Epoch 112/500\n",
      "712/712 [==============================] - 0s 28us/sample - loss: 0.1198 - accuracy: 0.8413\n",
      "Epoch 113/500\n",
      "712/712 [==============================] - 0s 27us/sample - loss: 0.1195 - accuracy: 0.8413\n",
      "Epoch 114/500\n",
      "712/712 [==============================] - 0s 31us/sample - loss: 0.1198 - accuracy: 0.8413\n",
      "Epoch 115/500\n",
      "712/712 [==============================] - 0s 27us/sample - loss: 0.1195 - accuracy: 0.8441\n",
      "Epoch 116/500\n",
      "712/712 [==============================] - 0s 28us/sample - loss: 0.1197 - accuracy: 0.8385\n",
      "Epoch 117/500\n",
      "712/712 [==============================] - 0s 28us/sample - loss: 0.1197 - accuracy: 0.8399\n",
      "Epoch 118/500\n",
      "712/712 [==============================] - 0s 27us/sample - loss: 0.1193 - accuracy: 0.8399\n",
      "Epoch 119/500\n",
      "712/712 [==============================] - 0s 28us/sample - loss: 0.1204 - accuracy: 0.8427\n",
      "Epoch 120/500\n",
      "712/712 [==============================] - 0s 28us/sample - loss: 0.1194 - accuracy: 0.8427\n",
      "Epoch 121/500\n",
      "712/712 [==============================] - 0s 31us/sample - loss: 0.1192 - accuracy: 0.8427\n",
      "Epoch 122/500\n",
      "712/712 [==============================] - 0s 25us/sample - loss: 0.1187 - accuracy: 0.8413\n",
      "Epoch 123/500\n",
      "712/712 [==============================] - 0s 29us/sample - loss: 0.1197 - accuracy: 0.8399\n",
      "Epoch 124/500\n",
      "712/712 [==============================] - 0s 32us/sample - loss: 0.1190 - accuracy: 0.8399\n",
      "Epoch 125/500\n",
      "712/712 [==============================] - 0s 28us/sample - loss: 0.1216 - accuracy: 0.8357\n",
      "Epoch 126/500\n",
      "712/712 [==============================] - 0s 24us/sample - loss: 0.1210 - accuracy: 0.8357\n",
      "Epoch 127/500\n",
      "712/712 [==============================] - 0s 28us/sample - loss: 0.1194 - accuracy: 0.8399\n",
      "Epoch 128/500\n",
      "712/712 [==============================] - 0s 31us/sample - loss: 0.1194 - accuracy: 0.8385\n",
      "Epoch 129/500\n",
      "712/712 [==============================] - 0s 27us/sample - loss: 0.1189 - accuracy: 0.8441\n",
      "Epoch 130/500\n",
      "712/712 [==============================] - 0s 27us/sample - loss: 0.1188 - accuracy: 0.8427\n",
      "Epoch 131/500\n",
      "712/712 [==============================] - 0s 24us/sample - loss: 0.1189 - accuracy: 0.8441\n",
      "Epoch 132/500\n",
      "712/712 [==============================] - 0s 29us/sample - loss: 0.1189 - accuracy: 0.8427\n",
      "Epoch 133/500\n",
      "712/712 [==============================] - 0s 27us/sample - loss: 0.1188 - accuracy: 0.8441\n",
      "Epoch 134/500\n",
      "712/712 [==============================] - 0s 27us/sample - loss: 0.1194 - accuracy: 0.8385\n",
      "Epoch 135/500\n",
      "712/712 [==============================] - 0s 24us/sample - loss: 0.1189 - accuracy: 0.8399\n",
      "Epoch 136/500\n",
      "712/712 [==============================] - 0s 24us/sample - loss: 0.1184 - accuracy: 0.8413\n",
      "Epoch 137/500\n",
      "712/712 [==============================] - 0s 24us/sample - loss: 0.1183 - accuracy: 0.8427\n",
      "Epoch 138/500\n",
      "712/712 [==============================] - 0s 24us/sample - loss: 0.1184 - accuracy: 0.8413\n",
      "Epoch 139/500\n",
      "712/712 [==============================] - 0s 24us/sample - loss: 0.1184 - accuracy: 0.8455\n",
      "Epoch 140/500\n",
      "712/712 [==============================] - 0s 24us/sample - loss: 0.1184 - accuracy: 0.8441\n",
      "Epoch 141/500\n",
      "712/712 [==============================] - 0s 25us/sample - loss: 0.1184 - accuracy: 0.8413\n",
      "Epoch 142/500\n",
      "712/712 [==============================] - 0s 28us/sample - loss: 0.1201 - accuracy: 0.8441\n",
      "Epoch 143/500\n",
      "712/712 [==============================] - 0s 25us/sample - loss: 0.1185 - accuracy: 0.8371\n",
      "Epoch 144/500\n",
      "712/712 [==============================] - 0s 27us/sample - loss: 0.1190 - accuracy: 0.8371\n",
      "Epoch 145/500\n",
      "712/712 [==============================] - 0s 25us/sample - loss: 0.1182 - accuracy: 0.8441\n",
      "Epoch 146/500\n",
      "712/712 [==============================] - 0s 27us/sample - loss: 0.1183 - accuracy: 0.8413\n",
      "Epoch 147/500\n",
      "712/712 [==============================] - 0s 27us/sample - loss: 0.1181 - accuracy: 0.8427\n",
      "Epoch 148/500\n",
      "712/712 [==============================] - 0s 31us/sample - loss: 0.1182 - accuracy: 0.8441\n",
      "Epoch 149/500\n",
      "712/712 [==============================] - 0s 31us/sample - loss: 0.1181 - accuracy: 0.8413\n",
      "Epoch 150/500\n",
      "712/712 [==============================] - 0s 27us/sample - loss: 0.1185 - accuracy: 0.8441\n",
      "Epoch 151/500\n",
      "712/712 [==============================] - 0s 24us/sample - loss: 0.1177 - accuracy: 0.8413\n",
      "Epoch 152/500\n",
      "712/712 [==============================] - 0s 24us/sample - loss: 0.1180 - accuracy: 0.8413\n",
      "Epoch 153/500\n",
      "712/712 [==============================] - 0s 28us/sample - loss: 0.1186 - accuracy: 0.8413\n",
      "Epoch 154/500\n",
      "712/712 [==============================] - 0s 28us/sample - loss: 0.1180 - accuracy: 0.8441\n",
      "Epoch 155/500\n",
      "712/712 [==============================] - 0s 28us/sample - loss: 0.1186 - accuracy: 0.8399\n",
      "Epoch 156/500\n"
     ]
    },
    {
     "name": "stdout",
     "output_type": "stream",
     "text": [
      "712/712 [==============================] - 0s 25us/sample - loss: 0.1176 - accuracy: 0.8427\n",
      "Epoch 157/500\n",
      "712/712 [==============================] - 0s 29us/sample - loss: 0.1180 - accuracy: 0.8427\n",
      "Epoch 158/500\n",
      "712/712 [==============================] - ETA: 0s - loss: 0.1344 - accuracy: 0.81 - 0s 32us/sample - loss: 0.1176 - accuracy: 0.8455\n",
      "Epoch 159/500\n",
      "712/712 [==============================] - 0s 32us/sample - loss: 0.1173 - accuracy: 0.8427\n",
      "Epoch 160/500\n",
      "712/712 [==============================] - 0s 31us/sample - loss: 0.1180 - accuracy: 0.8427\n",
      "Epoch 161/500\n",
      "712/712 [==============================] - 0s 29us/sample - loss: 0.1180 - accuracy: 0.8455\n",
      "Epoch 162/500\n",
      "712/712 [==============================] - 0s 28us/sample - loss: 0.1171 - accuracy: 0.8413\n",
      "Epoch 163/500\n",
      "712/712 [==============================] - 0s 28us/sample - loss: 0.1189 - accuracy: 0.8455\n",
      "Epoch 164/500\n",
      "712/712 [==============================] - 0s 27us/sample - loss: 0.1169 - accuracy: 0.8441\n",
      "Epoch 165/500\n",
      "712/712 [==============================] - 0s 28us/sample - loss: 0.1174 - accuracy: 0.8413\n",
      "Epoch 166/500\n",
      "712/712 [==============================] - 0s 29us/sample - loss: 0.1171 - accuracy: 0.8413\n",
      "Epoch 167/500\n",
      "712/712 [==============================] - 0s 28us/sample - loss: 0.1174 - accuracy: 0.8441\n",
      "Epoch 168/500\n",
      "712/712 [==============================] - 0s 29us/sample - loss: 0.1170 - accuracy: 0.8413\n",
      "Epoch 169/500\n",
      "712/712 [==============================] - 0s 27us/sample - loss: 0.1170 - accuracy: 0.8455\n",
      "Epoch 170/500\n",
      "712/712 [==============================] - 0s 28us/sample - loss: 0.1174 - accuracy: 0.8413\n",
      "Epoch 171/500\n",
      "712/712 [==============================] - 0s 28us/sample - loss: 0.1170 - accuracy: 0.8455\n",
      "Epoch 172/500\n",
      "712/712 [==============================] - 0s 31us/sample - loss: 0.1168 - accuracy: 0.8469\n",
      "Epoch 173/500\n",
      "712/712 [==============================] - 0s 31us/sample - loss: 0.1170 - accuracy: 0.8413\n",
      "Epoch 174/500\n",
      "712/712 [==============================] - 0s 29us/sample - loss: 0.1170 - accuracy: 0.8441\n",
      "Epoch 175/500\n",
      "712/712 [==============================] - 0s 28us/sample - loss: 0.1174 - accuracy: 0.8455\n",
      "Epoch 176/500\n",
      "712/712 [==============================] - 0s 28us/sample - loss: 0.1165 - accuracy: 0.8469\n",
      "Epoch 177/500\n",
      "712/712 [==============================] - 0s 28us/sample - loss: 0.1167 - accuracy: 0.8441\n",
      "Epoch 178/500\n",
      "712/712 [==============================] - 0s 29us/sample - loss: 0.1168 - accuracy: 0.8427\n",
      "Epoch 179/500\n",
      "712/712 [==============================] - 0s 27us/sample - loss: 0.1173 - accuracy: 0.8413\n",
      "Epoch 180/500\n",
      "712/712 [==============================] - 0s 29us/sample - loss: 0.1172 - accuracy: 0.8455\n",
      "Epoch 181/500\n",
      "712/712 [==============================] - 0s 28us/sample - loss: 0.1169 - accuracy: 0.8441\n",
      "Epoch 182/500\n",
      "712/712 [==============================] - 0s 29us/sample - loss: 0.1172 - accuracy: 0.8441\n",
      "Epoch 183/500\n",
      "712/712 [==============================] - 0s 29us/sample - loss: 0.1165 - accuracy: 0.8469\n",
      "Epoch 184/500\n",
      "712/712 [==============================] - 0s 28us/sample - loss: 0.1184 - accuracy: 0.8371\n",
      "Epoch 185/500\n",
      "712/712 [==============================] - 0s 29us/sample - loss: 0.1163 - accuracy: 0.8427\n",
      "Epoch 186/500\n",
      "712/712 [==============================] - 0s 27us/sample - loss: 0.1175 - accuracy: 0.8455\n",
      "Epoch 187/500\n",
      "712/712 [==============================] - 0s 28us/sample - loss: 0.1172 - accuracy: 0.8413\n",
      "Epoch 188/500\n",
      "712/712 [==============================] - 0s 28us/sample - loss: 0.1178 - accuracy: 0.8413\n",
      "Epoch 189/500\n",
      "712/712 [==============================] - 0s 29us/sample - loss: 0.1163 - accuracy: 0.8441\n",
      "Epoch 190/500\n",
      "712/712 [==============================] - 0s 28us/sample - loss: 0.1166 - accuracy: 0.8441\n",
      "Epoch 191/500\n",
      "712/712 [==============================] - 0s 34us/sample - loss: 0.1163 - accuracy: 0.8441\n",
      "Epoch 192/500\n",
      "712/712 [==============================] - 0s 29us/sample - loss: 0.1164 - accuracy: 0.8427\n",
      "Epoch 193/500\n",
      "712/712 [==============================] - 0s 28us/sample - loss: 0.1159 - accuracy: 0.8399\n",
      "Epoch 194/500\n",
      "712/712 [==============================] - 0s 31us/sample - loss: 0.1164 - accuracy: 0.8455\n",
      "Epoch 195/500\n",
      "712/712 [==============================] - 0s 27us/sample - loss: 0.1167 - accuracy: 0.8441\n",
      "Epoch 196/500\n",
      "712/712 [==============================] - 0s 25us/sample - loss: 0.1160 - accuracy: 0.8469\n",
      "Epoch 197/500\n",
      "712/712 [==============================] - 0s 29us/sample - loss: 0.1166 - accuracy: 0.8469\n",
      "Epoch 198/500\n",
      "712/712 [==============================] - 0s 28us/sample - loss: 0.1160 - accuracy: 0.8455\n",
      "Epoch 199/500\n",
      "712/712 [==============================] - 0s 28us/sample - loss: 0.1165 - accuracy: 0.8455\n",
      "Epoch 200/500\n",
      "712/712 [==============================] - 0s 25us/sample - loss: 0.1163 - accuracy: 0.8413\n",
      "Epoch 201/500\n",
      "712/712 [==============================] - 0s 28us/sample - loss: 0.1162 - accuracy: 0.8427\n",
      "Epoch 202/500\n",
      "712/712 [==============================] - 0s 31us/sample - loss: 0.1158 - accuracy: 0.8455\n",
      "Epoch 203/500\n",
      "712/712 [==============================] - 0s 27us/sample - loss: 0.1163 - accuracy: 0.8413\n",
      "Epoch 204/500\n",
      "712/712 [==============================] - 0s 29us/sample - loss: 0.1161 - accuracy: 0.8427\n",
      "Epoch 205/500\n",
      "712/712 [==============================] - 0s 27us/sample - loss: 0.1161 - accuracy: 0.8427\n",
      "Epoch 206/500\n",
      "712/712 [==============================] - 0s 27us/sample - loss: 0.1154 - accuracy: 0.8469\n",
      "Epoch 207/500\n",
      "712/712 [==============================] - 0s 27us/sample - loss: 0.1157 - accuracy: 0.8455\n",
      "Epoch 208/500\n",
      "712/712 [==============================] - 0s 28us/sample - loss: 0.1154 - accuracy: 0.8441\n",
      "Epoch 209/500\n",
      "712/712 [==============================] - 0s 27us/sample - loss: 0.1161 - accuracy: 0.8469\n",
      "Epoch 210/500\n",
      "712/712 [==============================] - 0s 27us/sample - loss: 0.1152 - accuracy: 0.8441\n",
      "Epoch 211/500\n",
      "712/712 [==============================] - 0s 24us/sample - loss: 0.1159 - accuracy: 0.8441\n",
      "Epoch 212/500\n",
      "712/712 [==============================] - 0s 25us/sample - loss: 0.1155 - accuracy: 0.8441\n",
      "Epoch 213/500\n",
      "712/712 [==============================] - 0s 25us/sample - loss: 0.1154 - accuracy: 0.8483\n",
      "Epoch 214/500\n",
      "712/712 [==============================] - 0s 25us/sample - loss: 0.1162 - accuracy: 0.8469\n",
      "Epoch 215/500\n",
      "712/712 [==============================] - 0s 24us/sample - loss: 0.1164 - accuracy: 0.8441\n",
      "Epoch 216/500\n",
      "712/712 [==============================] - 0s 25us/sample - loss: 0.1159 - accuracy: 0.8441\n",
      "Epoch 217/500\n",
      "712/712 [==============================] - 0s 28us/sample - loss: 0.1154 - accuracy: 0.8441\n",
      "Epoch 218/500\n",
      "712/712 [==============================] - 0s 29us/sample - loss: 0.1154 - accuracy: 0.8455\n",
      "Epoch 219/500\n",
      "712/712 [==============================] - 0s 27us/sample - loss: 0.1150 - accuracy: 0.8441\n",
      "Epoch 220/500\n",
      "712/712 [==============================] - 0s 27us/sample - loss: 0.1158 - accuracy: 0.8483\n",
      "Epoch 221/500\n",
      "712/712 [==============================] - 0s 25us/sample - loss: 0.1155 - accuracy: 0.8483\n",
      "Epoch 222/500\n",
      "712/712 [==============================] - 0s 25us/sample - loss: 0.1155 - accuracy: 0.8455\n",
      "Epoch 223/500\n",
      "712/712 [==============================] - 0s 25us/sample - loss: 0.1157 - accuracy: 0.8441\n",
      "Epoch 224/500\n",
      "712/712 [==============================] - 0s 25us/sample - loss: 0.1150 - accuracy: 0.8455\n",
      "Epoch 225/500\n",
      "712/712 [==============================] - 0s 24us/sample - loss: 0.1158 - accuracy: 0.8497\n",
      "Epoch 226/500\n",
      "712/712 [==============================] - 0s 27us/sample - loss: 0.1151 - accuracy: 0.8483\n",
      "Epoch 227/500\n",
      "712/712 [==============================] - 0s 25us/sample - loss: 0.1150 - accuracy: 0.8441\n",
      "Epoch 228/500\n",
      "712/712 [==============================] - 0s 24us/sample - loss: 0.1165 - accuracy: 0.8413\n",
      "Epoch 229/500\n",
      "712/712 [==============================] - 0s 25us/sample - loss: 0.1149 - accuracy: 0.8469\n",
      "Epoch 230/500\n",
      "712/712 [==============================] - 0s 25us/sample - loss: 0.1153 - accuracy: 0.8455\n",
      "Epoch 231/500\n",
      "712/712 [==============================] - 0s 24us/sample - loss: 0.1154 - accuracy: 0.8427\n",
      "Epoch 232/500\n",
      "712/712 [==============================] - 0s 29us/sample - loss: 0.1153 - accuracy: 0.8497\n",
      "Epoch 233/500\n"
     ]
    },
    {
     "name": "stdout",
     "output_type": "stream",
     "text": [
      "712/712 [==============================] - 0s 27us/sample - loss: 0.1150 - accuracy: 0.8427\n",
      "Epoch 234/500\n",
      "712/712 [==============================] - 0s 27us/sample - loss: 0.1159 - accuracy: 0.8413\n",
      "Epoch 235/500\n",
      "712/712 [==============================] - 0s 25us/sample - loss: 0.1163 - accuracy: 0.8427\n",
      "Epoch 236/500\n",
      "712/712 [==============================] - 0s 24us/sample - loss: 0.1148 - accuracy: 0.8497\n",
      "Epoch 237/500\n",
      "712/712 [==============================] - 0s 29us/sample - loss: 0.1147 - accuracy: 0.8441\n",
      "Epoch 238/500\n",
      "712/712 [==============================] - 0s 27us/sample - loss: 0.1150 - accuracy: 0.8483\n",
      "Epoch 239/500\n",
      "712/712 [==============================] - 0s 28us/sample - loss: 0.1152 - accuracy: 0.8455\n",
      "Epoch 240/500\n",
      "712/712 [==============================] - 0s 29us/sample - loss: 0.1141 - accuracy: 0.8497\n",
      "Epoch 241/500\n",
      "712/712 [==============================] - 0s 29us/sample - loss: 0.1144 - accuracy: 0.8497\n",
      "Epoch 242/500\n",
      "712/712 [==============================] - 0s 29us/sample - loss: 0.1148 - accuracy: 0.8497\n",
      "Epoch 243/500\n",
      "712/712 [==============================] - 0s 31us/sample - loss: 0.1142 - accuracy: 0.8525\n",
      "Epoch 244/500\n",
      "712/712 [==============================] - 0s 28us/sample - loss: 0.1143 - accuracy: 0.8469\n",
      "Epoch 245/500\n",
      "712/712 [==============================] - 0s 28us/sample - loss: 0.1148 - accuracy: 0.8455\n",
      "Epoch 246/500\n",
      "712/712 [==============================] - 0s 29us/sample - loss: 0.1160 - accuracy: 0.8413\n",
      "Epoch 247/500\n",
      "712/712 [==============================] - 0s 31us/sample - loss: 0.1144 - accuracy: 0.8511\n",
      "Epoch 248/500\n",
      "712/712 [==============================] - 0s 28us/sample - loss: 0.1146 - accuracy: 0.8483\n",
      "Epoch 249/500\n",
      "712/712 [==============================] - 0s 31us/sample - loss: 0.1146 - accuracy: 0.8497\n",
      "Epoch 250/500\n",
      "712/712 [==============================] - 0s 29us/sample - loss: 0.1140 - accuracy: 0.8497\n",
      "Epoch 251/500\n",
      "712/712 [==============================] - 0s 32us/sample - loss: 0.1143 - accuracy: 0.8483\n",
      "Epoch 252/500\n",
      "712/712 [==============================] - 0s 34us/sample - loss: 0.1152 - accuracy: 0.8469\n",
      "Epoch 253/500\n",
      "712/712 [==============================] - 0s 35us/sample - loss: 0.1154 - accuracy: 0.8511\n",
      "Epoch 254/500\n",
      "712/712 [==============================] - 0s 29us/sample - loss: 0.1144 - accuracy: 0.8511\n",
      "Epoch 255/500\n",
      "712/712 [==============================] - 0s 27us/sample - loss: 0.1141 - accuracy: 0.8469\n",
      "Epoch 256/500\n",
      "712/712 [==============================] - 0s 31us/sample - loss: 0.1138 - accuracy: 0.8497\n",
      "Epoch 257/500\n",
      "712/712 [==============================] - 0s 27us/sample - loss: 0.1138 - accuracy: 0.8511\n",
      "Epoch 258/500\n",
      "712/712 [==============================] - 0s 29us/sample - loss: 0.1140 - accuracy: 0.8511\n",
      "Epoch 259/500\n",
      "712/712 [==============================] - 0s 29us/sample - loss: 0.1136 - accuracy: 0.8497\n",
      "Epoch 260/500\n",
      "712/712 [==============================] - 0s 29us/sample - loss: 0.1189 - accuracy: 0.8399\n",
      "Epoch 261/500\n",
      "712/712 [==============================] - 0s 29us/sample - loss: 0.1151 - accuracy: 0.8469\n",
      "Epoch 262/500\n",
      "712/712 [==============================] - 0s 28us/sample - loss: 0.1156 - accuracy: 0.8427\n",
      "Epoch 263/500\n",
      "712/712 [==============================] - 0s 28us/sample - loss: 0.1147 - accuracy: 0.8497\n",
      "Epoch 264/500\n",
      "712/712 [==============================] - 0s 28us/sample - loss: 0.1147 - accuracy: 0.8441\n",
      "Epoch 265/500\n",
      "712/712 [==============================] - 0s 32us/sample - loss: 0.1149 - accuracy: 0.8483\n",
      "Epoch 266/500\n",
      "712/712 [==============================] - 0s 28us/sample - loss: 0.1142 - accuracy: 0.8497\n",
      "Epoch 267/500\n",
      "712/712 [==============================] - 0s 29us/sample - loss: 0.1140 - accuracy: 0.8497\n",
      "Epoch 268/500\n",
      "712/712 [==============================] - 0s 27us/sample - loss: 0.1135 - accuracy: 0.8469\n",
      "Epoch 269/500\n",
      "712/712 [==============================] - 0s 25us/sample - loss: 0.1150 - accuracy: 0.8441\n",
      "Epoch 270/500\n",
      "712/712 [==============================] - 0s 28us/sample - loss: 0.1139 - accuracy: 0.8497\n",
      "Epoch 271/500\n",
      "712/712 [==============================] - 0s 29us/sample - loss: 0.1134 - accuracy: 0.8511\n",
      "Epoch 272/500\n",
      "712/712 [==============================] - 0s 29us/sample - loss: 0.1146 - accuracy: 0.8497\n",
      "Epoch 273/500\n",
      "712/712 [==============================] - 0s 29us/sample - loss: 0.1138 - accuracy: 0.8497\n",
      "Epoch 274/500\n",
      "712/712 [==============================] - 0s 24us/sample - loss: 0.1138 - accuracy: 0.8511\n",
      "Epoch 275/500\n",
      "712/712 [==============================] - 0s 24us/sample - loss: 0.1136 - accuracy: 0.8525\n",
      "Epoch 276/500\n",
      "712/712 [==============================] - 0s 28us/sample - loss: 0.1138 - accuracy: 0.8511\n",
      "Epoch 277/500\n",
      "712/712 [==============================] - 0s 27us/sample - loss: 0.1135 - accuracy: 0.8497\n",
      "Epoch 278/500\n",
      "712/712 [==============================] - 0s 28us/sample - loss: 0.1141 - accuracy: 0.8497\n",
      "Epoch 279/500\n",
      "712/712 [==============================] - 0s 28us/sample - loss: 0.1144 - accuracy: 0.8511\n",
      "Epoch 280/500\n",
      "712/712 [==============================] - 0s 25us/sample - loss: 0.1136 - accuracy: 0.8539\n",
      "Epoch 281/500\n",
      "712/712 [==============================] - 0s 25us/sample - loss: 0.1139 - accuracy: 0.8483\n",
      "Epoch 282/500\n",
      "712/712 [==============================] - 0s 25us/sample - loss: 0.1131 - accuracy: 0.8497\n",
      "Epoch 283/500\n",
      "712/712 [==============================] - 0s 29us/sample - loss: 0.1132 - accuracy: 0.8511\n",
      "Epoch 284/500\n",
      "712/712 [==============================] - 0s 27us/sample - loss: 0.1133 - accuracy: 0.8497\n",
      "Epoch 285/500\n",
      "712/712 [==============================] - 0s 29us/sample - loss: 0.1131 - accuracy: 0.8497\n",
      "Epoch 286/500\n",
      "712/712 [==============================] - 0s 27us/sample - loss: 0.1132 - accuracy: 0.8525\n",
      "Epoch 287/500\n",
      "712/712 [==============================] - 0s 25us/sample - loss: 0.1130 - accuracy: 0.8483\n",
      "Epoch 288/500\n",
      "712/712 [==============================] - 0s 28us/sample - loss: 0.1136 - accuracy: 0.8497\n",
      "Epoch 289/500\n",
      "712/712 [==============================] - 0s 25us/sample - loss: 0.1133 - accuracy: 0.8469\n",
      "Epoch 290/500\n",
      "712/712 [==============================] - 0s 24us/sample - loss: 0.1135 - accuracy: 0.8525\n",
      "Epoch 291/500\n",
      "712/712 [==============================] - 0s 25us/sample - loss: 0.1139 - accuracy: 0.8469\n",
      "Epoch 292/500\n",
      "712/712 [==============================] - 0s 24us/sample - loss: 0.1133 - accuracy: 0.8525\n",
      "Epoch 293/500\n",
      "712/712 [==============================] - 0s 25us/sample - loss: 0.1133 - accuracy: 0.8511\n",
      "Epoch 294/500\n",
      "712/712 [==============================] - 0s 24us/sample - loss: 0.1136 - accuracy: 0.8525\n",
      "Epoch 295/500\n",
      "712/712 [==============================] - 0s 25us/sample - loss: 0.1160 - accuracy: 0.8483\n",
      "Epoch 296/500\n",
      "712/712 [==============================] - 0s 24us/sample - loss: 0.1140 - accuracy: 0.8539\n",
      "Epoch 297/500\n",
      "712/712 [==============================] - 0s 22us/sample - loss: 0.1129 - accuracy: 0.8567\n",
      "Epoch 298/500\n",
      "712/712 [==============================] - 0s 25us/sample - loss: 0.1128 - accuracy: 0.8497\n",
      "Epoch 299/500\n",
      "712/712 [==============================] - 0s 31us/sample - loss: 0.1133 - accuracy: 0.8525\n",
      "Epoch 300/500\n",
      "712/712 [==============================] - 0s 28us/sample - loss: 0.1129 - accuracy: 0.8581\n",
      "Epoch 301/500\n",
      "712/712 [==============================] - 0s 22us/sample - loss: 0.1130 - accuracy: 0.8483\n",
      "Epoch 302/500\n",
      "712/712 [==============================] - 0s 25us/sample - loss: 0.1124 - accuracy: 0.8525\n",
      "Epoch 303/500\n",
      "712/712 [==============================] - 0s 27us/sample - loss: 0.1128 - accuracy: 0.8497\n",
      "Epoch 304/500\n",
      "712/712 [==============================] - 0s 28us/sample - loss: 0.1127 - accuracy: 0.8553\n",
      "Epoch 305/500\n",
      "712/712 [==============================] - 0s 25us/sample - loss: 0.1142 - accuracy: 0.8525\n",
      "Epoch 306/500\n",
      "712/712 [==============================] - 0s 28us/sample - loss: 0.1131 - accuracy: 0.8469\n",
      "Epoch 307/500\n",
      "712/712 [==============================] - 0s 24us/sample - loss: 0.1126 - accuracy: 0.8525\n",
      "Epoch 308/500\n",
      "712/712 [==============================] - 0s 25us/sample - loss: 0.1135 - accuracy: 0.8539\n",
      "Epoch 309/500\n",
      "712/712 [==============================] - 0s 25us/sample - loss: 0.1134 - accuracy: 0.8539\n",
      "Epoch 310/500\n"
     ]
    },
    {
     "name": "stdout",
     "output_type": "stream",
     "text": [
      "712/712 [==============================] - 0s 25us/sample - loss: 0.1119 - accuracy: 0.8581\n",
      "Epoch 311/500\n",
      "712/712 [==============================] - 0s 35us/sample - loss: 0.1134 - accuracy: 0.8497\n",
      "Epoch 312/500\n",
      "712/712 [==============================] - 0s 29us/sample - loss: 0.1135 - accuracy: 0.8511\n",
      "Epoch 313/500\n",
      "712/712 [==============================] - 0s 25us/sample - loss: 0.1123 - accuracy: 0.8539\n",
      "Epoch 314/500\n",
      "712/712 [==============================] - 0s 24us/sample - loss: 0.1136 - accuracy: 0.8525\n",
      "Epoch 315/500\n",
      "712/712 [==============================] - 0s 28us/sample - loss: 0.1122 - accuracy: 0.8539\n",
      "Epoch 316/500\n",
      "712/712 [==============================] - 0s 28us/sample - loss: 0.1121 - accuracy: 0.8525\n",
      "Epoch 317/500\n",
      "712/712 [==============================] - 0s 28us/sample - loss: 0.1130 - accuracy: 0.8525\n",
      "Epoch 318/500\n",
      "712/712 [==============================] - 0s 29us/sample - loss: 0.1125 - accuracy: 0.8511\n",
      "Epoch 319/500\n",
      "712/712 [==============================] - 0s 28us/sample - loss: 0.1120 - accuracy: 0.8567\n",
      "Epoch 320/500\n",
      "712/712 [==============================] - 0s 29us/sample - loss: 0.1130 - accuracy: 0.8539\n",
      "Epoch 321/500\n",
      "712/712 [==============================] - 0s 27us/sample - loss: 0.1121 - accuracy: 0.8511\n",
      "Epoch 322/500\n",
      "712/712 [==============================] - 0s 29us/sample - loss: 0.1124 - accuracy: 0.8525\n",
      "Epoch 323/500\n",
      "712/712 [==============================] - 0s 28us/sample - loss: 0.1124 - accuracy: 0.8567\n",
      "Epoch 324/500\n",
      "712/712 [==============================] - 0s 31us/sample - loss: 0.1123 - accuracy: 0.8553\n",
      "Epoch 325/500\n",
      "712/712 [==============================] - 0s 29us/sample - loss: 0.1122 - accuracy: 0.8539\n",
      "Epoch 326/500\n",
      "712/712 [==============================] - 0s 29us/sample - loss: 0.1148 - accuracy: 0.8455\n",
      "Epoch 327/500\n",
      "712/712 [==============================] - 0s 29us/sample - loss: 0.1160 - accuracy: 0.8469\n",
      "Epoch 328/500\n",
      "712/712 [==============================] - 0s 28us/sample - loss: 0.1124 - accuracy: 0.8539\n",
      "Epoch 329/500\n",
      "712/712 [==============================] - 0s 29us/sample - loss: 0.1126 - accuracy: 0.8497\n",
      "Epoch 330/500\n",
      "712/712 [==============================] - 0s 31us/sample - loss: 0.1128 - accuracy: 0.8539\n",
      "Epoch 331/500\n",
      "712/712 [==============================] - 0s 29us/sample - loss: 0.1135 - accuracy: 0.8455\n",
      "Epoch 332/500\n",
      "712/712 [==============================] - 0s 31us/sample - loss: 0.1119 - accuracy: 0.8525\n",
      "Epoch 333/500\n",
      "712/712 [==============================] - 0s 31us/sample - loss: 0.1116 - accuracy: 0.8539\n",
      "Epoch 334/500\n",
      "712/712 [==============================] - 0s 29us/sample - loss: 0.1125 - accuracy: 0.8525\n",
      "Epoch 335/500\n",
      "712/712 [==============================] - 0s 28us/sample - loss: 0.1127 - accuracy: 0.8497\n",
      "Epoch 336/500\n",
      "712/712 [==============================] - 0s 28us/sample - loss: 0.1123 - accuracy: 0.8525\n",
      "Epoch 337/500\n",
      "712/712 [==============================] - 0s 35us/sample - loss: 0.1122 - accuracy: 0.8553\n",
      "Epoch 338/500\n",
      "712/712 [==============================] - 0s 28us/sample - loss: 0.1120 - accuracy: 0.8581\n",
      "Epoch 339/500\n",
      "712/712 [==============================] - 0s 28us/sample - loss: 0.1123 - accuracy: 0.8567\n",
      "Epoch 340/500\n",
      "712/712 [==============================] - 0s 28us/sample - loss: 0.1116 - accuracy: 0.8539\n",
      "Epoch 341/500\n",
      "712/712 [==============================] - 0s 31us/sample - loss: 0.1114 - accuracy: 0.8483\n",
      "Epoch 342/500\n",
      "712/712 [==============================] - 0s 28us/sample - loss: 0.1116 - accuracy: 0.8553\n",
      "Epoch 343/500\n",
      "712/712 [==============================] - 0s 29us/sample - loss: 0.1120 - accuracy: 0.8497\n",
      "Epoch 344/500\n",
      "712/712 [==============================] - 0s 28us/sample - loss: 0.1115 - accuracy: 0.8525\n",
      "Epoch 345/500\n",
      "712/712 [==============================] - 0s 28us/sample - loss: 0.1117 - accuracy: 0.8539\n",
      "Epoch 346/500\n",
      "712/712 [==============================] - 0s 32us/sample - loss: 0.1121 - accuracy: 0.8511\n",
      "Epoch 347/500\n",
      "712/712 [==============================] - 0s 27us/sample - loss: 0.1110 - accuracy: 0.8596\n",
      "Epoch 348/500\n",
      "712/712 [==============================] - 0s 27us/sample - loss: 0.1117 - accuracy: 0.8539\n",
      "Epoch 349/500\n",
      "712/712 [==============================] - 0s 28us/sample - loss: 0.1112 - accuracy: 0.8525\n",
      "Epoch 350/500\n",
      "712/712 [==============================] - 0s 31us/sample - loss: 0.1113 - accuracy: 0.8567\n",
      "Epoch 351/500\n",
      "712/712 [==============================] - 0s 27us/sample - loss: 0.1110 - accuracy: 0.8581\n",
      "Epoch 352/500\n",
      "712/712 [==============================] - 0s 28us/sample - loss: 0.1122 - accuracy: 0.8539\n",
      "Epoch 353/500\n",
      "712/712 [==============================] - 0s 31us/sample - loss: 0.1119 - accuracy: 0.8511\n",
      "Epoch 354/500\n",
      "712/712 [==============================] - 0s 29us/sample - loss: 0.1112 - accuracy: 0.8525\n",
      "Epoch 355/500\n",
      "712/712 [==============================] - 0s 27us/sample - loss: 0.1108 - accuracy: 0.8525\n",
      "Epoch 356/500\n",
      "712/712 [==============================] - 0s 28us/sample - loss: 0.1108 - accuracy: 0.8539\n",
      "Epoch 357/500\n",
      "712/712 [==============================] - 0s 28us/sample - loss: 0.1114 - accuracy: 0.8553\n",
      "Epoch 358/500\n",
      "712/712 [==============================] - 0s 29us/sample - loss: 0.1111 - accuracy: 0.8581\n",
      "Epoch 359/500\n",
      "712/712 [==============================] - 0s 25us/sample - loss: 0.1116 - accuracy: 0.8511\n",
      "Epoch 360/500\n",
      "712/712 [==============================] - 0s 24us/sample - loss: 0.1106 - accuracy: 0.8511\n",
      "Epoch 361/500\n",
      "712/712 [==============================] - 0s 25us/sample - loss: 0.1112 - accuracy: 0.8553\n",
      "Epoch 362/500\n",
      "712/712 [==============================] - 0s 29us/sample - loss: 0.1113 - accuracy: 0.8511\n",
      "Epoch 363/500\n",
      "712/712 [==============================] - 0s 25us/sample - loss: 0.1115 - accuracy: 0.8525\n",
      "Epoch 364/500\n",
      "712/712 [==============================] - 0s 31us/sample - loss: 0.1109 - accuracy: 0.8525\n",
      "Epoch 365/500\n",
      "712/712 [==============================] - 0s 27us/sample - loss: 0.1110 - accuracy: 0.8567\n",
      "Epoch 366/500\n",
      "712/712 [==============================] - 0s 28us/sample - loss: 0.1113 - accuracy: 0.8581\n",
      "Epoch 367/500\n",
      "712/712 [==============================] - 0s 32us/sample - loss: 0.1106 - accuracy: 0.8525\n",
      "Epoch 368/500\n",
      "712/712 [==============================] - 0s 32us/sample - loss: 0.1111 - accuracy: 0.8539\n",
      "Epoch 369/500\n",
      "712/712 [==============================] - 0s 28us/sample - loss: 0.1119 - accuracy: 0.8596\n",
      "Epoch 370/500\n",
      "712/712 [==============================] - 0s 27us/sample - loss: 0.1102 - accuracy: 0.8525\n",
      "Epoch 371/500\n",
      "712/712 [==============================] - 0s 28us/sample - loss: 0.1119 - accuracy: 0.8511\n",
      "Epoch 372/500\n",
      "712/712 [==============================] - 0s 24us/sample - loss: 0.1105 - accuracy: 0.8525\n",
      "Epoch 373/500\n",
      "712/712 [==============================] - 0s 24us/sample - loss: 0.1107 - accuracy: 0.8581\n",
      "Epoch 374/500\n",
      "712/712 [==============================] - 0s 25us/sample - loss: 0.1104 - accuracy: 0.8553\n",
      "Epoch 375/500\n",
      "712/712 [==============================] - 0s 25us/sample - loss: 0.1107 - accuracy: 0.8596\n",
      "Epoch 376/500\n",
      "712/712 [==============================] - 0s 25us/sample - loss: 0.1111 - accuracy: 0.8525\n",
      "Epoch 377/500\n",
      "712/712 [==============================] - 0s 25us/sample - loss: 0.1105 - accuracy: 0.8539\n",
      "Epoch 378/500\n",
      "712/712 [==============================] - 0s 25us/sample - loss: 0.1109 - accuracy: 0.8525\n",
      "Epoch 379/500\n",
      "712/712 [==============================] - 0s 31us/sample - loss: 0.1117 - accuracy: 0.8539\n",
      "Epoch 380/500\n",
      "712/712 [==============================] - 0s 28us/sample - loss: 0.1106 - accuracy: 0.8581\n",
      "Epoch 381/500\n",
      "712/712 [==============================] - 0s 24us/sample - loss: 0.1112 - accuracy: 0.8511\n",
      "Epoch 382/500\n",
      "712/712 [==============================] - 0s 24us/sample - loss: 0.1120 - accuracy: 0.8525\n",
      "Epoch 383/500\n",
      "712/712 [==============================] - 0s 27us/sample - loss: 0.1111 - accuracy: 0.8525\n",
      "Epoch 384/500\n",
      "712/712 [==============================] - 0s 25us/sample - loss: 0.1100 - accuracy: 0.8539\n",
      "Epoch 385/500\n",
      "712/712 [==============================] - 0s 25us/sample - loss: 0.1108 - accuracy: 0.8553\n",
      "Epoch 386/500\n",
      "712/712 [==============================] - 0s 25us/sample - loss: 0.1104 - accuracy: 0.8539\n",
      "Epoch 387/500\n"
     ]
    },
    {
     "name": "stdout",
     "output_type": "stream",
     "text": [
      "712/712 [==============================] - 0s 27us/sample - loss: 0.1099 - accuracy: 0.8610\n",
      "Epoch 388/500\n",
      "712/712 [==============================] - 0s 27us/sample - loss: 0.1103 - accuracy: 0.8553\n",
      "Epoch 389/500\n",
      "712/712 [==============================] - 0s 27us/sample - loss: 0.1103 - accuracy: 0.8553\n",
      "Epoch 390/500\n",
      "712/712 [==============================] - 0s 28us/sample - loss: 0.1108 - accuracy: 0.8553\n",
      "Epoch 391/500\n",
      "712/712 [==============================] - 0s 28us/sample - loss: 0.1103 - accuracy: 0.8610\n",
      "Epoch 392/500\n",
      "712/712 [==============================] - 0s 31us/sample - loss: 0.1108 - accuracy: 0.8553\n",
      "Epoch 393/500\n",
      "712/712 [==============================] - 0s 28us/sample - loss: 0.1099 - accuracy: 0.8553\n",
      "Epoch 394/500\n",
      "712/712 [==============================] - 0s 31us/sample - loss: 0.1103 - accuracy: 0.8539\n",
      "Epoch 395/500\n",
      "712/712 [==============================] - 0s 29us/sample - loss: 0.1106 - accuracy: 0.8553\n",
      "Epoch 396/500\n",
      "712/712 [==============================] - 0s 31us/sample - loss: 0.1114 - accuracy: 0.8525\n",
      "Epoch 397/500\n",
      "712/712 [==============================] - 0s 34us/sample - loss: 0.1113 - accuracy: 0.8497\n",
      "Epoch 398/500\n",
      "712/712 [==============================] - 0s 37us/sample - loss: 0.1108 - accuracy: 0.8596\n",
      "Epoch 399/500\n",
      "712/712 [==============================] - 0s 34us/sample - loss: 0.1103 - accuracy: 0.8567\n",
      "Epoch 400/500\n",
      "712/712 [==============================] - 0s 35us/sample - loss: 0.1106 - accuracy: 0.8525\n",
      "Epoch 401/500\n",
      "712/712 [==============================] - 0s 34us/sample - loss: 0.1104 - accuracy: 0.8539\n",
      "Epoch 402/500\n",
      "712/712 [==============================] - 0s 35us/sample - loss: 0.1112 - accuracy: 0.8511\n",
      "Epoch 403/500\n",
      "712/712 [==============================] - 0s 32us/sample - loss: 0.1107 - accuracy: 0.8539\n",
      "Epoch 404/500\n",
      "712/712 [==============================] - 0s 29us/sample - loss: 0.1118 - accuracy: 0.8525\n",
      "Epoch 405/500\n",
      "712/712 [==============================] - 0s 27us/sample - loss: 0.1106 - accuracy: 0.8553\n",
      "Epoch 406/500\n",
      "712/712 [==============================] - 0s 27us/sample - loss: 0.1094 - accuracy: 0.8567\n",
      "Epoch 407/500\n",
      "712/712 [==============================] - 0s 27us/sample - loss: 0.1099 - accuracy: 0.8567\n",
      "Epoch 408/500\n",
      "712/712 [==============================] - 0s 27us/sample - loss: 0.1094 - accuracy: 0.8553\n",
      "Epoch 409/500\n",
      "712/712 [==============================] - 0s 25us/sample - loss: 0.1106 - accuracy: 0.8553\n",
      "Epoch 410/500\n",
      "712/712 [==============================] - 0s 27us/sample - loss: 0.1100 - accuracy: 0.8567\n",
      "Epoch 411/500\n",
      "712/712 [==============================] - 0s 28us/sample - loss: 0.1093 - accuracy: 0.8581\n",
      "Epoch 412/500\n",
      "712/712 [==============================] - 0s 29us/sample - loss: 0.1092 - accuracy: 0.8596\n",
      "Epoch 413/500\n",
      "712/712 [==============================] - 0s 25us/sample - loss: 0.1102 - accuracy: 0.8596\n",
      "Epoch 414/500\n",
      "712/712 [==============================] - 0s 27us/sample - loss: 0.1097 - accuracy: 0.8539\n",
      "Epoch 415/500\n",
      "712/712 [==============================] - 0s 34us/sample - loss: 0.1095 - accuracy: 0.8567\n",
      "Epoch 416/500\n",
      "712/712 [==============================] - 0s 28us/sample - loss: 0.1094 - accuracy: 0.8553\n",
      "Epoch 417/500\n",
      "712/712 [==============================] - 0s 28us/sample - loss: 0.1106 - accuracy: 0.8553\n",
      "Epoch 418/500\n",
      "712/712 [==============================] - 0s 28us/sample - loss: 0.1092 - accuracy: 0.8610\n",
      "Epoch 419/500\n",
      "712/712 [==============================] - 0s 28us/sample - loss: 0.1101 - accuracy: 0.8581\n",
      "Epoch 420/500\n",
      "712/712 [==============================] - 0s 29us/sample - loss: 0.1090 - accuracy: 0.8511\n",
      "Epoch 421/500\n",
      "712/712 [==============================] - 0s 31us/sample - loss: 0.1092 - accuracy: 0.8581\n",
      "Epoch 422/500\n",
      "712/712 [==============================] - 0s 27us/sample - loss: 0.1093 - accuracy: 0.8553\n",
      "Epoch 423/500\n",
      "712/712 [==============================] - 0s 27us/sample - loss: 0.1091 - accuracy: 0.8596\n",
      "Epoch 424/500\n",
      "712/712 [==============================] - 0s 29us/sample - loss: 0.1090 - accuracy: 0.8553\n",
      "Epoch 425/500\n",
      "712/712 [==============================] - 0s 35us/sample - loss: 0.1100 - accuracy: 0.8553\n",
      "Epoch 426/500\n",
      "712/712 [==============================] - 0s 31us/sample - loss: 0.1090 - accuracy: 0.8596\n",
      "Epoch 427/500\n",
      "712/712 [==============================] - 0s 28us/sample - loss: 0.1087 - accuracy: 0.8596\n",
      "Epoch 428/500\n",
      "712/712 [==============================] - 0s 28us/sample - loss: 0.1092 - accuracy: 0.8596\n",
      "Epoch 429/500\n",
      "712/712 [==============================] - 0s 28us/sample - loss: 0.1089 - accuracy: 0.8624\n",
      "Epoch 430/500\n",
      "712/712 [==============================] - 0s 29us/sample - loss: 0.1098 - accuracy: 0.8553\n",
      "Epoch 431/500\n",
      "712/712 [==============================] - 0s 28us/sample - loss: 0.1098 - accuracy: 0.8553\n",
      "Epoch 432/500\n",
      "712/712 [==============================] - 0s 31us/sample - loss: 0.1104 - accuracy: 0.8539\n",
      "Epoch 433/500\n",
      "712/712 [==============================] - 0s 31us/sample - loss: 0.1088 - accuracy: 0.8567\n",
      "Epoch 434/500\n",
      "712/712 [==============================] - 0s 27us/sample - loss: 0.1083 - accuracy: 0.8596\n",
      "Epoch 435/500\n",
      "712/712 [==============================] - 0s 28us/sample - loss: 0.1106 - accuracy: 0.8553\n",
      "Epoch 436/500\n",
      "712/712 [==============================] - 0s 29us/sample - loss: 0.1119 - accuracy: 0.8539\n",
      "Epoch 437/500\n",
      "712/712 [==============================] - 0s 28us/sample - loss: 0.1092 - accuracy: 0.8525\n",
      "Epoch 438/500\n",
      "712/712 [==============================] - 0s 32us/sample - loss: 0.1088 - accuracy: 0.8596\n",
      "Epoch 439/500\n",
      "712/712 [==============================] - 0s 29us/sample - loss: 0.1087 - accuracy: 0.8525\n",
      "Epoch 440/500\n",
      "712/712 [==============================] - 0s 27us/sample - loss: 0.1088 - accuracy: 0.8553\n",
      "Epoch 441/500\n",
      "712/712 [==============================] - 0s 28us/sample - loss: 0.1086 - accuracy: 0.8553\n",
      "Epoch 442/500\n",
      "712/712 [==============================] - 0s 31us/sample - loss: 0.1088 - accuracy: 0.8581\n",
      "Epoch 443/500\n",
      "712/712 [==============================] - 0s 27us/sample - loss: 0.1087 - accuracy: 0.8596\n",
      "Epoch 444/500\n",
      "712/712 [==============================] - 0s 29us/sample - loss: 0.1080 - accuracy: 0.8581\n",
      "Epoch 445/500\n",
      "712/712 [==============================] - 0s 24us/sample - loss: 0.1089 - accuracy: 0.8567\n",
      "Epoch 446/500\n",
      "712/712 [==============================] - 0s 27us/sample - loss: 0.1079 - accuracy: 0.8581\n",
      "Epoch 447/500\n",
      "712/712 [==============================] - 0s 28us/sample - loss: 0.1088 - accuracy: 0.8581\n",
      "Epoch 448/500\n",
      "712/712 [==============================] - 0s 25us/sample - loss: 0.1086 - accuracy: 0.8567\n",
      "Epoch 449/500\n",
      "712/712 [==============================] - 0s 29us/sample - loss: 0.1083 - accuracy: 0.8567\n",
      "Epoch 450/500\n",
      "712/712 [==============================] - 0s 24us/sample - loss: 0.1079 - accuracy: 0.8553\n",
      "Epoch 451/500\n",
      "712/712 [==============================] - 0s 24us/sample - loss: 0.1086 - accuracy: 0.8567\n",
      "Epoch 452/500\n",
      "712/712 [==============================] - 0s 22us/sample - loss: 0.1103 - accuracy: 0.8539\n",
      "Epoch 453/500\n",
      "712/712 [==============================] - 0s 24us/sample - loss: 0.1084 - accuracy: 0.8581\n",
      "Epoch 454/500\n",
      "712/712 [==============================] - 0s 27us/sample - loss: 0.1083 - accuracy: 0.8567\n",
      "Epoch 455/500\n",
      "712/712 [==============================] - 0s 25us/sample - loss: 0.1077 - accuracy: 0.8567\n",
      "Epoch 456/500\n",
      "712/712 [==============================] - 0s 24us/sample - loss: 0.1080 - accuracy: 0.8511\n",
      "Epoch 457/500\n",
      "712/712 [==============================] - 0s 24us/sample - loss: 0.1078 - accuracy: 0.8567\n",
      "Epoch 458/500\n",
      "712/712 [==============================] - 0s 25us/sample - loss: 0.1084 - accuracy: 0.8539\n",
      "Epoch 459/500\n",
      "712/712 [==============================] - 0s 25us/sample - loss: 0.1088 - accuracy: 0.8553\n",
      "Epoch 460/500\n",
      "712/712 [==============================] - 0s 28us/sample - loss: 0.1083 - accuracy: 0.8553\n",
      "Epoch 461/500\n",
      "712/712 [==============================] - 0s 25us/sample - loss: 0.1087 - accuracy: 0.8567\n",
      "Epoch 462/500\n",
      "712/712 [==============================] - 0s 28us/sample - loss: 0.1078 - accuracy: 0.8624\n",
      "Epoch 463/500\n",
      "712/712 [==============================] - 0s 28us/sample - loss: 0.1084 - accuracy: 0.8567\n",
      "Epoch 464/500\n"
     ]
    },
    {
     "name": "stdout",
     "output_type": "stream",
     "text": [
      "712/712 [==============================] - 0s 29us/sample - loss: 0.1080 - accuracy: 0.8596\n",
      "Epoch 465/500\n",
      "712/712 [==============================] - 0s 25us/sample - loss: 0.1074 - accuracy: 0.8567\n",
      "Epoch 466/500\n",
      "712/712 [==============================] - 0s 22us/sample - loss: 0.1095 - accuracy: 0.8610\n",
      "Epoch 467/500\n",
      "712/712 [==============================] - 0s 25us/sample - loss: 0.1080 - accuracy: 0.8581\n",
      "Epoch 468/500\n",
      "712/712 [==============================] - 0s 25us/sample - loss: 0.1077 - accuracy: 0.8553\n",
      "Epoch 469/500\n",
      "712/712 [==============================] - 0s 31us/sample - loss: 0.1086 - accuracy: 0.8610\n",
      "Epoch 470/500\n",
      "712/712 [==============================] - 0s 28us/sample - loss: 0.1074 - accuracy: 0.8596\n",
      "Epoch 471/500\n",
      "712/712 [==============================] - 0s 28us/sample - loss: 0.1074 - accuracy: 0.8553\n",
      "Epoch 472/500\n",
      "712/712 [==============================] - 0s 28us/sample - loss: 0.1090 - accuracy: 0.8553\n",
      "Epoch 473/500\n",
      "712/712 [==============================] - 0s 28us/sample - loss: 0.1076 - accuracy: 0.8553\n",
      "Epoch 474/500\n",
      "712/712 [==============================] - 0s 28us/sample - loss: 0.1079 - accuracy: 0.8553\n",
      "Epoch 475/500\n",
      "712/712 [==============================] - 0s 32us/sample - loss: 0.1078 - accuracy: 0.8539\n",
      "Epoch 476/500\n",
      "712/712 [==============================] - 0s 27us/sample - loss: 0.1084 - accuracy: 0.8596\n",
      "Epoch 477/500\n",
      "712/712 [==============================] - 0s 28us/sample - loss: 0.1082 - accuracy: 0.8539\n",
      "Epoch 478/500\n",
      "712/712 [==============================] - 0s 29us/sample - loss: 0.1099 - accuracy: 0.8596\n",
      "Epoch 479/500\n",
      "712/712 [==============================] - 0s 28us/sample - loss: 0.1078 - accuracy: 0.8652\n",
      "Epoch 480/500\n",
      "712/712 [==============================] - 0s 27us/sample - loss: 0.1076 - accuracy: 0.8610\n",
      "Epoch 481/500\n",
      "712/712 [==============================] - 0s 28us/sample - loss: 0.1075 - accuracy: 0.8638\n",
      "Epoch 482/500\n",
      "712/712 [==============================] - 0s 31us/sample - loss: 0.1071 - accuracy: 0.8596\n",
      "Epoch 483/500\n",
      "712/712 [==============================] - 0s 28us/sample - loss: 0.1091 - accuracy: 0.8596\n",
      "Epoch 484/500\n",
      "712/712 [==============================] - 0s 35us/sample - loss: 0.1082 - accuracy: 0.8567\n",
      "Epoch 485/500\n",
      "712/712 [==============================] - 0s 29us/sample - loss: 0.1082 - accuracy: 0.8610\n",
      "Epoch 486/500\n",
      "712/712 [==============================] - 0s 27us/sample - loss: 0.1071 - accuracy: 0.8610\n",
      "Epoch 487/500\n",
      "712/712 [==============================] - 0s 27us/sample - loss: 0.1071 - accuracy: 0.8539\n",
      "Epoch 488/500\n",
      "712/712 [==============================] - 0s 32us/sample - loss: 0.1070 - accuracy: 0.8610\n",
      "Epoch 489/500\n",
      "712/712 [==============================] - 0s 28us/sample - loss: 0.1085 - accuracy: 0.8581\n",
      "Epoch 490/500\n",
      "712/712 [==============================] - 0s 29us/sample - loss: 0.1071 - accuracy: 0.8567\n",
      "Epoch 491/500\n",
      "712/712 [==============================] - 0s 28us/sample - loss: 0.1075 - accuracy: 0.8596\n",
      "Epoch 492/500\n",
      "712/712 [==============================] - 0s 28us/sample - loss: 0.1070 - accuracy: 0.8553\n",
      "Epoch 493/500\n",
      "712/712 [==============================] - 0s 29us/sample - loss: 0.1068 - accuracy: 0.8567\n",
      "Epoch 494/500\n",
      "712/712 [==============================] - 0s 29us/sample - loss: 0.1074 - accuracy: 0.8596\n",
      "Epoch 495/500\n",
      "712/712 [==============================] - 0s 27us/sample - loss: 0.1065 - accuracy: 0.8596\n",
      "Epoch 496/500\n",
      "712/712 [==============================] - 0s 28us/sample - loss: 0.1068 - accuracy: 0.8624\n",
      "Epoch 497/500\n",
      "712/712 [==============================] - 0s 25us/sample - loss: 0.1065 - accuracy: 0.8553\n",
      "Epoch 498/500\n",
      "712/712 [==============================] - 0s 27us/sample - loss: 0.1064 - accuracy: 0.8553\n",
      "Epoch 499/500\n",
      "712/712 [==============================] - 0s 28us/sample - loss: 0.1062 - accuracy: 0.8539\n",
      "Epoch 500/500\n",
      "712/712 [==============================] - 0s 31us/sample - loss: 0.1074 - accuracy: 0.8596\n"
     ]
    },
    {
     "data": {
      "text/plain": [
       "<tensorflow.python.keras.callbacks.History at 0x20a84a802e8>"
      ]
     },
     "execution_count": 110,
     "metadata": {},
     "output_type": "execute_result"
    }
   ],
   "source": [
    "titanicModel.fit(x = x_train_keras, y = y_train_keras, epochs = 500, batch_size = 64)"
   ]
  },
  {
   "cell_type": "code",
   "execution_count": 111,
   "metadata": {},
   "outputs": [
    {
     "name": "stdout",
     "output_type": "stream",
     "text": [
      "179/179 [==============================] - 0s 285us/sample - loss: 0.1224 - accuracy: 0.8268\n"
     ]
    },
    {
     "data": {
      "text/plain": [
       "[0.12235137245841532, 0.82681566]"
      ]
     },
     "execution_count": 111,
     "metadata": {},
     "output_type": "execute_result"
    }
   ],
   "source": [
    "titanicModel.evaluate(x = x_test_keras, y= y_test_keras)"
   ]
  },
  {
   "cell_type": "markdown",
   "metadata": {},
   "source": []
  },
  {
   "cell_type": "code",
   "execution_count": null,
   "metadata": {},
   "outputs": [],
   "source": []
  },
  {
   "cell_type": "code",
   "execution_count": null,
   "metadata": {},
   "outputs": [],
   "source": []
  },
  {
   "cell_type": "code",
   "execution_count": null,
   "metadata": {},
   "outputs": [],
   "source": []
  },
  {
   "cell_type": "code",
   "execution_count": null,
   "metadata": {},
   "outputs": [],
   "source": []
  }
 ],
 "metadata": {
  "kernelspec": {
   "display_name": "Python 3",
   "language": "python",
   "name": "python3"
  },
  "language_info": {
   "codemirror_mode": {
    "name": "ipython",
    "version": 3
   },
   "file_extension": ".py",
   "mimetype": "text/x-python",
   "name": "python",
   "nbconvert_exporter": "python",
   "pygments_lexer": "ipython3",
   "version": "3.7.3"
  }
 },
 "nbformat": 4,
 "nbformat_minor": 2
}
